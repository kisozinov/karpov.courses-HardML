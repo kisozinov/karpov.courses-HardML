{
 "cells": [
  {
   "cell_type": "code",
   "execution_count": 1,
   "metadata": {},
   "outputs": [
    {
     "name": "stderr",
     "output_type": "stream",
     "text": [
      "[nltk_data] Downloading package punkt to /home/kisozinov/nltk_data...\n",
      "[nltk_data]   Package punkt is already up-to-date!\n"
     ]
    },
    {
     "data": {
      "text/plain": [
       "True"
      ]
     },
     "execution_count": 1,
     "metadata": {},
     "output_type": "execute_result"
    }
   ],
   "source": [
    "import nltk\n",
    "nltk.download('punkt')"
   ]
  },
  {
   "cell_type": "code",
   "execution_count": 1,
   "metadata": {},
   "outputs": [
    {
     "name": "stderr",
     "output_type": "stream",
     "text": [
      "/home/kisozinov/miniconda3/envs/kc_ranking/lib/python3.8/site-packages/tqdm/auto.py:21: TqdmWarning: IProgress not found. Please update jupyter and ipywidgets. See https://ipywidgets.readthedocs.io/en/stable/user_install.html\n",
      "  from .autonotebook import tqdm as notebook_tqdm\n"
     ]
    },
    {
     "name": "stdout",
     "output_type": "stream",
     "text": [
      "[[ 0.          0.          0.         ...  0.          0.\n",
      "   0.        ]\n",
      " [ 0.0195254   0.08607575  0.04110535 ... -0.14842948 -0.07382866\n",
      "  -0.05451569]\n",
      " [ 0.0195254   0.08607575  0.04110535 ... -0.14842948 -0.07382866\n",
      "  -0.05451569]\n",
      " ...\n",
      " [ 1.15279996 -0.42519999  1.11409998 ...  1.32869995  0.39070001\n",
      "   0.27316001]\n",
      " [-0.52465999  0.16655999 -0.63966    ... -1.04920006 -0.20412999\n",
      "   1.45570004]\n",
      " [ 0.0195254   0.08607575  0.04110535 ... -0.14842948 -0.07382866\n",
      "  -0.05451569]]\n",
      "Epoch 1/20, Loss: 0.7471\n",
      "Epoch 2/20, Loss: 0.7384\n",
      "Epoch 3/20, Loss: 0.7320\n",
      "Epoch 4/20, Loss: 0.7265\n",
      "Epoch 5/20, Loss: 0.7208\n",
      "Epoch 5/20, NDCG: 0.4654\n",
      "Epoch 6/20, Loss: 0.7157\n",
      "Epoch 7/20, Loss: 0.7113\n",
      "Epoch 8/20, Loss: 0.7071\n",
      "Epoch 9/20, Loss: 0.7027\n",
      "Epoch 10/20, Loss: 0.6994\n",
      "Epoch 10/20, NDCG: 0.5106\n",
      "Epoch 11/20, Loss: 0.6954\n",
      "Epoch 12/20, Loss: 0.6918\n",
      "Epoch 13/20, Loss: 0.6890\n",
      "Epoch 14/20, Loss: 0.6857\n",
      "Epoch 15/20, Loss: 0.6820\n",
      "Epoch 15/20, NDCG: 0.5586\n",
      "Epoch 16/20, Loss: 0.6799\n",
      "Epoch 17/20, Loss: 0.6764\n",
      "Epoch 18/20, Loss: 0.6733\n",
      "Epoch 19/20, Loss: 0.6710\n",
      "Epoch 20/20, Loss: 0.6685\n",
      "Epoch 20/20, NDCG: 0.6079\n",
      "Final metrics\n",
      "Epoch 20/20, NDCG: 0.6079\n"
     ]
    }
   ],
   "source": [
    "import torch\n",
    "import json\n",
    "from solution import Solution\n",
    "\n",
    "\n",
    "sol = Solution(\n",
    "    glue_qqp_dir=\"data/QQP/\",\n",
    "    glove_vectors_path=\"data/glove.6B.50d.txt\",\n",
    "    dataloader_bs=1024,\n",
    ")\n",
    "\n",
    "sol.train(n_epochs=20)\n",
    "\n",
    "torch.save(sol.model.mlp.state_dict(), 'mlp.pickle')\n",
    "torch.save(sol.model.embeddings.state_dict(), 'embeddings_knrm.pickle')\n",
    "json.dump(sol.vocab,\n",
    "          open('vocab.json', 'w', encoding='utf-8'),\n",
    "          ensure_ascii=False,\n",
    "          indent=4)"
   ]
  },
  {
   "cell_type": "code",
   "execution_count": null,
   "metadata": {},
   "outputs": [],
   "source": []
  }
 ],
 "metadata": {
  "kernelspec": {
   "display_name": "kc_ranking",
   "language": "python",
   "name": "python3"
  },
  "language_info": {
   "codemirror_mode": {
    "name": "ipython",
    "version": 3
   },
   "file_extension": ".py",
   "mimetype": "text/x-python",
   "name": "python",
   "nbconvert_exporter": "python",
   "pygments_lexer": "ipython3",
   "version": "3.8.20"
  }
 },
 "nbformat": 4,
 "nbformat_minor": 2
}
