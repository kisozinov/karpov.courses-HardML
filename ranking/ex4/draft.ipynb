{
 "cells": [
  {
   "cell_type": "code",
   "execution_count": null,
   "metadata": {},
   "outputs": [
    {
     "name": "stdout",
     "output_type": "stream",
     "text": [
      "Start Training\n",
      "  0%|          | 0/5 [00:00<?, ?trial/s, best loss=?]"
     ]
    },
    {
     "name": "stderr",
     "output_type": "stream",
     "text": [
      "/home/kisozinov/miniconda3/envs/kc/lib/python3.12/site-packages/tqdm/auto.py:21: TqdmWarning: IProgress not found. Please update jupyter and ipywidgets. See https://ipywidgets.readthedocs.io/en/stable/user_install.html\n",
      "  from .autonotebook import tqdm as notebook_tqdm\n",
      "  0%|          | 0/100 [00:00<?, ?it/s]\n"
     ]
    },
    {
     "name": "stdout",
     "output_type": "stream",
     "text": [
      "Tree 1/100, NDCG: 0.2793                             \n",
      "  0%|          | 0/5 [00:02<?, ?trial/s, best loss=?]"
     ]
    },
    {
     "name": "stderr",
     "output_type": "stream",
     "text": [
      "  1%|1         | 1/100 [00:00<00:28,  3.44it/s]\n"
     ]
    },
    {
     "name": "stdout",
     "output_type": "stream",
     "text": [
      "Tree 2/100, NDCG: 0.2597                             \n",
      "  0%|          | 0/5 [00:02<?, ?trial/s, best loss=?]"
     ]
    },
    {
     "name": "stderr",
     "output_type": "stream",
     "text": [
      "  2%|2         | 2/100 [00:00<00:25,  3.85it/s]\n"
     ]
    },
    {
     "name": "stdout",
     "output_type": "stream",
     "text": [
      "Tree 3/100, NDCG: 0.3245                             \n",
      "  0%|          | 0/5 [00:03<?, ?trial/s, best loss=?]"
     ]
    },
    {
     "name": "stderr",
     "output_type": "stream",
     "text": [
      "  3%|3         | 3/100 [00:01<00:40,  2.37it/s]\n"
     ]
    },
    {
     "name": "stdout",
     "output_type": "stream",
     "text": [
      "Tree 4/100, NDCG: 0.3197                             \n",
      "  0%|          | 0/5 [00:03<?, ?trial/s, best loss=?]"
     ]
    },
    {
     "name": "stderr",
     "output_type": "stream",
     "text": [
      "  4%|4         | 4/100 [00:01<00:33,  2.84it/s]\n"
     ]
    },
    {
     "name": "stdout",
     "output_type": "stream",
     "text": [
      "Tree 5/100, NDCG: 0.2966                             \n",
      "  0%|          | 0/5 [00:03<?, ?trial/s, best loss=?]"
     ]
    },
    {
     "name": "stderr",
     "output_type": "stream",
     "text": [
      "  5%|5         | 5/100 [00:01<00:31,  2.99it/s]\n"
     ]
    },
    {
     "name": "stdout",
     "output_type": "stream",
     "text": [
      "Tree 6/100, NDCG: 0.3024                             \n",
      "  0%|          | 0/5 [00:03<?, ?trial/s, best loss=?]"
     ]
    },
    {
     "name": "stderr",
     "output_type": "stream",
     "text": [
      "  6%|6         | 6/100 [00:01<00:25,  3.67it/s]\n"
     ]
    },
    {
     "name": "stdout",
     "output_type": "stream",
     "text": [
      "Tree 7/100, NDCG: 0.2942                             \n",
      "  0%|          | 0/5 [00:03<?, ?trial/s, best loss=?]"
     ]
    },
    {
     "name": "stderr",
     "output_type": "stream",
     "text": [
      "  7%|7         | 7/100 [00:01<00:21,  4.31it/s]\n"
     ]
    },
    {
     "name": "stdout",
     "output_type": "stream",
     "text": [
      "Tree 8/100, NDCG: 0.2994                             \n",
      "  0%|          | 0/5 [00:04<?, ?trial/s, best loss=?]"
     ]
    },
    {
     "name": "stderr",
     "output_type": "stream",
     "text": [
      "  8%|8         | 8/100 [00:02<00:18,  4.97it/s]\n"
     ]
    },
    {
     "name": "stdout",
     "output_type": "stream",
     "text": [
      "Tree 9/100, NDCG: 0.2994                             \n",
      "  0%|          | 0/5 [00:04<?, ?trial/s, best loss=?]"
     ]
    },
    {
     "name": "stderr",
     "output_type": "stream",
     "text": [
      "  9%|9         | 9/100 [00:02<00:17,  5.22it/s]\n"
     ]
    },
    {
     "name": "stdout",
     "output_type": "stream",
     "text": [
      "Tree 10/100, NDCG: 0.3016                            \n",
      "  0%|          | 0/5 [00:04<?, ?trial/s, best loss=?]"
     ]
    },
    {
     "name": "stderr",
     "output_type": "stream",
     "text": [
      " 10%|#         | 10/100 [00:02<00:15,  5.83it/s]\n"
     ]
    },
    {
     "name": "stdout",
     "output_type": "stream",
     "text": [
      "Tree 11/100, NDCG: 0.3060                            \n",
      "  0%|          | 0/5 [00:04<?, ?trial/s, best loss=?]"
     ]
    },
    {
     "name": "stderr",
     "output_type": "stream",
     "text": [
      " 11%|#1        | 11/100 [00:02<00:15,  5.64it/s]\n"
     ]
    },
    {
     "name": "stdout",
     "output_type": "stream",
     "text": [
      "Tree 12/100, NDCG: 0.3012                            \n",
      "  0%|          | 0/5 [00:04<?, ?trial/s, best loss=?]"
     ]
    },
    {
     "name": "stderr",
     "output_type": "stream",
     "text": [
      " 12%|#2        | 12/100 [00:02<00:14,  6.24it/s]\n"
     ]
    },
    {
     "name": "stdout",
     "output_type": "stream",
     "text": [
      "Tree 13/100, NDCG: 0.2972                            \n",
      "  0%|          | 0/5 [00:04<?, ?trial/s, best loss=?]"
     ]
    },
    {
     "name": "stderr",
     "output_type": "stream",
     "text": [
      " 13%|#3        | 13/100 [00:02<00:14,  6.09it/s]\n"
     ]
    },
    {
     "name": "stdout",
     "output_type": "stream",
     "text": [
      "Tree 14/100, NDCG: 0.3183                            \n",
      "  0%|          | 0/5 [00:04<?, ?trial/s, best loss=?]"
     ]
    },
    {
     "name": "stderr",
     "output_type": "stream",
     "text": [
      " 14%|#4        | 14/100 [00:03<00:13,  6.43it/s]\n"
     ]
    },
    {
     "name": "stdout",
     "output_type": "stream",
     "text": [
      "Tree 15/100, NDCG: 0.3140                            \n",
      "  0%|          | 0/5 [00:05<?, ?trial/s, best loss=?]"
     ]
    },
    {
     "name": "stderr",
     "output_type": "stream",
     "text": [
      " 15%|#5        | 15/100 [00:03<00:14,  5.92it/s]\n"
     ]
    },
    {
     "name": "stdout",
     "output_type": "stream",
     "text": [
      "Tree 16/100, NDCG: 0.3190                            \n",
      "  0%|          | 0/5 [00:05<?, ?trial/s, best loss=?]"
     ]
    },
    {
     "name": "stderr",
     "output_type": "stream",
     "text": [
      " 16%|#6        | 16/100 [00:03<00:13,  6.22it/s]\n"
     ]
    },
    {
     "name": "stdout",
     "output_type": "stream",
     "text": [
      "Tree 17/100, NDCG: 0.3089                            \n",
      "  0%|          | 0/5 [00:05<?, ?trial/s, best loss=?]"
     ]
    },
    {
     "name": "stderr",
     "output_type": "stream",
     "text": [
      " 17%|#7        | 17/100 [00:03<00:12,  6.59it/s]\n"
     ]
    },
    {
     "name": "stdout",
     "output_type": "stream",
     "text": [
      "Tree 18/100, NDCG: 0.3035                            \n",
      "  0%|          | 0/5 [00:05<?, ?trial/s, best loss=?]"
     ]
    },
    {
     "name": "stderr",
     "output_type": "stream",
     "text": [
      " 18%|#8        | 18/100 [00:03<00:11,  6.88it/s]\n"
     ]
    },
    {
     "name": "stdout",
     "output_type": "stream",
     "text": [
      "Tree 19/100, NDCG: 0.3030                            \n",
      "  0%|          | 0/5 [00:05<?, ?trial/s, best loss=?]"
     ]
    },
    {
     "name": "stderr",
     "output_type": "stream",
     "text": [
      " 19%|#9        | 19/100 [00:03<00:11,  7.02it/s]\n"
     ]
    },
    {
     "name": "stdout",
     "output_type": "stream",
     "text": [
      "Tree 20/100, NDCG: 0.3050                            \n",
      "  0%|          | 0/5 [00:05<?, ?trial/s, best loss=?]"
     ]
    },
    {
     "name": "stderr",
     "output_type": "stream",
     "text": [
      " 20%|##        | 20/100 [00:03<00:11,  7.10it/s]\n"
     ]
    },
    {
     "name": "stdout",
     "output_type": "stream",
     "text": [
      "Tree 21/100, NDCG: 0.3086                            \n",
      "  0%|          | 0/5 [00:06<?, ?trial/s, best loss=?]"
     ]
    },
    {
     "name": "stderr",
     "output_type": "stream",
     "text": [
      " 21%|##1       | 21/100 [00:04<00:11,  6.95it/s]\n"
     ]
    },
    {
     "name": "stdout",
     "output_type": "stream",
     "text": [
      "Tree 22/100, NDCG: 0.3147                            \n",
      "  0%|          | 0/5 [00:06<?, ?trial/s, best loss=?]"
     ]
    },
    {
     "name": "stderr",
     "output_type": "stream",
     "text": [
      " 22%|##2       | 22/100 [00:04<00:11,  7.08it/s]\n"
     ]
    },
    {
     "name": "stdout",
     "output_type": "stream",
     "text": [
      "Tree 23/100, NDCG: 0.3163                            \n",
      "  0%|          | 0/5 [00:06<?, ?trial/s, best loss=?]"
     ]
    },
    {
     "name": "stderr",
     "output_type": "stream",
     "text": [
      " 23%|##3       | 23/100 [00:04<00:11,  6.55it/s]\n"
     ]
    },
    {
     "name": "stdout",
     "output_type": "stream",
     "text": [
      "Tree 24/100, NDCG: 0.3165                            \n",
      "  0%|          | 0/5 [00:06<?, ?trial/s, best loss=?]"
     ]
    },
    {
     "name": "stderr",
     "output_type": "stream",
     "text": [
      " 24%|##4       | 24/100 [00:04<00:11,  6.76it/s]\n"
     ]
    },
    {
     "name": "stdout",
     "output_type": "stream",
     "text": [
      "Tree 25/100, NDCG: 0.3184                            \n",
      "  0%|          | 0/5 [00:06<?, ?trial/s, best loss=?]"
     ]
    },
    {
     "name": "stderr",
     "output_type": "stream",
     "text": [
      " 25%|##5       | 25/100 [00:04<00:10,  6.96it/s]\n"
     ]
    },
    {
     "name": "stdout",
     "output_type": "stream",
     "text": [
      "Tree 26/100, NDCG: 0.3320                            \n",
      "  0%|          | 0/5 [00:06<?, ?trial/s, best loss=?]"
     ]
    },
    {
     "name": "stderr",
     "output_type": "stream",
     "text": [
      " 26%|##6       | 26/100 [00:04<00:10,  7.18it/s]\n"
     ]
    },
    {
     "name": "stdout",
     "output_type": "stream",
     "text": [
      "Tree 27/100, NDCG: 0.3413                            \n",
      "  0%|          | 0/5 [00:06<?, ?trial/s, best loss=?]"
     ]
    },
    {
     "name": "stderr",
     "output_type": "stream",
     "text": [
      " 27%|##7       | 27/100 [00:04<00:10,  7.09it/s]\n"
     ]
    },
    {
     "name": "stdout",
     "output_type": "stream",
     "text": [
      "Tree 28/100, NDCG: 0.3358                            \n",
      "  0%|          | 0/5 [00:07<?, ?trial/s, best loss=?]"
     ]
    },
    {
     "name": "stderr",
     "output_type": "stream",
     "text": [
      " 28%|##8       | 28/100 [00:05<00:10,  6.58it/s]\n"
     ]
    },
    {
     "name": "stdout",
     "output_type": "stream",
     "text": [
      "Tree 29/100, NDCG: 0.3326                            \n",
      "  0%|          | 0/5 [00:07<?, ?trial/s, best loss=?]"
     ]
    },
    {
     "name": "stderr",
     "output_type": "stream",
     "text": [
      " 29%|##9       | 29/100 [00:05<00:12,  5.92it/s]\n"
     ]
    },
    {
     "name": "stdout",
     "output_type": "stream",
     "text": [
      "Tree 30/100, NDCG: 0.3314                            \n",
      "  0%|          | 0/5 [00:07<?, ?trial/s, best loss=?]"
     ]
    },
    {
     "name": "stderr",
     "output_type": "stream",
     "text": [
      " 30%|###       | 30/100 [00:05<00:11,  6.09it/s]\n"
     ]
    },
    {
     "name": "stdout",
     "output_type": "stream",
     "text": [
      "Tree 31/100, NDCG: 0.3309                            \n",
      "  0%|          | 0/5 [00:07<?, ?trial/s, best loss=?]"
     ]
    },
    {
     "name": "stderr",
     "output_type": "stream",
     "text": [
      " 31%|###1      | 31/100 [00:05<00:11,  5.84it/s]\n"
     ]
    },
    {
     "name": "stdout",
     "output_type": "stream",
     "text": [
      "Tree 32/100, NDCG: 0.3326                            \n",
      "  0%|          | 0/5 [00:07<?, ?trial/s, best loss=?]"
     ]
    },
    {
     "name": "stderr",
     "output_type": "stream",
     "text": [
      " 32%|###2      | 32/100 [00:05<00:10,  6.26it/s]\n"
     ]
    },
    {
     "name": "stdout",
     "output_type": "stream",
     "text": [
      "Tree 33/100, NDCG: 0.3329                            \n",
      "  0%|          | 0/5 [00:07<?, ?trial/s, best loss=?]"
     ]
    },
    {
     "name": "stderr",
     "output_type": "stream",
     "text": [
      " 33%|###3      | 33/100 [00:05<00:11,  6.00it/s]\n"
     ]
    },
    {
     "name": "stdout",
     "output_type": "stream",
     "text": [
      "Tree 34/100, NDCG: 0.3389                            \n",
      "  0%|          | 0/5 [00:08<?, ?trial/s, best loss=?]"
     ]
    },
    {
     "name": "stderr",
     "output_type": "stream",
     "text": [
      " 34%|###4      | 34/100 [00:06<00:10,  6.37it/s]\n"
     ]
    },
    {
     "name": "stdout",
     "output_type": "stream",
     "text": [
      "Tree 35/100, NDCG: 0.3374                            \n",
      "  0%|          | 0/5 [00:08<?, ?trial/s, best loss=?]"
     ]
    },
    {
     "name": "stderr",
     "output_type": "stream",
     "text": [
      " 35%|###5      | 35/100 [00:06<00:11,  5.51it/s]\n"
     ]
    },
    {
     "name": "stdout",
     "output_type": "stream",
     "text": [
      "Tree 36/100, NDCG: 0.3386                            \n",
      "  0%|          | 0/5 [00:08<?, ?trial/s, best loss=?]"
     ]
    },
    {
     "name": "stderr",
     "output_type": "stream",
     "text": [
      " 36%|###6      | 36/100 [00:06<00:11,  5.59it/s]\n"
     ]
    },
    {
     "name": "stdout",
     "output_type": "stream",
     "text": [
      "Tree 37/100, NDCG: 0.3348                            \n",
      "  0%|          | 0/5 [00:08<?, ?trial/s, best loss=?]"
     ]
    },
    {
     "name": "stderr",
     "output_type": "stream",
     "text": [
      " 37%|###7      | 37/100 [00:06<00:10,  5.81it/s]\n"
     ]
    },
    {
     "name": "stdout",
     "output_type": "stream",
     "text": [
      "Tree 38/100, NDCG: 0.3372                            \n",
      "  0%|          | 0/5 [00:08<?, ?trial/s, best loss=?]"
     ]
    },
    {
     "name": "stderr",
     "output_type": "stream",
     "text": [
      " 38%|###8      | 38/100 [00:06<00:10,  5.71it/s]\n"
     ]
    },
    {
     "name": "stdout",
     "output_type": "stream",
     "text": [
      "Tree 39/100, NDCG: 0.3373                            \n",
      "  0%|          | 0/5 [00:08<?, ?trial/s, best loss=?]"
     ]
    },
    {
     "name": "stderr",
     "output_type": "stream",
     "text": [
      " 39%|###9      | 39/100 [00:07<00:10,  6.05it/s]\n"
     ]
    },
    {
     "name": "stdout",
     "output_type": "stream",
     "text": [
      "Tree 40/100, NDCG: 0.3346                            \n",
      "  0%|          | 0/5 [00:09<?, ?trial/s, best loss=?]"
     ]
    },
    {
     "name": "stderr",
     "output_type": "stream",
     "text": [
      " 40%|####      | 40/100 [00:07<00:10,  5.68it/s]\n"
     ]
    },
    {
     "name": "stdout",
     "output_type": "stream",
     "text": [
      "Tree 41/100, NDCG: 0.3312                            \n",
      "  0%|          | 0/5 [00:09<?, ?trial/s, best loss=?]"
     ]
    },
    {
     "name": "stderr",
     "output_type": "stream",
     "text": [
      " 41%|####1     | 41/100 [00:07<00:09,  6.09it/s]\n"
     ]
    },
    {
     "name": "stdout",
     "output_type": "stream",
     "text": [
      "Tree 42/100, NDCG: 0.3280                            \n",
      "  0%|          | 0/5 [00:09<?, ?trial/s, best loss=?]"
     ]
    },
    {
     "name": "stderr",
     "output_type": "stream",
     "text": [
      " 42%|####2     | 42/100 [00:07<00:08,  6.45it/s]\n"
     ]
    },
    {
     "name": "stdout",
     "output_type": "stream",
     "text": [
      "Tree 43/100, NDCG: 0.3279                            \n",
      "  0%|          | 0/5 [00:09<?, ?trial/s, best loss=?]"
     ]
    },
    {
     "name": "stderr",
     "output_type": "stream",
     "text": [
      " 43%|####3     | 43/100 [00:07<00:08,  6.68it/s]\n"
     ]
    },
    {
     "name": "stdout",
     "output_type": "stream",
     "text": [
      "Tree 44/100, NDCG: 0.3293                            \n",
      "  0%|          | 0/5 [00:09<?, ?trial/s, best loss=?]"
     ]
    },
    {
     "name": "stderr",
     "output_type": "stream",
     "text": [
      " 44%|####4     | 44/100 [00:07<00:08,  6.46it/s]\n"
     ]
    },
    {
     "name": "stdout",
     "output_type": "stream",
     "text": [
      "Tree 45/100, NDCG: 0.3314                            \n",
      "  0%|          | 0/5 [00:09<?, ?trial/s, best loss=?]"
     ]
    },
    {
     "name": "stderr",
     "output_type": "stream",
     "text": [
      " 45%|####5     | 45/100 [00:07<00:08,  6.26it/s]\n"
     ]
    },
    {
     "name": "stdout",
     "output_type": "stream",
     "text": [
      "Tree 46/100, NDCG: 0.3321                            \n",
      "  0%|          | 0/5 [00:10<?, ?trial/s, best loss=?]"
     ]
    },
    {
     "name": "stderr",
     "output_type": "stream",
     "text": [
      " 46%|####6     | 46/100 [00:08<00:08,  6.57it/s]\n"
     ]
    },
    {
     "name": "stdout",
     "output_type": "stream",
     "text": [
      "Tree 47/100, NDCG: 0.3319                            \n",
      "  0%|          | 0/5 [00:10<?, ?trial/s, best loss=?]"
     ]
    },
    {
     "name": "stderr",
     "output_type": "stream",
     "text": [
      " 47%|####6     | 47/100 [00:08<00:08,  6.20it/s]\n"
     ]
    },
    {
     "name": "stdout",
     "output_type": "stream",
     "text": [
      "Tree 48/100, NDCG: 0.3344                            \n",
      "  0%|          | 0/5 [00:10<?, ?trial/s, best loss=?]"
     ]
    },
    {
     "name": "stderr",
     "output_type": "stream",
     "text": [
      " 48%|####8     | 48/100 [00:08<00:08,  6.40it/s]\n"
     ]
    },
    {
     "name": "stdout",
     "output_type": "stream",
     "text": [
      "Tree 49/100, NDCG: 0.3325                            \n",
      "  0%|          | 0/5 [00:10<?, ?trial/s, best loss=?]"
     ]
    },
    {
     "name": "stderr",
     "output_type": "stream",
     "text": [
      " 49%|####9     | 49/100 [00:08<00:07,  6.70it/s]\n"
     ]
    },
    {
     "name": "stdout",
     "output_type": "stream",
     "text": [
      "Tree 50/100, NDCG: 0.3333                            \n",
      "  0%|          | 0/5 [00:10<?, ?trial/s, best loss=?]"
     ]
    },
    {
     "name": "stderr",
     "output_type": "stream",
     "text": [
      " 50%|#####     | 50/100 [00:08<00:07,  6.84it/s]\n"
     ]
    },
    {
     "name": "stdout",
     "output_type": "stream",
     "text": [
      "Tree 51/100, NDCG: 0.3347                            \n",
      "  0%|          | 0/5 [00:10<?, ?trial/s, best loss=?]"
     ]
    },
    {
     "name": "stderr",
     "output_type": "stream",
     "text": [
      " 51%|#####1    | 51/100 [00:08<00:08,  5.96it/s]\n"
     ]
    },
    {
     "name": "stdout",
     "output_type": "stream",
     "text": [
      "Tree 52/100, NDCG: 0.3371                            \n",
      "  0%|          | 0/5 [00:10<?, ?trial/s, best loss=?]"
     ]
    },
    {
     "name": "stderr",
     "output_type": "stream",
     "text": [
      " 52%|#####2    | 52/100 [00:09<00:07,  6.21it/s]\n"
     ]
    },
    {
     "name": "stdout",
     "output_type": "stream",
     "text": [
      "Tree 53/100, NDCG: 0.3425                            \n",
      "  0%|          | 0/5 [00:11<?, ?trial/s, best loss=?]"
     ]
    },
    {
     "name": "stderr",
     "output_type": "stream",
     "text": [
      " 53%|#####3    | 53/100 [00:09<00:07,  5.88it/s]\n"
     ]
    },
    {
     "name": "stdout",
     "output_type": "stream",
     "text": [
      "Tree 54/100, NDCG: 0.3415                            \n",
      "  0%|          | 0/5 [00:11<?, ?trial/s, best loss=?]"
     ]
    },
    {
     "name": "stderr",
     "output_type": "stream",
     "text": [
      " 54%|#####4    | 54/100 [00:09<00:07,  6.25it/s]\n"
     ]
    },
    {
     "name": "stdout",
     "output_type": "stream",
     "text": [
      "Tree 55/100, NDCG: 0.3370                            \n",
      "  0%|          | 0/5 [00:11<?, ?trial/s, best loss=?]"
     ]
    },
    {
     "name": "stderr",
     "output_type": "stream",
     "text": [
      " 55%|#####5    | 55/100 [00:09<00:07,  6.18it/s]\n"
     ]
    },
    {
     "name": "stdout",
     "output_type": "stream",
     "text": [
      "Tree 56/100, NDCG: 0.3378                            \n",
      "  0%|          | 0/5 [00:11<?, ?trial/s, best loss=?]"
     ]
    },
    {
     "name": "stderr",
     "output_type": "stream",
     "text": [
      " 56%|#####6    | 56/100 [00:09<00:06,  6.51it/s]\n"
     ]
    },
    {
     "name": "stdout",
     "output_type": "stream",
     "text": [
      "Tree 57/100, NDCG: 0.3390                            \n",
      "  0%|          | 0/5 [00:11<?, ?trial/s, best loss=?]"
     ]
    },
    {
     "name": "stderr",
     "output_type": "stream",
     "text": [
      " 57%|#####6    | 57/100 [00:09<00:06,  6.31it/s]\n"
     ]
    },
    {
     "name": "stdout",
     "output_type": "stream",
     "text": [
      "Tree 58/100, NDCG: 0.3386                            \n",
      "  0%|          | 0/5 [00:11<?, ?trial/s, best loss=?]"
     ]
    },
    {
     "name": "stderr",
     "output_type": "stream",
     "text": [
      " 58%|#####8    | 58/100 [00:09<00:06,  6.56it/s]\n"
     ]
    },
    {
     "name": "stdout",
     "output_type": "stream",
     "text": [
      "Tree 59/100, NDCG: 0.3364                            \n",
      "  0%|          | 0/5 [00:12<?, ?trial/s, best loss=?]"
     ]
    },
    {
     "name": "stderr",
     "output_type": "stream",
     "text": [
      " 59%|#####8    | 59/100 [00:10<00:06,  6.27it/s]\n"
     ]
    },
    {
     "name": "stdout",
     "output_type": "stream",
     "text": [
      "Tree 60/100, NDCG: 0.3340                            \n",
      "  0%|          | 0/5 [00:12<?, ?trial/s, best loss=?]"
     ]
    },
    {
     "name": "stderr",
     "output_type": "stream",
     "text": [
      " 60%|######    | 60/100 [00:10<00:06,  6.60it/s]\n"
     ]
    },
    {
     "name": "stdout",
     "output_type": "stream",
     "text": [
      "Tree 61/100, NDCG: 0.3368                            \n",
      "  0%|          | 0/5 [00:12<?, ?trial/s, best loss=?]"
     ]
    },
    {
     "name": "stderr",
     "output_type": "stream",
     "text": [
      " 61%|######1   | 61/100 [00:10<00:06,  6.29it/s]\n"
     ]
    },
    {
     "name": "stdout",
     "output_type": "stream",
     "text": [
      "Tree 62/100, NDCG: 0.3346                            \n",
      "  0%|          | 0/5 [00:12<?, ?trial/s, best loss=?]"
     ]
    },
    {
     "name": "stderr",
     "output_type": "stream",
     "text": [
      " 62%|######2   | 62/100 [00:10<00:05,  6.44it/s]\n"
     ]
    },
    {
     "name": "stdout",
     "output_type": "stream",
     "text": [
      "Tree 63/100, NDCG: 0.3362                            \n",
      "  0%|          | 0/5 [00:12<?, ?trial/s, best loss=?]"
     ]
    },
    {
     "name": "stderr",
     "output_type": "stream",
     "text": [
      " 63%|######3   | 63/100 [00:10<00:06,  6.16it/s]\n"
     ]
    },
    {
     "name": "stdout",
     "output_type": "stream",
     "text": [
      "Tree 64/100, NDCG: 0.3388                            \n",
      "  0%|          | 0/5 [00:12<?, ?trial/s, best loss=?]"
     ]
    },
    {
     "name": "stderr",
     "output_type": "stream",
     "text": [
      " 64%|######4   | 64/100 [00:10<00:05,  6.26it/s]\n"
     ]
    },
    {
     "name": "stdout",
     "output_type": "stream",
     "text": [
      "Tree 65/100, NDCG: 0.3350                            \n",
      "  0%|          | 0/5 [00:13<?, ?trial/s, best loss=?]"
     ]
    },
    {
     "name": "stderr",
     "output_type": "stream",
     "text": [
      " 65%|######5   | 65/100 [00:11<00:05,  6.21it/s]\n"
     ]
    },
    {
     "name": "stdout",
     "output_type": "stream",
     "text": [
      "Tree 66/100, NDCG: 0.3382                            \n",
      "  0%|          | 0/5 [00:13<?, ?trial/s, best loss=?]"
     ]
    },
    {
     "name": "stderr",
     "output_type": "stream",
     "text": [
      " 66%|######6   | 66/100 [00:11<00:05,  6.46it/s]\n"
     ]
    },
    {
     "name": "stdout",
     "output_type": "stream",
     "text": [
      "Tree 67/100, NDCG: 0.3395                            \n",
      "  0%|          | 0/5 [00:13<?, ?trial/s, best loss=?]"
     ]
    },
    {
     "name": "stderr",
     "output_type": "stream",
     "text": [
      " 67%|######7   | 67/100 [00:11<00:05,  6.57it/s]\n"
     ]
    },
    {
     "name": "stdout",
     "output_type": "stream",
     "text": [
      "Tree 68/100, NDCG: 0.3388                            \n",
      "  0%|          | 0/5 [00:13<?, ?trial/s, best loss=?]"
     ]
    },
    {
     "name": "stderr",
     "output_type": "stream",
     "text": [
      " 68%|######8   | 68/100 [00:11<00:04,  6.94it/s]\n"
     ]
    },
    {
     "name": "stdout",
     "output_type": "stream",
     "text": [
      "Tree 69/100, NDCG: 0.3430                            \n",
      "  0%|          | 0/5 [00:13<?, ?trial/s, best loss=?]"
     ]
    },
    {
     "name": "stderr",
     "output_type": "stream",
     "text": [
      " 69%|######9   | 69/100 [00:11<00:04,  7.02it/s]\n"
     ]
    },
    {
     "name": "stdout",
     "output_type": "stream",
     "text": [
      "Tree 70/100, NDCG: 0.3439                            \n",
      "  0%|          | 0/5 [00:13<?, ?trial/s, best loss=?]"
     ]
    },
    {
     "name": "stderr",
     "output_type": "stream",
     "text": [
      " 70%|#######   | 70/100 [00:11<00:04,  7.23it/s]\n"
     ]
    },
    {
     "name": "stdout",
     "output_type": "stream",
     "text": [
      "Tree 71/100, NDCG: 0.3472                            \n",
      "  0%|          | 0/5 [00:13<?, ?trial/s, best loss=?]"
     ]
    },
    {
     "name": "stderr",
     "output_type": "stream",
     "text": [
      " 71%|#######1  | 71/100 [00:11<00:03,  7.27it/s]\n"
     ]
    },
    {
     "name": "stdout",
     "output_type": "stream",
     "text": [
      "Tree 72/100, NDCG: 0.3484                            \n",
      "  0%|          | 0/5 [00:13<?, ?trial/s, best loss=?]"
     ]
    },
    {
     "name": "stderr",
     "output_type": "stream",
     "text": [
      " 72%|#######2  | 72/100 [00:12<00:03,  7.27it/s]\n"
     ]
    },
    {
     "name": "stdout",
     "output_type": "stream",
     "text": [
      "Tree 73/100, NDCG: 0.3462                            \n",
      "  0%|          | 0/5 [00:14<?, ?trial/s, best loss=?]"
     ]
    },
    {
     "name": "stderr",
     "output_type": "stream",
     "text": [
      " 73%|#######3  | 73/100 [00:12<00:03,  7.20it/s]\n"
     ]
    },
    {
     "name": "stdout",
     "output_type": "stream",
     "text": [
      "Tree 74/100, NDCG: 0.3461                            \n",
      "  0%|          | 0/5 [00:14<?, ?trial/s, best loss=?]"
     ]
    },
    {
     "name": "stderr",
     "output_type": "stream",
     "text": [
      " 74%|#######4  | 74/100 [00:12<00:03,  7.17it/s]\n"
     ]
    },
    {
     "name": "stdout",
     "output_type": "stream",
     "text": [
      "Tree 75/100, NDCG: 0.3494                            \n",
      "  0%|          | 0/5 [00:14<?, ?trial/s, best loss=?]"
     ]
    },
    {
     "name": "stderr",
     "output_type": "stream",
     "text": [
      " 75%|#######5  | 75/100 [00:12<00:03,  7.25it/s]\n"
     ]
    },
    {
     "name": "stdout",
     "output_type": "stream",
     "text": [
      "Tree 76/100, NDCG: 0.3491                            \n",
      "  0%|          | 0/5 [00:14<?, ?trial/s, best loss=?]"
     ]
    },
    {
     "name": "stderr",
     "output_type": "stream",
     "text": [
      " 76%|#######6  | 76/100 [00:12<00:03,  7.36it/s]\n"
     ]
    },
    {
     "name": "stdout",
     "output_type": "stream",
     "text": [
      "Tree 77/100, NDCG: 0.3462                            \n",
      "  0%|          | 0/5 [00:14<?, ?trial/s, best loss=?]"
     ]
    },
    {
     "name": "stderr",
     "output_type": "stream",
     "text": [
      " 77%|#######7  | 77/100 [00:12<00:03,  5.93it/s]\n"
     ]
    },
    {
     "name": "stdout",
     "output_type": "stream",
     "text": [
      "Tree 78/100, NDCG: 0.3463                            \n",
      "  0%|          | 0/5 [00:14<?, ?trial/s, best loss=?]"
     ]
    },
    {
     "name": "stderr",
     "output_type": "stream",
     "text": [
      " 78%|#######8  | 78/100 [00:12<00:03,  6.36it/s]\n"
     ]
    },
    {
     "name": "stdout",
     "output_type": "stream",
     "text": [
      "Tree 79/100, NDCG: 0.3489                            \n",
      "  0%|          | 0/5 [00:15<?, ?trial/s, best loss=?]"
     ]
    },
    {
     "name": "stderr",
     "output_type": "stream",
     "text": [
      " 79%|#######9  | 79/100 [00:13<00:03,  5.70it/s]\n"
     ]
    },
    {
     "name": "stdout",
     "output_type": "stream",
     "text": [
      "Tree 80/100, NDCG: 0.3543                            \n",
      "  0%|          | 0/5 [00:15<?, ?trial/s, best loss=?]"
     ]
    },
    {
     "name": "stderr",
     "output_type": "stream",
     "text": [
      " 80%|########  | 80/100 [00:13<00:03,  5.92it/s]\n"
     ]
    },
    {
     "name": "stdout",
     "output_type": "stream",
     "text": [
      "Tree 81/100, NDCG: 0.3533                            \n",
      "  0%|          | 0/5 [00:15<?, ?trial/s, best loss=?]"
     ]
    },
    {
     "name": "stderr",
     "output_type": "stream",
     "text": [
      " 81%|########1 | 81/100 [00:13<00:03,  6.11it/s]\n"
     ]
    },
    {
     "name": "stdout",
     "output_type": "stream",
     "text": [
      "Tree 82/100, NDCG: 0.3511                            \n",
      "  0%|          | 0/5 [00:15<?, ?trial/s, best loss=?]"
     ]
    },
    {
     "name": "stderr",
     "output_type": "stream",
     "text": [
      " 82%|########2 | 82/100 [00:13<00:02,  6.39it/s]\n"
     ]
    },
    {
     "name": "stdout",
     "output_type": "stream",
     "text": [
      "Tree 83/100, NDCG: 0.3487                            \n",
      "  0%|          | 0/5 [00:15<?, ?trial/s, best loss=?]"
     ]
    },
    {
     "name": "stderr",
     "output_type": "stream",
     "text": [
      " 83%|########2 | 83/100 [00:13<00:02,  6.25it/s]\n"
     ]
    },
    {
     "name": "stdout",
     "output_type": "stream",
     "text": [
      "Tree 84/100, NDCG: 0.3524                            \n",
      "  0%|          | 0/5 [00:15<?, ?trial/s, best loss=?]"
     ]
    },
    {
     "name": "stderr",
     "output_type": "stream",
     "text": [
      " 84%|########4 | 84/100 [00:13<00:02,  6.54it/s]\n"
     ]
    },
    {
     "name": "stdout",
     "output_type": "stream",
     "text": [
      "Tree 85/100, NDCG: 0.3514                            \n",
      "  0%|          | 0/5 [00:16<?, ?trial/s, best loss=?]"
     ]
    },
    {
     "name": "stderr",
     "output_type": "stream",
     "text": [
      " 85%|########5 | 85/100 [00:14<00:02,  6.19it/s]\n"
     ]
    },
    {
     "name": "stdout",
     "output_type": "stream",
     "text": [
      "Tree 86/100, NDCG: 0.3546                            \n",
      "  0%|          | 0/5 [00:16<?, ?trial/s, best loss=?]"
     ]
    },
    {
     "name": "stderr",
     "output_type": "stream",
     "text": [
      " 86%|########6 | 86/100 [00:14<00:02,  6.55it/s]\n"
     ]
    },
    {
     "name": "stdout",
     "output_type": "stream",
     "text": [
      "Tree 87/100, NDCG: 0.3555                            \n",
      "  0%|          | 0/5 [00:16<?, ?trial/s, best loss=?]"
     ]
    },
    {
     "name": "stderr",
     "output_type": "stream",
     "text": [
      " 87%|########7 | 87/100 [00:14<00:02,  6.35it/s]\n"
     ]
    },
    {
     "name": "stdout",
     "output_type": "stream",
     "text": [
      "Tree 88/100, NDCG: 0.3573                            \n",
      "  0%|          | 0/5 [00:16<?, ?trial/s, best loss=?]"
     ]
    },
    {
     "name": "stderr",
     "output_type": "stream",
     "text": [
      " 88%|########8 | 88/100 [00:14<00:01,  6.72it/s]\n"
     ]
    },
    {
     "name": "stdout",
     "output_type": "stream",
     "text": [
      "Tree 89/100, NDCG: 0.3558                            \n",
      "  0%|          | 0/5 [00:16<?, ?trial/s, best loss=?]"
     ]
    },
    {
     "name": "stderr",
     "output_type": "stream",
     "text": [
      " 89%|########9 | 89/100 [00:14<00:01,  6.35it/s]\n"
     ]
    },
    {
     "name": "stdout",
     "output_type": "stream",
     "text": [
      "Tree 90/100, NDCG: 0.3542                            \n",
      "  0%|          | 0/5 [00:16<?, ?trial/s, best loss=?]"
     ]
    },
    {
     "name": "stderr",
     "output_type": "stream",
     "text": [
      " 90%|######### | 90/100 [00:14<00:01,  6.46it/s]\n"
     ]
    },
    {
     "name": "stdout",
     "output_type": "stream",
     "text": [
      "Tree 91/100, NDCG: 0.3558                            \n",
      "  0%|          | 0/5 [00:16<?, ?trial/s, best loss=?]"
     ]
    },
    {
     "name": "stderr",
     "output_type": "stream",
     "text": [
      " 91%|#########1| 91/100 [00:15<00:01,  6.46it/s]\n"
     ]
    },
    {
     "name": "stdout",
     "output_type": "stream",
     "text": [
      "Tree 92/100, NDCG: 0.3546                            \n",
      "  0%|          | 0/5 [00:17<?, ?trial/s, best loss=?]"
     ]
    },
    {
     "name": "stderr",
     "output_type": "stream",
     "text": [
      " 92%|#########2| 92/100 [00:15<00:01,  6.71it/s]\n"
     ]
    },
    {
     "name": "stdout",
     "output_type": "stream",
     "text": [
      "Tree 93/100, NDCG: 0.3522                            \n",
      "  0%|          | 0/5 [00:17<?, ?trial/s, best loss=?]"
     ]
    },
    {
     "name": "stderr",
     "output_type": "stream",
     "text": [
      " 93%|#########3| 93/100 [00:15<00:01,  6.96it/s]\n"
     ]
    },
    {
     "name": "stdout",
     "output_type": "stream",
     "text": [
      "Tree 94/100, NDCG: 0.3497                            \n",
      "  0%|          | 0/5 [00:17<?, ?trial/s, best loss=?]"
     ]
    },
    {
     "name": "stderr",
     "output_type": "stream",
     "text": [
      " 94%|#########3| 94/100 [00:15<00:00,  6.77it/s]\n"
     ]
    },
    {
     "name": "stdout",
     "output_type": "stream",
     "text": [
      "Tree 95/100, NDCG: 0.3502                            \n",
      "  0%|          | 0/5 [00:17<?, ?trial/s, best loss=?]"
     ]
    },
    {
     "name": "stderr",
     "output_type": "stream",
     "text": [
      " 95%|#########5| 95/100 [00:15<00:00,  6.68it/s]\n"
     ]
    },
    {
     "name": "stdout",
     "output_type": "stream",
     "text": [
      "Tree 96/100, NDCG: 0.3567                            \n",
      "  0%|          | 0/5 [00:17<?, ?trial/s, best loss=?]"
     ]
    },
    {
     "name": "stderr",
     "output_type": "stream",
     "text": [
      " 96%|#########6| 96/100 [00:15<00:00,  6.76it/s]\n"
     ]
    },
    {
     "name": "stdout",
     "output_type": "stream",
     "text": [
      "Tree 97/100, NDCG: 0.3555                            \n",
      "  0%|          | 0/5 [00:17<?, ?trial/s, best loss=?]"
     ]
    },
    {
     "name": "stderr",
     "output_type": "stream",
     "text": [
      " 97%|#########7| 97/100 [00:15<00:00,  6.79it/s]\n"
     ]
    },
    {
     "name": "stdout",
     "output_type": "stream",
     "text": [
      "Tree 98/100, NDCG: 0.3524                            \n",
      "  0%|          | 0/5 [00:17<?, ?trial/s, best loss=?]"
     ]
    },
    {
     "name": "stderr",
     "output_type": "stream",
     "text": [
      " 98%|#########8| 98/100 [00:16<00:00,  7.01it/s]\n"
     ]
    },
    {
     "name": "stdout",
     "output_type": "stream",
     "text": [
      "Tree 99/100, NDCG: 0.3500                            \n",
      "  0%|          | 0/5 [00:18<?, ?trial/s, best loss=?]"
     ]
    },
    {
     "name": "stderr",
     "output_type": "stream",
     "text": [
      " 99%|#########9| 99/100 [00:16<00:00,  6.20it/s]\n"
     ]
    },
    {
     "name": "stdout",
     "output_type": "stream",
     "text": [
      "Tree 100/100, NDCG: 0.3500                           \n",
      "  0%|          | 0/5 [00:18<?, ?trial/s, best loss=?]"
     ]
    },
    {
     "name": "stderr",
     "output_type": "stream",
     "text": [
      "100%|##########| 100/100 [00:16<00:00,  6.58it/s]\n",
      "100%|##########| 100/100 [00:16<00:00,  6.11it/s]\n"
     ]
    },
    {
     "name": "stdout",
     "output_type": "stream",
     "text": [
      " 20%|██        | 1/5 [00:18<01:13, 18.31s/trial, best loss: -0.3572708593263731]"
     ]
    },
    {
     "name": "stderr",
     "output_type": "stream",
     "text": [
      "  0%|          | 0/100 [00:00<?, ?it/s]\n"
     ]
    },
    {
     "name": "stdout",
     "output_type": "stream",
     "text": [
      "Tree 1/100, NDCG: 0.2632                                                        \n",
      " 20%|██        | 1/5 [00:20<01:13, 18.31s/trial, best loss: -0.3572708593263731]"
     ]
    },
    {
     "name": "stderr",
     "output_type": "stream",
     "text": [
      "  1%|1         | 1/100 [00:00<00:18,  5.44it/s]\n"
     ]
    },
    {
     "name": "stdout",
     "output_type": "stream",
     "text": [
      "Tree 2/100, NDCG: 0.2581                                                        \n",
      " 20%|██        | 1/5 [00:20<01:13, 18.31s/trial, best loss: -0.3572708593263731]"
     ]
    },
    {
     "name": "stderr",
     "output_type": "stream",
     "text": [
      "  2%|2         | 2/100 [00:00<00:16,  5.87it/s]\n"
     ]
    },
    {
     "name": "stdout",
     "output_type": "stream",
     "text": [
      "Tree 3/100, NDCG: 0.2488                                                        \n",
      " 20%|██        | 1/5 [00:20<01:13, 18.31s/trial, best loss: -0.3572708593263731]"
     ]
    },
    {
     "name": "stderr",
     "output_type": "stream",
     "text": [
      "  3%|3         | 3/100 [00:00<00:17,  5.54it/s]\n"
     ]
    },
    {
     "name": "stdout",
     "output_type": "stream",
     "text": [
      "Tree 4/100, NDCG: 0.2415                                                        \n",
      " 20%|██        | 1/5 [00:20<01:13, 18.31s/trial, best loss: -0.3572708593263731]"
     ]
    },
    {
     "name": "stderr",
     "output_type": "stream",
     "text": [
      "  4%|4         | 4/100 [00:00<00:16,  5.92it/s]\n"
     ]
    },
    {
     "name": "stdout",
     "output_type": "stream",
     "text": [
      "Tree 5/100, NDCG: 0.2450                                                        \n",
      " 20%|██        | 1/5 [00:20<01:13, 18.31s/trial, best loss: -0.3572708593263731]"
     ]
    },
    {
     "name": "stderr",
     "output_type": "stream",
     "text": [
      "  5%|5         | 5/100 [00:00<00:15,  6.04it/s]\n"
     ]
    },
    {
     "name": "stdout",
     "output_type": "stream",
     "text": [
      "Tree 6/100, NDCG: 0.2498                                                        \n",
      " 20%|██        | 1/5 [00:21<01:13, 18.31s/trial, best loss: -0.3572708593263731]"
     ]
    },
    {
     "name": "stderr",
     "output_type": "stream",
     "text": [
      "  6%|6         | 6/100 [00:00<00:14,  6.39it/s]\n"
     ]
    },
    {
     "name": "stdout",
     "output_type": "stream",
     "text": [
      "Tree 7/100, NDCG: 0.2623                                                        \n",
      " 20%|██        | 1/5 [00:21<01:13, 18.31s/trial, best loss: -0.3572708593263731]"
     ]
    },
    {
     "name": "stderr",
     "output_type": "stream",
     "text": [
      "  7%|7         | 7/100 [00:01<00:13,  6.76it/s]\n"
     ]
    },
    {
     "name": "stdout",
     "output_type": "stream",
     "text": [
      "Tree 8/100, NDCG: 0.2696                                                        \n",
      " 20%|██        | 1/5 [00:21<01:13, 18.31s/trial, best loss: -0.3572708593263731]"
     ]
    },
    {
     "name": "stderr",
     "output_type": "stream",
     "text": [
      "  8%|8         | 8/100 [00:01<00:13,  6.86it/s]\n"
     ]
    },
    {
     "name": "stdout",
     "output_type": "stream",
     "text": [
      "Tree 9/100, NDCG: 0.2607                                                        \n",
      " 20%|██        | 1/5 [00:21<01:13, 18.31s/trial, best loss: -0.3572708593263731]"
     ]
    },
    {
     "name": "stderr",
     "output_type": "stream",
     "text": [
      "  9%|9         | 9/100 [00:01<00:13,  6.89it/s]\n"
     ]
    },
    {
     "name": "stdout",
     "output_type": "stream",
     "text": [
      "Tree 10/100, NDCG: 0.2621                                                       \n",
      " 20%|██        | 1/5 [00:21<01:13, 18.31s/trial, best loss: -0.3572708593263731]"
     ]
    },
    {
     "name": "stderr",
     "output_type": "stream",
     "text": [
      " 10%|#         | 10/100 [00:01<00:12,  7.10it/s]\n"
     ]
    },
    {
     "name": "stdout",
     "output_type": "stream",
     "text": [
      "Tree 11/100, NDCG: 0.2696                                                       \n",
      " 20%|██        | 1/5 [00:21<01:13, 18.31s/trial, best loss: -0.3572708593263731]"
     ]
    },
    {
     "name": "stderr",
     "output_type": "stream",
     "text": [
      " 11%|#1        | 11/100 [00:01<00:12,  7.16it/s]\n"
     ]
    },
    {
     "name": "stdout",
     "output_type": "stream",
     "text": [
      "Tree 12/100, NDCG: 0.2772                                                       \n",
      " 20%|██        | 1/5 [00:21<01:13, 18.31s/trial, best loss: -0.3572708593263731]"
     ]
    },
    {
     "name": "stderr",
     "output_type": "stream",
     "text": [
      " 12%|#2        | 12/100 [00:01<00:12,  7.20it/s]\n"
     ]
    },
    {
     "name": "stdout",
     "output_type": "stream",
     "text": [
      "Tree 13/100, NDCG: 0.2780                                                       \n",
      " 20%|██        | 1/5 [00:22<01:13, 18.31s/trial, best loss: -0.3572708593263731]"
     ]
    },
    {
     "name": "stderr",
     "output_type": "stream",
     "text": [
      " 13%|#3        | 13/100 [00:01<00:12,  7.24it/s]\n"
     ]
    },
    {
     "name": "stdout",
     "output_type": "stream",
     "text": [
      "Tree 14/100, NDCG: 0.2805                                                       \n",
      " 20%|██        | 1/5 [00:22<01:13, 18.31s/trial, best loss: -0.3572708593263731]"
     ]
    },
    {
     "name": "stderr",
     "output_type": "stream",
     "text": [
      " 14%|#4        | 14/100 [00:02<00:11,  7.37it/s]\n"
     ]
    },
    {
     "name": "stdout",
     "output_type": "stream",
     "text": [
      "Tree 15/100, NDCG: 0.2877                                                       \n",
      " 20%|██        | 1/5 [00:22<01:13, 18.31s/trial, best loss: -0.3572708593263731]"
     ]
    },
    {
     "name": "stderr",
     "output_type": "stream",
     "text": [
      " 15%|#5        | 15/100 [00:02<00:13,  6.30it/s]\n"
     ]
    },
    {
     "name": "stdout",
     "output_type": "stream",
     "text": [
      "Tree 16/100, NDCG: 0.2982                                                       \n",
      " 20%|██        | 1/5 [00:22<01:13, 18.31s/trial, best loss: -0.3572708593263731]"
     ]
    },
    {
     "name": "stderr",
     "output_type": "stream",
     "text": [
      " 16%|#6        | 16/100 [00:02<00:12,  6.79it/s]\n"
     ]
    },
    {
     "name": "stdout",
     "output_type": "stream",
     "text": [
      "Tree 17/100, NDCG: 0.3027                                                       \n",
      " 20%|██        | 1/5 [00:22<01:13, 18.31s/trial, best loss: -0.3572708593263731]"
     ]
    },
    {
     "name": "stderr",
     "output_type": "stream",
     "text": [
      " 17%|#7        | 17/100 [00:02<00:12,  6.70it/s]\n"
     ]
    },
    {
     "name": "stdout",
     "output_type": "stream",
     "text": [
      "Tree 18/100, NDCG: 0.2987                                                       \n",
      " 20%|██        | 1/5 [00:22<01:13, 18.31s/trial, best loss: -0.3572708593263731]"
     ]
    },
    {
     "name": "stderr",
     "output_type": "stream",
     "text": [
      " 18%|#8        | 18/100 [00:02<00:11,  7.08it/s]\n"
     ]
    },
    {
     "name": "stdout",
     "output_type": "stream",
     "text": [
      "Tree 19/100, NDCG: 0.3076                                                       \n",
      " 20%|██        | 1/5 [00:22<01:13, 18.31s/trial, best loss: -0.3572708593263731]"
     ]
    },
    {
     "name": "stderr",
     "output_type": "stream",
     "text": [
      " 19%|#9        | 19/100 [00:02<00:12,  6.65it/s]\n"
     ]
    },
    {
     "name": "stdout",
     "output_type": "stream",
     "text": [
      "Tree 20/100, NDCG: 0.3035                                                       \n",
      " 20%|██        | 1/5 [00:23<01:13, 18.31s/trial, best loss: -0.3572708593263731]"
     ]
    },
    {
     "name": "stderr",
     "output_type": "stream",
     "text": [
      " 20%|##        | 20/100 [00:03<00:12,  6.49it/s]\n"
     ]
    },
    {
     "name": "stdout",
     "output_type": "stream",
     "text": [
      "Tree 21/100, NDCG: 0.3019                                                       \n",
      " 20%|██        | 1/5 [00:23<01:13, 18.31s/trial, best loss: -0.3572708593263731]"
     ]
    },
    {
     "name": "stderr",
     "output_type": "stream",
     "text": [
      " 21%|##1       | 21/100 [00:03<00:12,  6.39it/s]\n"
     ]
    },
    {
     "name": "stdout",
     "output_type": "stream",
     "text": [
      "Tree 22/100, NDCG: 0.3066                                                       \n",
      " 20%|██        | 1/5 [00:23<01:13, 18.31s/trial, best loss: -0.3572708593263731]"
     ]
    },
    {
     "name": "stderr",
     "output_type": "stream",
     "text": [
      " 22%|##2       | 22/100 [00:03<00:11,  6.62it/s]\n"
     ]
    },
    {
     "name": "stdout",
     "output_type": "stream",
     "text": [
      "Tree 23/100, NDCG: 0.3027                                                       \n",
      " 20%|██        | 1/5 [00:23<01:13, 18.31s/trial, best loss: -0.3572708593263731]"
     ]
    },
    {
     "name": "stderr",
     "output_type": "stream",
     "text": [
      " 23%|##3       | 23/100 [00:03<00:12,  6.23it/s]\n"
     ]
    },
    {
     "name": "stdout",
     "output_type": "stream",
     "text": [
      "Tree 24/100, NDCG: 0.3010                                                       \n",
      " 20%|██        | 1/5 [00:23<01:13, 18.31s/trial, best loss: -0.3572708593263731]"
     ]
    },
    {
     "name": "stderr",
     "output_type": "stream",
     "text": [
      " 24%|##4       | 24/100 [00:03<00:11,  6.63it/s]\n"
     ]
    },
    {
     "name": "stdout",
     "output_type": "stream",
     "text": [
      "Tree 25/100, NDCG: 0.3264                                                       \n",
      " 20%|██        | 1/5 [00:23<01:13, 18.31s/trial, best loss: -0.3572708593263731]"
     ]
    },
    {
     "name": "stderr",
     "output_type": "stream",
     "text": [
      " 25%|##5       | 25/100 [00:03<00:12,  6.08it/s]\n"
     ]
    },
    {
     "name": "stdout",
     "output_type": "stream",
     "text": [
      "Tree 26/100, NDCG: 0.3308                                                       \n",
      " 20%|██        | 1/5 [00:24<01:13, 18.31s/trial, best loss: -0.3572708593263731]"
     ]
    },
    {
     "name": "stderr",
     "output_type": "stream",
     "text": [
      " 26%|##6       | 26/100 [00:03<00:11,  6.32it/s]\n"
     ]
    },
    {
     "name": "stdout",
     "output_type": "stream",
     "text": [
      "Tree 27/100, NDCG: 0.3223                                                       \n",
      " 20%|██        | 1/5 [00:24<01:13, 18.31s/trial, best loss: -0.3572708593263731]"
     ]
    },
    {
     "name": "stderr",
     "output_type": "stream",
     "text": [
      " 27%|##7       | 27/100 [00:04<00:11,  6.26it/s]\n"
     ]
    },
    {
     "name": "stdout",
     "output_type": "stream",
     "text": [
      "Tree 28/100, NDCG: 0.3300                                                       \n",
      " 20%|██        | 1/5 [00:24<01:13, 18.31s/trial, best loss: -0.3572708593263731]"
     ]
    },
    {
     "name": "stderr",
     "output_type": "stream",
     "text": [
      " 28%|##8       | 28/100 [00:04<00:10,  6.58it/s]\n"
     ]
    },
    {
     "name": "stdout",
     "output_type": "stream",
     "text": [
      "Tree 29/100, NDCG: 0.3274                                                       \n",
      " 20%|██        | 1/5 [00:24<01:13, 18.31s/trial, best loss: -0.3572708593263731]"
     ]
    },
    {
     "name": "stderr",
     "output_type": "stream",
     "text": [
      " 29%|##9       | 29/100 [00:04<00:10,  6.95it/s]\n"
     ]
    },
    {
     "name": "stdout",
     "output_type": "stream",
     "text": [
      "Tree 30/100, NDCG: 0.3202                                                       \n",
      " 20%|██        | 1/5 [00:24<01:13, 18.31s/trial, best loss: -0.3572708593263731]"
     ]
    },
    {
     "name": "stderr",
     "output_type": "stream",
     "text": [
      " 30%|###       | 30/100 [00:04<00:11,  6.05it/s]\n"
     ]
    },
    {
     "name": "stdout",
     "output_type": "stream",
     "text": [
      "Tree 31/100, NDCG: 0.3159                                                       \n",
      " 20%|██        | 1/5 [00:24<01:13, 18.31s/trial, best loss: -0.3572708593263731]"
     ]
    },
    {
     "name": "stderr",
     "output_type": "stream",
     "text": [
      " 31%|###1      | 31/100 [00:04<00:10,  6.47it/s]\n"
     ]
    },
    {
     "name": "stdout",
     "output_type": "stream",
     "text": [
      "Tree 32/100, NDCG: 0.3126                                                       \n",
      " 20%|██        | 1/5 [00:24<01:13, 18.31s/trial, best loss: -0.3572708593263731]"
     ]
    },
    {
     "name": "stderr",
     "output_type": "stream",
     "text": [
      " 32%|###2      | 32/100 [00:04<00:10,  6.71it/s]\n"
     ]
    },
    {
     "name": "stdout",
     "output_type": "stream",
     "text": [
      "Tree 33/100, NDCG: 0.3177                                                       \n",
      " 20%|██        | 1/5 [00:25<01:13, 18.31s/trial, best loss: -0.3572708593263731]"
     ]
    },
    {
     "name": "stderr",
     "output_type": "stream",
     "text": [
      " 33%|###3      | 33/100 [00:05<00:09,  6.94it/s]\n"
     ]
    },
    {
     "name": "stdout",
     "output_type": "stream",
     "text": [
      "Tree 34/100, NDCG: 0.3195                                                       \n",
      " 20%|██        | 1/5 [00:25<01:13, 18.31s/trial, best loss: -0.3572708593263731]"
     ]
    },
    {
     "name": "stderr",
     "output_type": "stream",
     "text": [
      " 34%|###4      | 34/100 [00:05<00:09,  7.12it/s]\n"
     ]
    },
    {
     "name": "stdout",
     "output_type": "stream",
     "text": [
      "Tree 35/100, NDCG: 0.3203                                                       \n",
      " 20%|██        | 1/5 [00:25<01:13, 18.31s/trial, best loss: -0.3572708593263731]"
     ]
    },
    {
     "name": "stderr",
     "output_type": "stream",
     "text": [
      " 35%|###5      | 35/100 [00:05<00:09,  7.01it/s]\n"
     ]
    },
    {
     "name": "stdout",
     "output_type": "stream",
     "text": [
      "Tree 36/100, NDCG: 0.3201                                                       \n",
      " 20%|██        | 1/5 [00:25<01:13, 18.31s/trial, best loss: -0.3572708593263731]"
     ]
    },
    {
     "name": "stderr",
     "output_type": "stream",
     "text": [
      " 36%|###6      | 36/100 [00:05<00:08,  7.21it/s]\n"
     ]
    },
    {
     "name": "stdout",
     "output_type": "stream",
     "text": [
      "Tree 37/100, NDCG: 0.3166                                                       \n",
      " 20%|██        | 1/5 [00:25<01:13, 18.31s/trial, best loss: -0.3572708593263731]"
     ]
    },
    {
     "name": "stderr",
     "output_type": "stream",
     "text": [
      " 37%|###7      | 37/100 [00:05<00:09,  6.92it/s]\n"
     ]
    },
    {
     "name": "stdout",
     "output_type": "stream",
     "text": [
      "Tree 38/100, NDCG: 0.3212                                                       \n",
      " 20%|██        | 1/5 [00:25<01:13, 18.31s/trial, best loss: -0.3572708593263731]"
     ]
    },
    {
     "name": "stderr",
     "output_type": "stream",
     "text": [
      " 38%|###8      | 38/100 [00:05<00:08,  6.91it/s]\n"
     ]
    },
    {
     "name": "stdout",
     "output_type": "stream",
     "text": [
      "Tree 39/100, NDCG: 0.3153                                                       \n",
      " 20%|██        | 1/5 [00:25<01:13, 18.31s/trial, best loss: -0.3572708593263731]"
     ]
    },
    {
     "name": "stderr",
     "output_type": "stream",
     "text": [
      " 39%|###9      | 39/100 [00:05<00:08,  6.96it/s]\n"
     ]
    },
    {
     "name": "stdout",
     "output_type": "stream",
     "text": [
      "Tree 40/100, NDCG: 0.3171                                                       \n",
      " 20%|██        | 1/5 [00:26<01:13, 18.31s/trial, best loss: -0.3572708593263731]"
     ]
    },
    {
     "name": "stderr",
     "output_type": "stream",
     "text": [
      " 40%|####      | 40/100 [00:06<00:08,  6.69it/s]\n"
     ]
    },
    {
     "name": "stdout",
     "output_type": "stream",
     "text": [
      "Tree 41/100, NDCG: 0.3200                                                       \n",
      " 20%|██        | 1/5 [00:26<01:13, 18.31s/trial, best loss: -0.3572708593263731]"
     ]
    },
    {
     "name": "stderr",
     "output_type": "stream",
     "text": [
      " 41%|####1     | 41/100 [00:06<00:09,  6.22it/s]\n"
     ]
    },
    {
     "name": "stdout",
     "output_type": "stream",
     "text": [
      "Tree 42/100, NDCG: 0.3156                                                       \n",
      " 20%|██        | 1/5 [00:26<01:13, 18.31s/trial, best loss: -0.3572708593263731]"
     ]
    },
    {
     "name": "stderr",
     "output_type": "stream",
     "text": [
      " 42%|####2     | 42/100 [00:06<00:08,  6.57it/s]\n"
     ]
    },
    {
     "name": "stdout",
     "output_type": "stream",
     "text": [
      "Tree 43/100, NDCG: 0.3131                                                       \n",
      " 20%|██        | 1/5 [00:26<01:13, 18.31s/trial, best loss: -0.3572708593263731]"
     ]
    },
    {
     "name": "stderr",
     "output_type": "stream",
     "text": [
      " 43%|####3     | 43/100 [00:06<00:09,  6.17it/s]\n"
     ]
    },
    {
     "name": "stdout",
     "output_type": "stream",
     "text": [
      "Tree 44/100, NDCG: 0.3223                                                       \n",
      " 20%|██        | 1/5 [00:26<01:13, 18.31s/trial, best loss: -0.3572708593263731]"
     ]
    },
    {
     "name": "stderr",
     "output_type": "stream",
     "text": [
      " 44%|####4     | 44/100 [00:06<00:10,  5.40it/s]\n"
     ]
    },
    {
     "name": "stdout",
     "output_type": "stream",
     "text": [
      "Tree 45/100, NDCG: 0.3283                                                       \n",
      " 20%|██        | 1/5 [00:26<01:13, 18.31s/trial, best loss: -0.3572708593263731]"
     ]
    },
    {
     "name": "stderr",
     "output_type": "stream",
     "text": [
      " 45%|####5     | 45/100 [00:06<00:09,  5.91it/s]\n"
     ]
    },
    {
     "name": "stdout",
     "output_type": "stream",
     "text": [
      "Tree 46/100, NDCG: 0.3249                                                       \n",
      " 20%|██        | 1/5 [00:27<01:13, 18.31s/trial, best loss: -0.3572708593263731]"
     ]
    },
    {
     "name": "stderr",
     "output_type": "stream",
     "text": [
      " 46%|####6     | 46/100 [00:07<00:08,  6.14it/s]\n"
     ]
    },
    {
     "name": "stdout",
     "output_type": "stream",
     "text": [
      "Tree 47/100, NDCG: 0.3217                                                       \n",
      " 20%|██        | 1/5 [00:27<01:13, 18.31s/trial, best loss: -0.3572708593263731]"
     ]
    },
    {
     "name": "stderr",
     "output_type": "stream",
     "text": [
      " 47%|####6     | 47/100 [00:07<00:08,  6.35it/s]\n"
     ]
    },
    {
     "name": "stdout",
     "output_type": "stream",
     "text": [
      "Tree 48/100, NDCG: 0.3173                                                       \n",
      " 20%|██        | 1/5 [00:27<01:13, 18.31s/trial, best loss: -0.3572708593263731]"
     ]
    },
    {
     "name": "stderr",
     "output_type": "stream",
     "text": [
      " 48%|####8     | 48/100 [00:07<00:07,  6.73it/s]\n"
     ]
    },
    {
     "name": "stdout",
     "output_type": "stream",
     "text": [
      "Tree 49/100, NDCG: 0.3207                                                       \n",
      " 20%|██        | 1/5 [00:27<01:13, 18.31s/trial, best loss: -0.3572708593263731]"
     ]
    },
    {
     "name": "stderr",
     "output_type": "stream",
     "text": [
      " 49%|####9     | 49/100 [00:07<00:08,  6.10it/s]\n"
     ]
    },
    {
     "name": "stdout",
     "output_type": "stream",
     "text": [
      "Tree 50/100, NDCG: 0.3275                                                       \n",
      " 20%|██        | 1/5 [00:27<01:13, 18.31s/trial, best loss: -0.3572708593263731]"
     ]
    },
    {
     "name": "stderr",
     "output_type": "stream",
     "text": [
      " 50%|#####     | 50/100 [00:07<00:08,  6.08it/s]\n"
     ]
    },
    {
     "name": "stdout",
     "output_type": "stream",
     "text": [
      "Tree 51/100, NDCG: 0.3247                                                       \n",
      " 20%|██        | 1/5 [00:27<01:13, 18.31s/trial, best loss: -0.3572708593263731]"
     ]
    },
    {
     "name": "stderr",
     "output_type": "stream",
     "text": [
      " 51%|#####1    | 51/100 [00:07<00:07,  6.16it/s]\n"
     ]
    },
    {
     "name": "stdout",
     "output_type": "stream",
     "text": [
      "Tree 52/100, NDCG: 0.3264                                                       \n",
      " 20%|██        | 1/5 [00:28<01:13, 18.31s/trial, best loss: -0.3572708593263731]"
     ]
    },
    {
     "name": "stderr",
     "output_type": "stream",
     "text": [
      " 52%|#####2    | 52/100 [00:07<00:07,  6.37it/s]\n"
     ]
    },
    {
     "name": "stdout",
     "output_type": "stream",
     "text": [
      "Tree 53/100, NDCG: 0.3223                                                       \n",
      " 20%|██        | 1/5 [00:28<01:13, 18.31s/trial, best loss: -0.3572708593263731]"
     ]
    },
    {
     "name": "stderr",
     "output_type": "stream",
     "text": [
      " 53%|#####3    | 53/100 [00:08<00:07,  6.15it/s]\n"
     ]
    },
    {
     "name": "stdout",
     "output_type": "stream",
     "text": [
      "Tree 54/100, NDCG: 0.3198                                                       \n",
      " 20%|██        | 1/5 [00:28<01:13, 18.31s/trial, best loss: -0.3572708593263731]"
     ]
    },
    {
     "name": "stderr",
     "output_type": "stream",
     "text": [
      " 54%|#####4    | 54/100 [00:08<00:07,  6.45it/s]\n"
     ]
    },
    {
     "name": "stdout",
     "output_type": "stream",
     "text": [
      "Tree 55/100, NDCG: 0.3207                                                       \n",
      " 20%|██        | 1/5 [00:28<01:13, 18.31s/trial, best loss: -0.3572708593263731]"
     ]
    },
    {
     "name": "stderr",
     "output_type": "stream",
     "text": [
      " 55%|#####5    | 55/100 [00:08<00:06,  6.47it/s]\n"
     ]
    },
    {
     "name": "stdout",
     "output_type": "stream",
     "text": [
      "Tree 56/100, NDCG: 0.3205                                                       \n",
      " 20%|██        | 1/5 [00:28<01:13, 18.31s/trial, best loss: -0.3572708593263731]"
     ]
    },
    {
     "name": "stderr",
     "output_type": "stream",
     "text": [
      " 56%|#####6    | 56/100 [00:08<00:06,  6.73it/s]\n"
     ]
    },
    {
     "name": "stdout",
     "output_type": "stream",
     "text": [
      "Tree 57/100, NDCG: 0.3196                                                       \n",
      " 20%|██        | 1/5 [00:28<01:13, 18.31s/trial, best loss: -0.3572708593263731]"
     ]
    },
    {
     "name": "stderr",
     "output_type": "stream",
     "text": [
      " 57%|#####6    | 57/100 [00:08<00:07,  5.85it/s]\n"
     ]
    },
    {
     "name": "stdout",
     "output_type": "stream",
     "text": [
      "Tree 58/100, NDCG: 0.3241                                                       \n",
      " 20%|██        | 1/5 [00:29<01:13, 18.31s/trial, best loss: -0.3572708593263731]"
     ]
    },
    {
     "name": "stderr",
     "output_type": "stream",
     "text": [
      " 58%|#####8    | 58/100 [00:08<00:06,  6.16it/s]\n"
     ]
    },
    {
     "name": "stdout",
     "output_type": "stream",
     "text": [
      "Tree 59/100, NDCG: 0.3234                                                       \n",
      " 20%|██        | 1/5 [00:29<01:13, 18.31s/trial, best loss: -0.3572708593263731]"
     ]
    },
    {
     "name": "stderr",
     "output_type": "stream",
     "text": [
      " 59%|#####8    | 59/100 [00:09<00:06,  6.36it/s]\n"
     ]
    },
    {
     "name": "stdout",
     "output_type": "stream",
     "text": [
      "Tree 60/100, NDCG: 0.3264                                                       \n",
      " 20%|██        | 1/5 [00:29<01:13, 18.31s/trial, best loss: -0.3572708593263731]"
     ]
    },
    {
     "name": "stderr",
     "output_type": "stream",
     "text": [
      " 60%|######    | 60/100 [00:09<00:06,  6.47it/s]\n"
     ]
    },
    {
     "name": "stdout",
     "output_type": "stream",
     "text": [
      "Tree 61/100, NDCG: 0.3303                                                       \n",
      " 20%|██        | 1/5 [00:29<01:13, 18.31s/trial, best loss: -0.3572708593263731]"
     ]
    },
    {
     "name": "stderr",
     "output_type": "stream",
     "text": [
      " 61%|######1   | 61/100 [00:09<00:05,  6.77it/s]\n"
     ]
    },
    {
     "name": "stdout",
     "output_type": "stream",
     "text": [
      "Tree 62/100, NDCG: 0.3317                                                       \n",
      " 20%|██        | 1/5 [00:29<01:13, 18.31s/trial, best loss: -0.3572708593263731]"
     ]
    },
    {
     "name": "stderr",
     "output_type": "stream",
     "text": [
      " 62%|######2   | 62/100 [00:09<00:05,  6.84it/s]\n"
     ]
    },
    {
     "name": "stdout",
     "output_type": "stream",
     "text": [
      "Tree 63/100, NDCG: 0.3337                                                       \n",
      " 20%|██        | 1/5 [00:29<01:13, 18.31s/trial, best loss: -0.3572708593263731]"
     ]
    },
    {
     "name": "stderr",
     "output_type": "stream",
     "text": [
      " 63%|######3   | 63/100 [00:09<00:05,  6.96it/s]\n"
     ]
    },
    {
     "name": "stdout",
     "output_type": "stream",
     "text": [
      "Tree 64/100, NDCG: 0.3318                                                       \n",
      " 20%|██        | 1/5 [00:29<01:13, 18.31s/trial, best loss: -0.3572708593263731]"
     ]
    },
    {
     "name": "stderr",
     "output_type": "stream",
     "text": [
      " 64%|######4   | 64/100 [00:09<00:05,  6.75it/s]\n"
     ]
    },
    {
     "name": "stdout",
     "output_type": "stream",
     "text": [
      "Tree 65/100, NDCG: 0.3343                                                       \n",
      " 20%|██        | 1/5 [00:30<01:13, 18.31s/trial, best loss: -0.3572708593263731]"
     ]
    },
    {
     "name": "stderr",
     "output_type": "stream",
     "text": [
      " 65%|######5   | 65/100 [00:09<00:05,  6.79it/s]\n"
     ]
    },
    {
     "name": "stdout",
     "output_type": "stream",
     "text": [
      "Tree 66/100, NDCG: 0.3292                                                       \n",
      " 20%|██        | 1/5 [00:30<01:13, 18.31s/trial, best loss: -0.3572708593263731]"
     ]
    },
    {
     "name": "stderr",
     "output_type": "stream",
     "text": [
      " 66%|######6   | 66/100 [00:10<00:05,  6.06it/s]\n"
     ]
    },
    {
     "name": "stdout",
     "output_type": "stream",
     "text": [
      "Tree 67/100, NDCG: 0.3291                                                       \n",
      " 20%|██        | 1/5 [00:30<01:13, 18.31s/trial, best loss: -0.3572708593263731]"
     ]
    },
    {
     "name": "stderr",
     "output_type": "stream",
     "text": [
      " 67%|######7   | 67/100 [00:10<00:05,  6.47it/s]\n"
     ]
    },
    {
     "name": "stdout",
     "output_type": "stream",
     "text": [
      "Tree 68/100, NDCG: 0.3247                                                       \n",
      " 20%|██        | 1/5 [00:30<01:13, 18.31s/trial, best loss: -0.3572708593263731]"
     ]
    },
    {
     "name": "stderr",
     "output_type": "stream",
     "text": [
      " 68%|######8   | 68/100 [00:10<00:05,  6.17it/s]\n"
     ]
    },
    {
     "name": "stdout",
     "output_type": "stream",
     "text": [
      "Tree 69/100, NDCG: 0.3299                                                       \n",
      " 20%|██        | 1/5 [00:30<01:13, 18.31s/trial, best loss: -0.3572708593263731]"
     ]
    },
    {
     "name": "stderr",
     "output_type": "stream",
     "text": [
      " 69%|######9   | 69/100 [00:10<00:04,  6.31it/s]\n"
     ]
    },
    {
     "name": "stdout",
     "output_type": "stream",
     "text": [
      "Tree 70/100, NDCG: 0.3322                                                       \n",
      " 20%|██        | 1/5 [00:30<01:13, 18.31s/trial, best loss: -0.3572708593263731]"
     ]
    },
    {
     "name": "stderr",
     "output_type": "stream",
     "text": [
      " 70%|#######   | 70/100 [00:10<00:05,  5.46it/s]\n"
     ]
    },
    {
     "name": "stdout",
     "output_type": "stream",
     "text": [
      "Tree 71/100, NDCG: 0.3333                                                       \n",
      " 20%|██        | 1/5 [00:31<01:13, 18.31s/trial, best loss: -0.3572708593263731]"
     ]
    },
    {
     "name": "stderr",
     "output_type": "stream",
     "text": [
      " 71%|#######1  | 71/100 [00:11<00:05,  5.73it/s]\n"
     ]
    },
    {
     "name": "stdout",
     "output_type": "stream",
     "text": [
      "Tree 72/100, NDCG: 0.3345                                                       \n",
      " 20%|██        | 1/5 [00:31<01:13, 18.31s/trial, best loss: -0.3572708593263731]"
     ]
    },
    {
     "name": "stderr",
     "output_type": "stream",
     "text": [
      " 72%|#######2  | 72/100 [00:11<00:04,  5.79it/s]\n"
     ]
    },
    {
     "name": "stdout",
     "output_type": "stream",
     "text": [
      "Tree 73/100, NDCG: 0.3310                                                       \n",
      " 20%|██        | 1/5 [00:31<01:13, 18.31s/trial, best loss: -0.3572708593263731]"
     ]
    },
    {
     "name": "stderr",
     "output_type": "stream",
     "text": [
      " 73%|#######3  | 73/100 [00:11<00:04,  6.09it/s]\n"
     ]
    },
    {
     "name": "stdout",
     "output_type": "stream",
     "text": [
      "Tree 74/100, NDCG: 0.3292                                                       \n",
      " 20%|██        | 1/5 [00:33<01:13, 18.31s/trial, best loss: -0.3572708593263731]"
     ]
    },
    {
     "name": "stderr",
     "output_type": "stream",
     "text": [
      " 74%|#######4  | 74/100 [00:13<00:17,  1.48it/s]\n"
     ]
    },
    {
     "name": "stdout",
     "output_type": "stream",
     "text": [
      "Tree 75/100, NDCG: 0.3287                                                       \n",
      " 20%|██        | 1/5 [00:33<01:13, 18.31s/trial, best loss: -0.3572708593263731]"
     ]
    },
    {
     "name": "stderr",
     "output_type": "stream",
     "text": [
      " 75%|#######5  | 75/100 [00:13<00:12,  1.94it/s]\n"
     ]
    },
    {
     "name": "stdout",
     "output_type": "stream",
     "text": [
      "Tree 76/100, NDCG: 0.3314                                                       \n",
      " 20%|██        | 1/5 [00:33<01:13, 18.31s/trial, best loss: -0.3572708593263731]"
     ]
    },
    {
     "name": "stderr",
     "output_type": "stream",
     "text": [
      " 76%|#######6  | 76/100 [00:13<00:09,  2.40it/s]\n"
     ]
    },
    {
     "name": "stdout",
     "output_type": "stream",
     "text": [
      "Tree 77/100, NDCG: 0.3314                                                       \n",
      " 20%|██        | 1/5 [00:33<01:13, 18.31s/trial, best loss: -0.3572708593263731]"
     ]
    },
    {
     "name": "stderr",
     "output_type": "stream",
     "text": [
      " 77%|#######7  | 77/100 [00:13<00:07,  2.97it/s]\n"
     ]
    },
    {
     "name": "stdout",
     "output_type": "stream",
     "text": [
      "Tree 78/100, NDCG: 0.3308                                                       \n",
      " 20%|██        | 1/5 [00:33<01:13, 18.31s/trial, best loss: -0.3572708593263731]"
     ]
    },
    {
     "name": "stderr",
     "output_type": "stream",
     "text": [
      " 78%|#######8  | 78/100 [00:13<00:06,  3.58it/s]\n"
     ]
    },
    {
     "name": "stdout",
     "output_type": "stream",
     "text": [
      "Tree 79/100, NDCG: 0.3297                                                       \n",
      " 20%|██        | 1/5 [00:34<01:13, 18.31s/trial, best loss: -0.3572708593263731]"
     ]
    },
    {
     "name": "stderr",
     "output_type": "stream",
     "text": [
      " 79%|#######9  | 79/100 [00:13<00:04,  4.23it/s]\n"
     ]
    },
    {
     "name": "stdout",
     "output_type": "stream",
     "text": [
      "Tree 80/100, NDCG: 0.3271                                                       \n",
      " 20%|██        | 1/5 [00:34<01:13, 18.31s/trial, best loss: -0.3572708593263731]"
     ]
    },
    {
     "name": "stderr",
     "output_type": "stream",
     "text": [
      " 80%|########  | 80/100 [00:14<00:04,  4.76it/s]\n"
     ]
    },
    {
     "name": "stdout",
     "output_type": "stream",
     "text": [
      "Tree 81/100, NDCG: 0.3284                                                       \n",
      " 20%|██        | 1/5 [00:34<01:13, 18.31s/trial, best loss: -0.3572708593263731]"
     ]
    },
    {
     "name": "stderr",
     "output_type": "stream",
     "text": [
      " 81%|########1 | 81/100 [00:14<00:03,  5.31it/s]\n"
     ]
    },
    {
     "name": "stdout",
     "output_type": "stream",
     "text": [
      "Tree 82/100, NDCG: 0.3277                                                       \n",
      " 20%|██        | 1/5 [00:34<01:13, 18.31s/trial, best loss: -0.3572708593263731]"
     ]
    },
    {
     "name": "stderr",
     "output_type": "stream",
     "text": [
      " 82%|########2 | 82/100 [00:14<00:03,  5.08it/s]\n"
     ]
    },
    {
     "name": "stdout",
     "output_type": "stream",
     "text": [
      "Tree 83/100, NDCG: 0.3300                                                       \n",
      " 20%|██        | 1/5 [00:34<01:13, 18.31s/trial, best loss: -0.3572708593263731]"
     ]
    },
    {
     "name": "stderr",
     "output_type": "stream",
     "text": [
      " 83%|########2 | 83/100 [00:14<00:03,  5.48it/s]\n"
     ]
    },
    {
     "name": "stdout",
     "output_type": "stream",
     "text": [
      "Tree 84/100, NDCG: 0.3296                                                       \n",
      " 20%|██        | 1/5 [00:34<01:13, 18.31s/trial, best loss: -0.3572708593263731]"
     ]
    },
    {
     "name": "stderr",
     "output_type": "stream",
     "text": [
      " 84%|########4 | 84/100 [00:14<00:02,  5.79it/s]\n"
     ]
    },
    {
     "name": "stdout",
     "output_type": "stream",
     "text": [
      "Tree 85/100, NDCG: 0.3333                                                       \n",
      " 20%|██        | 1/5 [00:35<01:13, 18.31s/trial, best loss: -0.3572708593263731]"
     ]
    },
    {
     "name": "stderr",
     "output_type": "stream",
     "text": [
      " 85%|########5 | 85/100 [00:15<00:03,  4.68it/s]\n"
     ]
    },
    {
     "name": "stdout",
     "output_type": "stream",
     "text": [
      "Tree 86/100, NDCG: 0.3366                                                       \n",
      " 20%|██        | 1/5 [00:35<01:13, 18.31s/trial, best loss: -0.3572708593263731]"
     ]
    },
    {
     "name": "stderr",
     "output_type": "stream",
     "text": [
      " 86%|########6 | 86/100 [00:15<00:03,  4.30it/s]\n"
     ]
    },
    {
     "name": "stdout",
     "output_type": "stream",
     "text": [
      "Tree 87/100, NDCG: 0.3357                                                       \n",
      " 20%|██        | 1/5 [00:35<01:13, 18.31s/trial, best loss: -0.3572708593263731]"
     ]
    },
    {
     "name": "stderr",
     "output_type": "stream",
     "text": [
      " 87%|########7 | 87/100 [00:15<00:03,  3.95it/s]\n"
     ]
    },
    {
     "name": "stdout",
     "output_type": "stream",
     "text": [
      "Tree 88/100, NDCG: 0.3349                                                       \n",
      " 20%|██        | 1/5 [00:36<01:13, 18.31s/trial, best loss: -0.3572708593263731]"
     ]
    },
    {
     "name": "stderr",
     "output_type": "stream",
     "text": [
      " 88%|########8 | 88/100 [00:15<00:03,  3.89it/s]\n"
     ]
    },
    {
     "name": "stdout",
     "output_type": "stream",
     "text": [
      "Tree 89/100, NDCG: 0.3356                                                       \n",
      " 20%|██        | 1/5 [00:36<01:13, 18.31s/trial, best loss: -0.3572708593263731]"
     ]
    },
    {
     "name": "stderr",
     "output_type": "stream",
     "text": [
      " 89%|########9 | 89/100 [00:16<00:02,  3.73it/s]\n"
     ]
    },
    {
     "name": "stdout",
     "output_type": "stream",
     "text": [
      "Tree 90/100, NDCG: 0.3380                                                       \n",
      " 20%|██        | 1/5 [00:36<01:13, 18.31s/trial, best loss: -0.3572708593263731]"
     ]
    },
    {
     "name": "stderr",
     "output_type": "stream",
     "text": [
      " 90%|######### | 90/100 [00:16<00:02,  3.67it/s]\n"
     ]
    },
    {
     "name": "stdout",
     "output_type": "stream",
     "text": [
      "Tree 91/100, NDCG: 0.3403                                                       \n",
      " 20%|██        | 1/5 [00:36<01:13, 18.31s/trial, best loss: -0.3572708593263731]"
     ]
    },
    {
     "name": "stderr",
     "output_type": "stream",
     "text": [
      " 91%|#########1| 91/100 [00:16<00:02,  3.83it/s]\n"
     ]
    },
    {
     "name": "stdout",
     "output_type": "stream",
     "text": [
      "Tree 92/100, NDCG: 0.3385                                                       \n",
      " 20%|██        | 1/5 [00:37<01:13, 18.31s/trial, best loss: -0.3572708593263731]"
     ]
    },
    {
     "name": "stderr",
     "output_type": "stream",
     "text": [
      " 92%|#########2| 92/100 [00:16<00:01,  4.01it/s]\n"
     ]
    },
    {
     "name": "stdout",
     "output_type": "stream",
     "text": [
      "Tree 93/100, NDCG: 0.3397                                                       \n",
      " 20%|██        | 1/5 [00:37<01:13, 18.31s/trial, best loss: -0.3572708593263731]"
     ]
    },
    {
     "name": "stderr",
     "output_type": "stream",
     "text": [
      " 93%|#########3| 93/100 [00:17<00:01,  4.29it/s]\n"
     ]
    },
    {
     "name": "stdout",
     "output_type": "stream",
     "text": [
      "Tree 94/100, NDCG: 0.3398                                                       \n",
      " 20%|██        | 1/5 [00:37<01:13, 18.31s/trial, best loss: -0.3572708593263731]"
     ]
    },
    {
     "name": "stderr",
     "output_type": "stream",
     "text": [
      " 94%|#########3| 94/100 [00:17<00:01,  4.32it/s]\n"
     ]
    },
    {
     "name": "stdout",
     "output_type": "stream",
     "text": [
      "Tree 95/100, NDCG: 0.3409                                                       \n",
      " 20%|██        | 1/5 [00:37<01:13, 18.31s/trial, best loss: -0.3572708593263731]"
     ]
    },
    {
     "name": "stderr",
     "output_type": "stream",
     "text": [
      " 95%|#########5| 95/100 [00:17<00:01,  4.88it/s]\n"
     ]
    },
    {
     "name": "stdout",
     "output_type": "stream",
     "text": [
      "Tree 96/100, NDCG: 0.3441                                                       \n",
      " 20%|██        | 1/5 [00:37<01:13, 18.31s/trial, best loss: -0.3572708593263731]"
     ]
    },
    {
     "name": "stderr",
     "output_type": "stream",
     "text": [
      " 96%|#########6| 96/100 [00:17<00:00,  5.19it/s]\n"
     ]
    },
    {
     "name": "stdout",
     "output_type": "stream",
     "text": [
      "Tree 97/100, NDCG: 0.3440                                                       \n",
      " 20%|██        | 1/5 [00:37<01:13, 18.31s/trial, best loss: -0.3572708593263731]"
     ]
    },
    {
     "name": "stderr",
     "output_type": "stream",
     "text": [
      " 97%|#########7| 97/100 [00:17<00:00,  5.50it/s]\n"
     ]
    },
    {
     "name": "stdout",
     "output_type": "stream",
     "text": [
      "Tree 98/100, NDCG: 0.3435                                                       \n",
      " 20%|██        | 1/5 [00:38<01:13, 18.31s/trial, best loss: -0.3572708593263731]"
     ]
    },
    {
     "name": "stderr",
     "output_type": "stream",
     "text": [
      " 98%|#########8| 98/100 [00:17<00:00,  5.93it/s]\n"
     ]
    },
    {
     "name": "stdout",
     "output_type": "stream",
     "text": [
      "Tree 99/100, NDCG: 0.3436                                                       \n",
      " 20%|██        | 1/5 [00:38<01:13, 18.31s/trial, best loss: -0.3572708593263731]"
     ]
    },
    {
     "name": "stderr",
     "output_type": "stream",
     "text": [
      " 99%|#########9| 99/100 [00:18<00:00,  6.26it/s]\n"
     ]
    },
    {
     "name": "stdout",
     "output_type": "stream",
     "text": [
      "Tree 100/100, NDCG: 0.3429                                                      \n",
      " 20%|██        | 1/5 [00:38<01:13, 18.31s/trial, best loss: -0.3572708593263731]"
     ]
    },
    {
     "name": "stderr",
     "output_type": "stream",
     "text": [
      "100%|##########| 100/100 [00:18<00:00,  6.32it/s]\n",
      "100%|##########| 100/100 [00:18<00:00,  5.47it/s]\n"
     ]
    },
    {
     "name": "stdout",
     "output_type": "stream",
     "text": [
      " 40%|████      | 2/5 [00:38<00:58, 19.34s/trial, best loss: -0.3572708593263731]"
     ]
    },
    {
     "name": "stderr",
     "output_type": "stream",
     "text": [
      "  0%|          | 0/100 [00:00<?, ?it/s]\n"
     ]
    },
    {
     "name": "stdout",
     "output_type": "stream",
     "text": [
      "Tree 1/100, NDCG: 0.2687                                                        \n",
      " 40%|████      | 2/5 [00:40<00:58, 19.34s/trial, best loss: -0.3572708593263731]"
     ]
    },
    {
     "name": "stderr",
     "output_type": "stream",
     "text": [
      "  1%|1         | 1/100 [00:00<00:22,  4.48it/s]\n"
     ]
    },
    {
     "name": "stdout",
     "output_type": "stream",
     "text": [
      "Tree 2/100, NDCG: 0.3006                                                        \n",
      " 40%|████      | 2/5 [00:40<00:58, 19.34s/trial, best loss: -0.3572708593263731]"
     ]
    },
    {
     "name": "stderr",
     "output_type": "stream",
     "text": [
      "  2%|2         | 2/100 [00:00<00:23,  4.11it/s]\n"
     ]
    },
    {
     "name": "stdout",
     "output_type": "stream",
     "text": [
      "Tree 3/100, NDCG: 0.2901                                                        \n",
      " 40%|████      | 2/5 [00:40<00:58, 19.34s/trial, best loss: -0.3572708593263731]"
     ]
    },
    {
     "name": "stderr",
     "output_type": "stream",
     "text": [
      "  3%|3         | 3/100 [00:00<00:26,  3.65it/s]\n"
     ]
    },
    {
     "name": "stdout",
     "output_type": "stream",
     "text": [
      "Tree 4/100, NDCG: 0.2965                                                        \n",
      " 40%|████      | 2/5 [00:41<00:58, 19.34s/trial, best loss: -0.3572708593263731]"
     ]
    },
    {
     "name": "stderr",
     "output_type": "stream",
     "text": [
      "  4%|4         | 4/100 [00:01<00:26,  3.57it/s]\n"
     ]
    },
    {
     "name": "stdout",
     "output_type": "stream",
     "text": [
      "Tree 5/100, NDCG: 0.3041                                                        \n",
      " 40%|████      | 2/5 [00:41<00:58, 19.34s/trial, best loss: -0.3572708593263731]"
     ]
    },
    {
     "name": "stderr",
     "output_type": "stream",
     "text": [
      "  5%|5         | 5/100 [00:01<00:27,  3.48it/s]\n"
     ]
    },
    {
     "name": "stdout",
     "output_type": "stream",
     "text": [
      "Tree 6/100, NDCG: 0.3156                                                        \n",
      " 40%|████      | 2/5 [00:41<00:58, 19.34s/trial, best loss: -0.3572708593263731]"
     ]
    },
    {
     "name": "stderr",
     "output_type": "stream",
     "text": [
      "  6%|6         | 6/100 [00:01<00:25,  3.73it/s]\n"
     ]
    },
    {
     "name": "stdout",
     "output_type": "stream",
     "text": [
      "Tree 7/100, NDCG: 0.3188                                                        \n",
      " 40%|████      | 2/5 [00:42<00:58, 19.34s/trial, best loss: -0.3572708593263731]"
     ]
    },
    {
     "name": "stderr",
     "output_type": "stream",
     "text": [
      "  7%|7         | 7/100 [00:01<00:23,  3.88it/s]\n"
     ]
    },
    {
     "name": "stdout",
     "output_type": "stream",
     "text": [
      "Tree 8/100, NDCG: 0.3219                                                        \n",
      " 40%|████      | 2/5 [00:42<00:58, 19.34s/trial, best loss: -0.3572708593263731]"
     ]
    },
    {
     "name": "stderr",
     "output_type": "stream",
     "text": [
      "  8%|8         | 8/100 [00:02<00:22,  4.03it/s]\n"
     ]
    },
    {
     "name": "stdout",
     "output_type": "stream",
     "text": [
      "Tree 9/100, NDCG: 0.3289                                                        \n",
      " 40%|████      | 2/5 [00:42<00:58, 19.34s/trial, best loss: -0.3572708593263731]"
     ]
    },
    {
     "name": "stderr",
     "output_type": "stream",
     "text": [
      "  9%|9         | 9/100 [00:02<00:21,  4.21it/s]\n"
     ]
    },
    {
     "name": "stdout",
     "output_type": "stream",
     "text": [
      "Tree 10/100, NDCG: 0.3305                                                       \n",
      " 40%|████      | 2/5 [00:42<00:58, 19.34s/trial, best loss: -0.3572708593263731]"
     ]
    },
    {
     "name": "stderr",
     "output_type": "stream",
     "text": [
      " 10%|#         | 10/100 [00:02<00:21,  4.25it/s]\n"
     ]
    },
    {
     "name": "stdout",
     "output_type": "stream",
     "text": [
      "Tree 11/100, NDCG: 0.3333                                                       \n",
      " 40%|████      | 2/5 [00:42<00:58, 19.34s/trial, best loss: -0.3572708593263731]"
     ]
    },
    {
     "name": "stderr",
     "output_type": "stream",
     "text": [
      " 11%|#1        | 11/100 [00:02<00:20,  4.37it/s]\n"
     ]
    },
    {
     "name": "stdout",
     "output_type": "stream",
     "text": [
      "Tree 12/100, NDCG: 0.3263                                                       \n",
      " 40%|████      | 2/5 [00:43<00:58, 19.34s/trial, best loss: -0.3572708593263731]"
     ]
    },
    {
     "name": "stderr",
     "output_type": "stream",
     "text": [
      " 12%|#2        | 12/100 [00:02<00:19,  4.42it/s]\n"
     ]
    },
    {
     "name": "stdout",
     "output_type": "stream",
     "text": [
      "Tree 13/100, NDCG: 0.3450                                                       \n",
      " 40%|████      | 2/5 [00:43<00:58, 19.34s/trial, best loss: -0.3572708593263731]"
     ]
    },
    {
     "name": "stderr",
     "output_type": "stream",
     "text": [
      " 13%|#3        | 13/100 [00:03<00:19,  4.44it/s]\n"
     ]
    },
    {
     "name": "stdout",
     "output_type": "stream",
     "text": [
      "Tree 14/100, NDCG: 0.3566                                                       \n",
      " 40%|████      | 2/5 [00:43<00:58, 19.34s/trial, best loss: -0.3572708593263731]"
     ]
    },
    {
     "name": "stderr",
     "output_type": "stream",
     "text": [
      " 14%|#4        | 14/100 [00:03<00:19,  4.31it/s]\n"
     ]
    },
    {
     "name": "stdout",
     "output_type": "stream",
     "text": [
      "Tree 15/100, NDCG: 0.3616                                                       \n",
      " 40%|████      | 2/5 [00:43<00:58, 19.34s/trial, best loss: -0.3572708593263731]"
     ]
    },
    {
     "name": "stderr",
     "output_type": "stream",
     "text": [
      " 15%|#5        | 15/100 [00:03<00:19,  4.44it/s]\n"
     ]
    },
    {
     "name": "stdout",
     "output_type": "stream",
     "text": [
      "Tree 16/100, NDCG: 0.3605                                                       \n",
      " 40%|████      | 2/5 [00:44<00:58, 19.34s/trial, best loss: -0.3572708593263731]"
     ]
    },
    {
     "name": "stderr",
     "output_type": "stream",
     "text": [
      " 16%|#6        | 16/100 [00:03<00:20,  4.07it/s]\n"
     ]
    },
    {
     "name": "stdout",
     "output_type": "stream",
     "text": [
      "Tree 17/100, NDCG: 0.3542                                                       \n",
      " 40%|████      | 2/5 [00:44<00:58, 19.34s/trial, best loss: -0.3572708593263731]"
     ]
    },
    {
     "name": "stderr",
     "output_type": "stream",
     "text": [
      " 17%|#7        | 17/100 [00:04<00:19,  4.21it/s]\n"
     ]
    },
    {
     "name": "stdout",
     "output_type": "stream",
     "text": [
      "Tree 18/100, NDCG: 0.3508                                                       \n",
      " 40%|████      | 2/5 [00:44<00:58, 19.34s/trial, best loss: -0.3572708593263731]"
     ]
    },
    {
     "name": "stderr",
     "output_type": "stream",
     "text": [
      " 18%|#8        | 18/100 [00:04<00:20,  4.09it/s]\n"
     ]
    },
    {
     "name": "stdout",
     "output_type": "stream",
     "text": [
      "Tree 19/100, NDCG: 0.3542                                                       \n",
      " 40%|████      | 2/5 [00:44<00:58, 19.34s/trial, best loss: -0.3572708593263731]"
     ]
    },
    {
     "name": "stderr",
     "output_type": "stream",
     "text": [
      " 19%|#9        | 19/100 [00:04<00:18,  4.36it/s]\n"
     ]
    },
    {
     "name": "stdout",
     "output_type": "stream",
     "text": [
      "Tree 20/100, NDCG: 0.3558                                                       \n",
      " 40%|████      | 2/5 [00:44<00:58, 19.34s/trial, best loss: -0.3572708593263731]"
     ]
    },
    {
     "name": "stderr",
     "output_type": "stream",
     "text": [
      " 20%|##        | 20/100 [00:04<00:18,  4.39it/s]\n"
     ]
    },
    {
     "name": "stdout",
     "output_type": "stream",
     "text": [
      "Tree 21/100, NDCG: 0.3551                                                       \n",
      " 40%|████      | 2/5 [00:45<00:58, 19.34s/trial, best loss: -0.3572708593263731]"
     ]
    },
    {
     "name": "stderr",
     "output_type": "stream",
     "text": [
      " 21%|##1       | 21/100 [00:05<00:18,  4.34it/s]\n"
     ]
    },
    {
     "name": "stdout",
     "output_type": "stream",
     "text": [
      "Tree 22/100, NDCG: 0.3586                                                       \n",
      " 40%|████      | 2/5 [00:45<00:58, 19.34s/trial, best loss: -0.3572708593263731]"
     ]
    },
    {
     "name": "stderr",
     "output_type": "stream",
     "text": [
      " 22%|##2       | 22/100 [00:05<00:17,  4.44it/s]\n"
     ]
    },
    {
     "name": "stdout",
     "output_type": "stream",
     "text": [
      "Tree 23/100, NDCG: 0.3601                                                       \n",
      " 40%|████      | 2/5 [00:45<00:58, 19.34s/trial, best loss: -0.3572708593263731]"
     ]
    },
    {
     "name": "stderr",
     "output_type": "stream",
     "text": [
      " 23%|##3       | 23/100 [00:05<00:16,  4.65it/s]\n"
     ]
    },
    {
     "name": "stdout",
     "output_type": "stream",
     "text": [
      "Tree 24/100, NDCG: 0.3551                                                       \n",
      " 40%|████      | 2/5 [00:45<00:58, 19.34s/trial, best loss: -0.3572708593263731]"
     ]
    },
    {
     "name": "stderr",
     "output_type": "stream",
     "text": [
      " 24%|##4       | 24/100 [00:05<00:16,  4.60it/s]\n"
     ]
    },
    {
     "name": "stdout",
     "output_type": "stream",
     "text": [
      "Tree 25/100, NDCG: 0.3473                                                       \n",
      " 40%|████      | 2/5 [00:46<00:58, 19.34s/trial, best loss: -0.3572708593263731]"
     ]
    },
    {
     "name": "stderr",
     "output_type": "stream",
     "text": [
      " 25%|##5       | 25/100 [00:05<00:15,  4.73it/s]\n"
     ]
    },
    {
     "name": "stdout",
     "output_type": "stream",
     "text": [
      "Tree 26/100, NDCG: 0.3431                                                       \n",
      " 40%|████      | 2/5 [00:46<00:58, 19.34s/trial, best loss: -0.3572708593263731]"
     ]
    },
    {
     "name": "stderr",
     "output_type": "stream",
     "text": [
      " 26%|##6       | 26/100 [00:06<00:15,  4.77it/s]\n"
     ]
    },
    {
     "name": "stdout",
     "output_type": "stream",
     "text": [
      "Tree 27/100, NDCG: 0.3514                                                       \n",
      " 40%|████      | 2/5 [00:46<00:58, 19.34s/trial, best loss: -0.3572708593263731]"
     ]
    },
    {
     "name": "stderr",
     "output_type": "stream",
     "text": [
      " 27%|##7       | 27/100 [00:06<00:16,  4.38it/s]\n"
     ]
    },
    {
     "name": "stdout",
     "output_type": "stream",
     "text": [
      "Tree 28/100, NDCG: 0.3535                                                       \n",
      " 40%|████      | 2/5 [00:46<00:58, 19.34s/trial, best loss: -0.3572708593263731]"
     ]
    },
    {
     "name": "stderr",
     "output_type": "stream",
     "text": [
      " 28%|##8       | 28/100 [00:06<00:16,  4.44it/s]\n"
     ]
    },
    {
     "name": "stdout",
     "output_type": "stream",
     "text": [
      "Tree 29/100, NDCG: 0.3513                                                       \n",
      " 40%|████      | 2/5 [00:46<00:58, 19.34s/trial, best loss: -0.3572708593263731]"
     ]
    },
    {
     "name": "stderr",
     "output_type": "stream",
     "text": [
      " 29%|##9       | 29/100 [00:06<00:16,  4.44it/s]\n"
     ]
    },
    {
     "name": "stdout",
     "output_type": "stream",
     "text": [
      "Tree 30/100, NDCG: 0.3531                                                       \n",
      " 40%|████      | 2/5 [00:47<00:58, 19.34s/trial, best loss: -0.3572708593263731]"
     ]
    },
    {
     "name": "stderr",
     "output_type": "stream",
     "text": [
      " 30%|###       | 30/100 [00:07<00:16,  4.30it/s]\n"
     ]
    },
    {
     "name": "stdout",
     "output_type": "stream",
     "text": [
      "Tree 31/100, NDCG: 0.3607                                                       \n",
      " 40%|████      | 2/5 [00:47<00:58, 19.34s/trial, best loss: -0.3572708593263731]"
     ]
    },
    {
     "name": "stderr",
     "output_type": "stream",
     "text": [
      " 31%|###1      | 31/100 [00:07<00:15,  4.41it/s]\n"
     ]
    },
    {
     "name": "stdout",
     "output_type": "stream",
     "text": [
      "Tree 32/100, NDCG: 0.3573                                                       \n",
      " 40%|████      | 2/5 [00:47<00:58, 19.34s/trial, best loss: -0.3572708593263731]"
     ]
    },
    {
     "name": "stderr",
     "output_type": "stream",
     "text": [
      " 32%|###2      | 32/100 [00:07<00:15,  4.44it/s]\n"
     ]
    },
    {
     "name": "stdout",
     "output_type": "stream",
     "text": [
      "Tree 33/100, NDCG: 0.3595                                                       \n",
      " 40%|████      | 2/5 [00:47<00:58, 19.34s/trial, best loss: -0.3572708593263731]"
     ]
    },
    {
     "name": "stderr",
     "output_type": "stream",
     "text": [
      " 33%|###3      | 33/100 [00:07<00:15,  4.31it/s]\n"
     ]
    },
    {
     "name": "stdout",
     "output_type": "stream",
     "text": [
      "Tree 34/100, NDCG: 0.3574                                                       \n",
      " 40%|████      | 2/5 [00:48<00:58, 19.34s/trial, best loss: -0.3572708593263731]"
     ]
    },
    {
     "name": "stderr",
     "output_type": "stream",
     "text": [
      " 34%|###4      | 34/100 [00:07<00:14,  4.45it/s]\n"
     ]
    },
    {
     "name": "stdout",
     "output_type": "stream",
     "text": [
      "Tree 35/100, NDCG: 0.3549                                                       \n",
      " 40%|████      | 2/5 [00:48<00:58, 19.34s/trial, best loss: -0.3572708593263731]"
     ]
    },
    {
     "name": "stderr",
     "output_type": "stream",
     "text": [
      " 35%|###5      | 35/100 [00:08<00:14,  4.59it/s]\n"
     ]
    },
    {
     "name": "stdout",
     "output_type": "stream",
     "text": [
      "Tree 36/100, NDCG: 0.3578                                                       \n",
      " 40%|████      | 2/5 [00:48<00:58, 19.34s/trial, best loss: -0.3572708593263731]"
     ]
    },
    {
     "name": "stderr",
     "output_type": "stream",
     "text": [
      " 36%|###6      | 36/100 [00:08<00:14,  4.38it/s]\n"
     ]
    },
    {
     "name": "stdout",
     "output_type": "stream",
     "text": [
      "Tree 37/100, NDCG: 0.3539                                                       \n",
      " 40%|████      | 2/5 [00:48<00:58, 19.34s/trial, best loss: -0.3572708593263731]"
     ]
    },
    {
     "name": "stderr",
     "output_type": "stream",
     "text": [
      " 37%|###7      | 37/100 [00:08<00:15,  3.96it/s]\n"
     ]
    },
    {
     "name": "stdout",
     "output_type": "stream",
     "text": [
      "Tree 38/100, NDCG: 0.3549                                                       \n",
      " 40%|████      | 2/5 [00:49<00:58, 19.34s/trial, best loss: -0.3572708593263731]"
     ]
    },
    {
     "name": "stderr",
     "output_type": "stream",
     "text": [
      " 38%|###8      | 38/100 [00:08<00:14,  4.18it/s]\n"
     ]
    },
    {
     "name": "stdout",
     "output_type": "stream",
     "text": [
      "Tree 39/100, NDCG: 0.3549                                                       \n",
      " 40%|████      | 2/5 [00:49<00:58, 19.34s/trial, best loss: -0.3572708593263731]"
     ]
    },
    {
     "name": "stderr",
     "output_type": "stream",
     "text": [
      " 39%|###9      | 39/100 [00:09<00:14,  4.34it/s]\n"
     ]
    },
    {
     "name": "stdout",
     "output_type": "stream",
     "text": [
      "Tree 40/100, NDCG: 0.3510                                                       \n",
      " 40%|████      | 2/5 [00:49<00:58, 19.34s/trial, best loss: -0.3572708593263731]"
     ]
    },
    {
     "name": "stderr",
     "output_type": "stream",
     "text": [
      " 40%|####      | 40/100 [00:09<00:13,  4.55it/s]\n"
     ]
    },
    {
     "name": "stdout",
     "output_type": "stream",
     "text": [
      "Tree 41/100, NDCG: 0.3531                                                       \n",
      " 40%|████      | 2/5 [00:49<00:58, 19.34s/trial, best loss: -0.3572708593263731]"
     ]
    },
    {
     "name": "stderr",
     "output_type": "stream",
     "text": [
      " 41%|####1     | 41/100 [00:09<00:12,  4.56it/s]\n"
     ]
    },
    {
     "name": "stdout",
     "output_type": "stream",
     "text": [
      "Tree 42/100, NDCG: 0.3533                                                       \n",
      " 40%|████      | 2/5 [00:49<00:58, 19.34s/trial, best loss: -0.3572708593263731]"
     ]
    },
    {
     "name": "stderr",
     "output_type": "stream",
     "text": [
      " 42%|####2     | 42/100 [00:09<00:12,  4.53it/s]\n"
     ]
    },
    {
     "name": "stdout",
     "output_type": "stream",
     "text": [
      "Tree 43/100, NDCG: 0.3511                                                       \n",
      " 40%|████      | 2/5 [00:50<00:58, 19.34s/trial, best loss: -0.3572708593263731]"
     ]
    },
    {
     "name": "stderr",
     "output_type": "stream",
     "text": [
      " 43%|####3     | 43/100 [00:09<00:12,  4.52it/s]\n"
     ]
    },
    {
     "name": "stdout",
     "output_type": "stream",
     "text": [
      "Tree 44/100, NDCG: 0.3540                                                       \n",
      " 40%|████      | 2/5 [00:50<00:58, 19.34s/trial, best loss: -0.3572708593263731]"
     ]
    },
    {
     "name": "stderr",
     "output_type": "stream",
     "text": [
      " 44%|####4     | 44/100 [00:10<00:12,  4.52it/s]\n"
     ]
    },
    {
     "name": "stdout",
     "output_type": "stream",
     "text": [
      "Tree 45/100, NDCG: 0.3522                                                       \n",
      " 40%|████      | 2/5 [00:50<00:58, 19.34s/trial, best loss: -0.3572708593263731]"
     ]
    },
    {
     "name": "stderr",
     "output_type": "stream",
     "text": [
      " 45%|####5     | 45/100 [00:10<00:12,  4.57it/s]\n"
     ]
    },
    {
     "name": "stdout",
     "output_type": "stream",
     "text": [
      "Tree 46/100, NDCG: 0.3508                                                       \n",
      " 40%|████      | 2/5 [00:50<00:58, 19.34s/trial, best loss: -0.3572708593263731]"
     ]
    },
    {
     "name": "stderr",
     "output_type": "stream",
     "text": [
      " 46%|####6     | 46/100 [00:10<00:11,  4.59it/s]\n"
     ]
    },
    {
     "name": "stdout",
     "output_type": "stream",
     "text": [
      "Tree 47/100, NDCG: 0.3522                                                       \n",
      " 40%|████      | 2/5 [00:51<00:58, 19.34s/trial, best loss: -0.3572708593263731]"
     ]
    },
    {
     "name": "stderr",
     "output_type": "stream",
     "text": [
      " 47%|####6     | 47/100 [00:10<00:12,  4.28it/s]\n"
     ]
    },
    {
     "name": "stdout",
     "output_type": "stream",
     "text": [
      "Tree 48/100, NDCG: 0.3529                                                       \n",
      " 40%|████      | 2/5 [00:51<00:58, 19.34s/trial, best loss: -0.3572708593263731]"
     ]
    },
    {
     "name": "stderr",
     "output_type": "stream",
     "text": [
      " 48%|####8     | 48/100 [00:11<00:11,  4.33it/s]\n"
     ]
    },
    {
     "name": "stdout",
     "output_type": "stream",
     "text": [
      "Tree 49/100, NDCG: 0.3505                                                       \n",
      " 40%|████      | 2/5 [00:51<00:58, 19.34s/trial, best loss: -0.3572708593263731]"
     ]
    },
    {
     "name": "stderr",
     "output_type": "stream",
     "text": [
      " 49%|####9     | 49/100 [00:11<00:11,  4.47it/s]\n"
     ]
    },
    {
     "name": "stdout",
     "output_type": "stream",
     "text": [
      "Tree 50/100, NDCG: 0.3527                                                       \n",
      " 40%|████      | 2/5 [00:51<00:58, 19.34s/trial, best loss: -0.3572708593263731]"
     ]
    },
    {
     "name": "stderr",
     "output_type": "stream",
     "text": [
      " 50%|#####     | 50/100 [00:11<00:10,  4.75it/s]\n"
     ]
    },
    {
     "name": "stdout",
     "output_type": "stream",
     "text": [
      "Tree 51/100, NDCG: 0.3529                                                       \n",
      " 40%|████      | 2/5 [00:51<00:58, 19.34s/trial, best loss: -0.3572708593263731]"
     ]
    },
    {
     "name": "stderr",
     "output_type": "stream",
     "text": [
      " 51%|#####1    | 51/100 [00:11<00:09,  4.97it/s]\n"
     ]
    },
    {
     "name": "stdout",
     "output_type": "stream",
     "text": [
      "Tree 52/100, NDCG: 0.3512                                                       \n",
      " 40%|████      | 2/5 [00:52<00:58, 19.34s/trial, best loss: -0.3572708593263731]"
     ]
    },
    {
     "name": "stderr",
     "output_type": "stream",
     "text": [
      " 52%|#####2    | 52/100 [00:11<00:09,  4.83it/s]\n"
     ]
    },
    {
     "name": "stdout",
     "output_type": "stream",
     "text": [
      "Tree 53/100, NDCG: 0.3460                                                       \n",
      " 40%|████      | 2/5 [00:52<00:58, 19.34s/trial, best loss: -0.3572708593263731]"
     ]
    },
    {
     "name": "stderr",
     "output_type": "stream",
     "text": [
      " 53%|#####3    | 53/100 [00:12<00:09,  4.97it/s]\n"
     ]
    },
    {
     "name": "stdout",
     "output_type": "stream",
     "text": [
      "Tree 54/100, NDCG: 0.3457                                                       \n",
      " 40%|████      | 2/5 [00:52<00:58, 19.34s/trial, best loss: -0.3572708593263731]"
     ]
    },
    {
     "name": "stderr",
     "output_type": "stream",
     "text": [
      " 54%|#####4    | 54/100 [00:12<00:09,  5.04it/s]\n"
     ]
    },
    {
     "name": "stdout",
     "output_type": "stream",
     "text": [
      "Tree 55/100, NDCG: 0.3432                                                       \n",
      " 40%|████      | 2/5 [00:52<00:58, 19.34s/trial, best loss: -0.3572708593263731]"
     ]
    },
    {
     "name": "stderr",
     "output_type": "stream",
     "text": [
      " 55%|#####5    | 55/100 [00:12<00:09,  4.99it/s]\n"
     ]
    },
    {
     "name": "stdout",
     "output_type": "stream",
     "text": [
      "Tree 56/100, NDCG: 0.3429                                                       \n",
      " 40%|████      | 2/5 [00:53<00:58, 19.34s/trial, best loss: -0.3572708593263731]"
     ]
    },
    {
     "name": "stderr",
     "output_type": "stream",
     "text": [
      " 56%|#####6    | 56/100 [00:12<00:12,  3.53it/s]\n"
     ]
    },
    {
     "name": "stdout",
     "output_type": "stream",
     "text": [
      "Tree 57/100, NDCG: 0.3456                                                       \n",
      " 40%|████      | 2/5 [00:53<00:58, 19.34s/trial, best loss: -0.3572708593263731]"
     ]
    },
    {
     "name": "stderr",
     "output_type": "stream",
     "text": [
      " 57%|#####6    | 57/100 [00:13<00:11,  3.63it/s]\n"
     ]
    },
    {
     "name": "stdout",
     "output_type": "stream",
     "text": [
      "Tree 58/100, NDCG: 0.3449                                                       \n",
      " 40%|████      | 2/5 [00:53<00:58, 19.34s/trial, best loss: -0.3572708593263731]"
     ]
    },
    {
     "name": "stderr",
     "output_type": "stream",
     "text": [
      " 58%|#####8    | 58/100 [00:13<00:12,  3.48it/s]\n"
     ]
    },
    {
     "name": "stdout",
     "output_type": "stream",
     "text": [
      "Tree 59/100, NDCG: 0.3463                                                       \n",
      " 40%|████      | 2/5 [00:54<00:58, 19.34s/trial, best loss: -0.3572708593263731]"
     ]
    },
    {
     "name": "stderr",
     "output_type": "stream",
     "text": [
      " 59%|#####8    | 59/100 [00:13<00:12,  3.26it/s]\n"
     ]
    },
    {
     "name": "stdout",
     "output_type": "stream",
     "text": [
      "Tree 60/100, NDCG: 0.3490                                                       \n",
      " 40%|████      | 2/5 [00:54<00:58, 19.34s/trial, best loss: -0.3572708593263731]"
     ]
    },
    {
     "name": "stderr",
     "output_type": "stream",
     "text": [
      " 60%|######    | 60/100 [00:14<00:12,  3.26it/s]\n"
     ]
    },
    {
     "name": "stdout",
     "output_type": "stream",
     "text": [
      "Tree 61/100, NDCG: 0.3505                                                       \n",
      " 40%|████      | 2/5 [00:54<00:58, 19.34s/trial, best loss: -0.3572708593263731]"
     ]
    },
    {
     "name": "stderr",
     "output_type": "stream",
     "text": [
      " 61%|######1   | 61/100 [00:14<00:11,  3.25it/s]\n"
     ]
    },
    {
     "name": "stdout",
     "output_type": "stream",
     "text": [
      "Tree 62/100, NDCG: 0.3502                                                       \n",
      " 40%|████      | 2/5 [00:54<00:58, 19.34s/trial, best loss: -0.3572708593263731]"
     ]
    },
    {
     "name": "stderr",
     "output_type": "stream",
     "text": [
      " 62%|######2   | 62/100 [00:14<00:11,  3.29it/s]\n"
     ]
    },
    {
     "name": "stdout",
     "output_type": "stream",
     "text": [
      "Tree 63/100, NDCG: 0.3496                                                       \n",
      " 40%|████      | 2/5 [00:55<00:58, 19.34s/trial, best loss: -0.3572708593263731]"
     ]
    },
    {
     "name": "stderr",
     "output_type": "stream",
     "text": [
      " 63%|######3   | 63/100 [00:15<00:11,  3.25it/s]\n"
     ]
    },
    {
     "name": "stdout",
     "output_type": "stream",
     "text": [
      "Tree 64/100, NDCG: 0.3483                                                       \n",
      " 40%|████      | 2/5 [00:55<00:58, 19.34s/trial, best loss: -0.3572708593263731]"
     ]
    },
    {
     "name": "stderr",
     "output_type": "stream",
     "text": [
      " 64%|######4   | 64/100 [00:15<00:11,  3.09it/s]\n"
     ]
    },
    {
     "name": "stdout",
     "output_type": "stream",
     "text": [
      "Tree 65/100, NDCG: 0.3487                                                       \n",
      " 40%|████      | 2/5 [00:55<00:58, 19.34s/trial, best loss: -0.3572708593263731]"
     ]
    },
    {
     "name": "stderr",
     "output_type": "stream",
     "text": [
      " 65%|######5   | 65/100 [00:15<00:10,  3.32it/s]\n"
     ]
    },
    {
     "name": "stdout",
     "output_type": "stream",
     "text": [
      "Tree 66/100, NDCG: 0.3493                                                       \n",
      " 40%|████      | 2/5 [00:56<00:58, 19.34s/trial, best loss: -0.3572708593263731]"
     ]
    },
    {
     "name": "stderr",
     "output_type": "stream",
     "text": [
      " 66%|######6   | 66/100 [00:16<00:11,  2.98it/s]\n"
     ]
    },
    {
     "name": "stdout",
     "output_type": "stream",
     "text": [
      "Tree 67/100, NDCG: 0.3502                                                       \n",
      " 40%|████      | 2/5 [00:56<00:58, 19.34s/trial, best loss: -0.3572708593263731]"
     ]
    },
    {
     "name": "stderr",
     "output_type": "stream",
     "text": [
      " 67%|######7   | 67/100 [00:16<00:10,  3.23it/s]\n"
     ]
    },
    {
     "name": "stdout",
     "output_type": "stream",
     "text": [
      "Tree 68/100, NDCG: 0.3490                                                       \n",
      " 40%|████      | 2/5 [00:56<00:58, 19.34s/trial, best loss: -0.3572708593263731]"
     ]
    },
    {
     "name": "stderr",
     "output_type": "stream",
     "text": [
      " 68%|######8   | 68/100 [00:16<00:09,  3.47it/s]\n"
     ]
    },
    {
     "name": "stdout",
     "output_type": "stream",
     "text": [
      "Tree 69/100, NDCG: 0.3523                                                       \n",
      " 40%|████      | 2/5 [00:57<00:58, 19.34s/trial, best loss: -0.3572708593263731]"
     ]
    },
    {
     "name": "stderr",
     "output_type": "stream",
     "text": [
      " 69%|######9   | 69/100 [00:16<00:08,  3.76it/s]\n"
     ]
    },
    {
     "name": "stdout",
     "output_type": "stream",
     "text": [
      "Tree 70/100, NDCG: 0.3551                                                       \n",
      " 40%|████      | 2/5 [00:57<00:58, 19.34s/trial, best loss: -0.3572708593263731]"
     ]
    },
    {
     "name": "stderr",
     "output_type": "stream",
     "text": [
      " 70%|#######   | 70/100 [00:17<00:07,  3.98it/s]\n"
     ]
    },
    {
     "name": "stdout",
     "output_type": "stream",
     "text": [
      "Tree 71/100, NDCG: 0.3541                                                       \n",
      " 40%|████      | 2/5 [00:57<00:58, 19.34s/trial, best loss: -0.3572708593263731]"
     ]
    },
    {
     "name": "stderr",
     "output_type": "stream",
     "text": [
      " 71%|#######1  | 71/100 [00:17<00:07,  3.81it/s]\n"
     ]
    },
    {
     "name": "stdout",
     "output_type": "stream",
     "text": [
      "Tree 72/100, NDCG: 0.3574                                                       \n",
      " 40%|████      | 2/5 [00:57<00:58, 19.34s/trial, best loss: -0.3572708593263731]"
     ]
    },
    {
     "name": "stderr",
     "output_type": "stream",
     "text": [
      " 72%|#######2  | 72/100 [00:17<00:07,  3.85it/s]\n"
     ]
    },
    {
     "name": "stdout",
     "output_type": "stream",
     "text": [
      "Tree 73/100, NDCG: 0.3598                                                       \n",
      " 40%|████      | 2/5 [00:58<00:58, 19.34s/trial, best loss: -0.3572708593263731]"
     ]
    },
    {
     "name": "stderr",
     "output_type": "stream",
     "text": [
      " 73%|#######3  | 73/100 [00:17<00:06,  3.97it/s]\n"
     ]
    },
    {
     "name": "stdout",
     "output_type": "stream",
     "text": [
      "Tree 74/100, NDCG: 0.3610                                                       \n",
      " 40%|████      | 2/5 [00:58<00:58, 19.34s/trial, best loss: -0.3572708593263731]"
     ]
    },
    {
     "name": "stderr",
     "output_type": "stream",
     "text": [
      " 74%|#######4  | 74/100 [00:18<00:06,  4.29it/s]\n"
     ]
    },
    {
     "name": "stdout",
     "output_type": "stream",
     "text": [
      "Tree 75/100, NDCG: 0.3610                                                       \n",
      " 40%|████      | 2/5 [00:58<00:58, 19.34s/trial, best loss: -0.3572708593263731]"
     ]
    },
    {
     "name": "stderr",
     "output_type": "stream",
     "text": [
      " 75%|#######5  | 75/100 [00:18<00:05,  4.54it/s]\n"
     ]
    },
    {
     "name": "stdout",
     "output_type": "stream",
     "text": [
      "Tree 76/100, NDCG: 0.3596                                                       \n",
      " 40%|████      | 2/5 [00:58<00:58, 19.34s/trial, best loss: -0.3572708593263731]"
     ]
    },
    {
     "name": "stderr",
     "output_type": "stream",
     "text": [
      " 76%|#######6  | 76/100 [00:18<00:05,  4.77it/s]\n"
     ]
    },
    {
     "name": "stdout",
     "output_type": "stream",
     "text": [
      "Tree 77/100, NDCG: 0.3603                                                       \n",
      " 40%|████      | 2/5 [00:58<00:58, 19.34s/trial, best loss: -0.3572708593263731]"
     ]
    },
    {
     "name": "stderr",
     "output_type": "stream",
     "text": [
      " 77%|#######7  | 77/100 [00:18<00:04,  4.95it/s]\n"
     ]
    },
    {
     "name": "stdout",
     "output_type": "stream",
     "text": [
      "Tree 78/100, NDCG: 0.3586                                                       \n",
      " 40%|████      | 2/5 [00:59<00:58, 19.34s/trial, best loss: -0.3572708593263731]"
     ]
    },
    {
     "name": "stderr",
     "output_type": "stream",
     "text": [
      " 78%|#######8  | 78/100 [00:18<00:04,  4.48it/s]\n"
     ]
    },
    {
     "name": "stdout",
     "output_type": "stream",
     "text": [
      "Tree 79/100, NDCG: 0.3575                                                       \n",
      " 40%|████      | 2/5 [00:59<00:58, 19.34s/trial, best loss: -0.3572708593263731]"
     ]
    },
    {
     "name": "stderr",
     "output_type": "stream",
     "text": [
      " 79%|#######9  | 79/100 [00:19<00:04,  4.72it/s]\n"
     ]
    },
    {
     "name": "stdout",
     "output_type": "stream",
     "text": [
      "Tree 80/100, NDCG: 0.3573                                                       \n",
      " 40%|████      | 2/5 [00:59<00:58, 19.34s/trial, best loss: -0.3572708593263731]"
     ]
    },
    {
     "name": "stderr",
     "output_type": "stream",
     "text": [
      " 80%|########  | 80/100 [00:19<00:04,  4.88it/s]\n"
     ]
    },
    {
     "name": "stdout",
     "output_type": "stream",
     "text": [
      "Tree 81/100, NDCG: 0.3561                                                       \n",
      " 40%|████      | 2/5 [00:59<00:58, 19.34s/trial, best loss: -0.3572708593263731]"
     ]
    },
    {
     "name": "stderr",
     "output_type": "stream",
     "text": [
      " 81%|########1 | 81/100 [00:19<00:03,  4.97it/s]\n"
     ]
    },
    {
     "name": "stdout",
     "output_type": "stream",
     "text": [
      "Tree 82/100, NDCG: 0.3573                                                       \n",
      " 40%|████      | 2/5 [00:59<00:58, 19.34s/trial, best loss: -0.3572708593263731]"
     ]
    },
    {
     "name": "stderr",
     "output_type": "stream",
     "text": [
      " 82%|########2 | 82/100 [00:19<00:03,  5.08it/s]\n"
     ]
    },
    {
     "name": "stdout",
     "output_type": "stream",
     "text": [
      "Tree 83/100, NDCG: 0.3597                                                       \n",
      " 40%|████      | 2/5 [00:59<00:58, 19.34s/trial, best loss: -0.3572708593263731]"
     ]
    },
    {
     "name": "stderr",
     "output_type": "stream",
     "text": [
      " 83%|########2 | 83/100 [00:19<00:03,  5.16it/s]\n"
     ]
    },
    {
     "name": "stdout",
     "output_type": "stream",
     "text": [
      "Tree 84/100, NDCG: 0.3612                                                       \n",
      " 40%|████      | 2/5 [01:00<00:58, 19.34s/trial, best loss: -0.3572708593263731]"
     ]
    },
    {
     "name": "stderr",
     "output_type": "stream",
     "text": [
      " 84%|########4 | 84/100 [00:19<00:03,  5.26it/s]\n"
     ]
    },
    {
     "name": "stdout",
     "output_type": "stream",
     "text": [
      "Tree 85/100, NDCG: 0.3639                                                       \n",
      " 40%|████      | 2/5 [01:00<00:58, 19.34s/trial, best loss: -0.3572708593263731]"
     ]
    },
    {
     "name": "stderr",
     "output_type": "stream",
     "text": [
      " 85%|########5 | 85/100 [00:20<00:03,  4.60it/s]\n"
     ]
    },
    {
     "name": "stdout",
     "output_type": "stream",
     "text": [
      "Tree 86/100, NDCG: 0.3658                                                       \n",
      " 40%|████      | 2/5 [01:00<00:58, 19.34s/trial, best loss: -0.3572708593263731]"
     ]
    },
    {
     "name": "stderr",
     "output_type": "stream",
     "text": [
      " 86%|########6 | 86/100 [00:20<00:02,  4.75it/s]\n"
     ]
    },
    {
     "name": "stdout",
     "output_type": "stream",
     "text": [
      "Tree 87/100, NDCG: 0.3644                                                       \n",
      " 40%|████      | 2/5 [01:00<00:58, 19.34s/trial, best loss: -0.3572708593263731]"
     ]
    },
    {
     "name": "stderr",
     "output_type": "stream",
     "text": [
      " 87%|########7 | 87/100 [00:20<00:02,  4.98it/s]\n"
     ]
    },
    {
     "name": "stdout",
     "output_type": "stream",
     "text": [
      "Tree 88/100, NDCG: 0.3684                                                       \n",
      " 40%|████      | 2/5 [01:00<00:58, 19.34s/trial, best loss: -0.3572708593263731]"
     ]
    },
    {
     "name": "stderr",
     "output_type": "stream",
     "text": [
      " 88%|########8 | 88/100 [00:20<00:02,  5.15it/s]\n"
     ]
    },
    {
     "name": "stdout",
     "output_type": "stream",
     "text": [
      "Tree 89/100, NDCG: 0.3691                                                       \n",
      " 40%|████      | 2/5 [01:01<00:58, 19.34s/trial, best loss: -0.3572708593263731]"
     ]
    },
    {
     "name": "stderr",
     "output_type": "stream",
     "text": [
      " 89%|########9 | 89/100 [00:21<00:02,  5.23it/s]\n"
     ]
    },
    {
     "name": "stdout",
     "output_type": "stream",
     "text": [
      "Tree 90/100, NDCG: 0.3679                                                       \n",
      " 40%|████      | 2/5 [01:01<00:58, 19.34s/trial, best loss: -0.3572708593263731]"
     ]
    },
    {
     "name": "stderr",
     "output_type": "stream",
     "text": [
      " 90%|######### | 90/100 [00:21<00:01,  5.16it/s]\n"
     ]
    },
    {
     "name": "stdout",
     "output_type": "stream",
     "text": [
      "Tree 91/100, NDCG: 0.3689                                                       \n",
      " 40%|████      | 2/5 [01:01<00:58, 19.34s/trial, best loss: -0.3572708593263731]"
     ]
    },
    {
     "name": "stderr",
     "output_type": "stream",
     "text": [
      " 91%|#########1| 91/100 [00:21<00:01,  5.33it/s]\n"
     ]
    },
    {
     "name": "stdout",
     "output_type": "stream",
     "text": [
      "Tree 92/100, NDCG: 0.3669                                                       \n",
      " 40%|████      | 2/5 [01:01<00:58, 19.34s/trial, best loss: -0.3572708593263731]"
     ]
    },
    {
     "name": "stderr",
     "output_type": "stream",
     "text": [
      " 92%|#########2| 92/100 [00:21<00:01,  5.24it/s]\n"
     ]
    },
    {
     "name": "stdout",
     "output_type": "stream",
     "text": [
      "Tree 93/100, NDCG: 0.3622                                                       \n",
      " 40%|████      | 2/5 [01:02<00:58, 19.34s/trial, best loss: -0.3572708593263731]"
     ]
    },
    {
     "name": "stderr",
     "output_type": "stream",
     "text": [
      " 93%|#########3| 93/100 [00:21<00:01,  4.71it/s]\n"
     ]
    },
    {
     "name": "stdout",
     "output_type": "stream",
     "text": [
      "Tree 94/100, NDCG: 0.3671                                                       \n",
      " 40%|████      | 2/5 [01:02<00:58, 19.34s/trial, best loss: -0.3572708593263731]"
     ]
    },
    {
     "name": "stderr",
     "output_type": "stream",
     "text": [
      " 94%|#########3| 94/100 [00:22<00:01,  4.89it/s]\n"
     ]
    },
    {
     "name": "stdout",
     "output_type": "stream",
     "text": [
      "Tree 95/100, NDCG: 0.3679                                                       \n",
      " 40%|████      | 2/5 [01:02<00:58, 19.34s/trial, best loss: -0.3572708593263731]"
     ]
    },
    {
     "name": "stderr",
     "output_type": "stream",
     "text": [
      " 95%|#########5| 95/100 [00:22<00:00,  5.18it/s]\n"
     ]
    },
    {
     "name": "stdout",
     "output_type": "stream",
     "text": [
      "Tree 96/100, NDCG: 0.3679                                                       \n",
      " 40%|████      | 2/5 [01:02<00:58, 19.34s/trial, best loss: -0.3572708593263731]"
     ]
    },
    {
     "name": "stderr",
     "output_type": "stream",
     "text": [
      " 96%|#########6| 96/100 [00:22<00:00,  5.03it/s]\n"
     ]
    },
    {
     "name": "stdout",
     "output_type": "stream",
     "text": [
      "Tree 97/100, NDCG: 0.3677                                                       \n",
      " 40%|████      | 2/5 [01:02<00:58, 19.34s/trial, best loss: -0.3572708593263731]"
     ]
    },
    {
     "name": "stderr",
     "output_type": "stream",
     "text": [
      " 97%|#########7| 97/100 [00:22<00:00,  5.18it/s]\n"
     ]
    },
    {
     "name": "stdout",
     "output_type": "stream",
     "text": [
      "Tree 98/100, NDCG: 0.3690                                                       \n",
      " 40%|████      | 2/5 [01:02<00:58, 19.34s/trial, best loss: -0.3572708593263731]"
     ]
    },
    {
     "name": "stderr",
     "output_type": "stream",
     "text": [
      " 98%|#########8| 98/100 [00:22<00:00,  5.32it/s]\n"
     ]
    },
    {
     "name": "stdout",
     "output_type": "stream",
     "text": [
      "Tree 99/100, NDCG: 0.3697                                                       \n",
      " 40%|████      | 2/5 [01:03<00:58, 19.34s/trial, best loss: -0.3572708593263731]"
     ]
    },
    {
     "name": "stderr",
     "output_type": "stream",
     "text": [
      " 99%|#########9| 99/100 [00:22<00:00,  5.33it/s]\n"
     ]
    },
    {
     "name": "stdout",
     "output_type": "stream",
     "text": [
      "Tree 100/100, NDCG: 0.3695                                                      \n",
      " 40%|████      | 2/5 [01:03<00:58, 19.34s/trial, best loss: -0.3572708593263731]"
     ]
    },
    {
     "name": "stderr",
     "output_type": "stream",
     "text": [
      "100%|##########| 100/100 [00:23<00:00,  5.27it/s]\n",
      "100%|##########| 100/100 [00:23<00:00,  4.32it/s]\n"
     ]
    },
    {
     "name": "stdout",
     "output_type": "stream",
     "text": [
      " 60%|██████    | 3/5 [01:03<00:43, 21.90s/trial, best loss: -0.3696731871037515]"
     ]
    },
    {
     "name": "stderr",
     "output_type": "stream",
     "text": [
      "  0%|          | 0/100 [00:00<?, ?it/s]\n"
     ]
    },
    {
     "name": "stdout",
     "output_type": "stream",
     "text": [
      "Tree 1/100, NDCG: 0.2167                                                        \n",
      " 60%|██████    | 3/5 [01:05<00:43, 21.90s/trial, best loss: -0.3696731871037515]"
     ]
    },
    {
     "name": "stderr",
     "output_type": "stream",
     "text": [
      "  1%|1         | 1/100 [00:00<00:23,  4.20it/s]\n"
     ]
    },
    {
     "name": "stdout",
     "output_type": "stream",
     "text": [
      "Tree 2/100, NDCG: 0.2542                                                        \n",
      " 60%|██████    | 3/5 [01:07<00:43, 21.90s/trial, best loss: -0.3696731871037515]"
     ]
    },
    {
     "name": "stderr",
     "output_type": "stream",
     "text": [
      "  2%|2         | 2/100 [00:02<02:00,  1.23s/it]\n"
     ]
    },
    {
     "name": "stdout",
     "output_type": "stream",
     "text": [
      "Tree 3/100, NDCG: 0.2768                                                        \n",
      " 60%|██████    | 3/5 [01:07<00:43, 21.90s/trial, best loss: -0.3696731871037515]"
     ]
    },
    {
     "name": "stderr",
     "output_type": "stream",
     "text": [
      "  3%|3         | 3/100 [00:02<01:16,  1.26it/s]\n"
     ]
    },
    {
     "name": "stdout",
     "output_type": "stream",
     "text": [
      "Tree 4/100, NDCG: 0.2908                                                        \n",
      " 60%|██████    | 3/5 [01:07<00:43, 21.90s/trial, best loss: -0.3696731871037515]"
     ]
    },
    {
     "name": "stderr",
     "output_type": "stream",
     "text": [
      "  4%|4         | 4/100 [00:02<00:55,  1.74it/s]\n"
     ]
    },
    {
     "name": "stdout",
     "output_type": "stream",
     "text": [
      "Tree 5/100, NDCG: 0.2908                                                        \n",
      " 60%|██████    | 3/5 [01:08<00:43, 21.90s/trial, best loss: -0.3696731871037515]"
     ]
    },
    {
     "name": "stderr",
     "output_type": "stream",
     "text": [
      "  5%|5         | 5/100 [00:02<00:43,  2.18it/s]\n"
     ]
    },
    {
     "name": "stdout",
     "output_type": "stream",
     "text": [
      "Tree 6/100, NDCG: 0.2817                                                        \n",
      " 60%|██████    | 3/5 [01:08<00:43, 21.90s/trial, best loss: -0.3696731871037515]"
     ]
    },
    {
     "name": "stderr",
     "output_type": "stream",
     "text": [
      "  6%|6         | 6/100 [00:03<00:36,  2.59it/s]\n"
     ]
    },
    {
     "name": "stdout",
     "output_type": "stream",
     "text": [
      "Tree 7/100, NDCG: 0.2740                                                        \n",
      " 60%|██████    | 3/5 [01:08<00:43, 21.90s/trial, best loss: -0.3696731871037515]"
     ]
    },
    {
     "name": "stderr",
     "output_type": "stream",
     "text": [
      "  7%|7         | 7/100 [00:03<00:32,  2.89it/s]\n"
     ]
    },
    {
     "name": "stdout",
     "output_type": "stream",
     "text": [
      "Tree 8/100, NDCG: 0.2754                                                        \n",
      " 60%|██████    | 3/5 [01:08<00:43, 21.90s/trial, best loss: -0.3696731871037515]"
     ]
    },
    {
     "name": "stderr",
     "output_type": "stream",
     "text": [
      "  8%|8         | 8/100 [00:03<00:28,  3.25it/s]\n"
     ]
    },
    {
     "name": "stdout",
     "output_type": "stream",
     "text": [
      "Tree 9/100, NDCG: 0.2748                                                        \n",
      " 60%|██████    | 3/5 [01:09<00:43, 21.90s/trial, best loss: -0.3696731871037515]"
     ]
    },
    {
     "name": "stderr",
     "output_type": "stream",
     "text": [
      "  9%|9         | 9/100 [00:03<00:25,  3.59it/s]\n"
     ]
    },
    {
     "name": "stdout",
     "output_type": "stream",
     "text": [
      "Tree 10/100, NDCG: 0.2754                                                       \n",
      " 60%|██████    | 3/5 [01:09<00:43, 21.90s/trial, best loss: -0.3696731871037515]"
     ]
    },
    {
     "name": "stderr",
     "output_type": "stream",
     "text": [
      " 10%|#         | 10/100 [00:04<00:23,  3.86it/s]\n"
     ]
    },
    {
     "name": "stdout",
     "output_type": "stream",
     "text": [
      "Tree 11/100, NDCG: 0.2827                                                       \n",
      " 60%|██████    | 3/5 [01:09<00:43, 21.90s/trial, best loss: -0.3696731871037515]"
     ]
    },
    {
     "name": "stderr",
     "output_type": "stream",
     "text": [
      " 11%|#1        | 11/100 [00:04<00:22,  4.01it/s]\n"
     ]
    },
    {
     "name": "stdout",
     "output_type": "stream",
     "text": [
      "Tree 12/100, NDCG: 0.2900                                                       \n",
      " 60%|██████    | 3/5 [01:09<00:43, 21.90s/trial, best loss: -0.3696731871037515]"
     ]
    },
    {
     "name": "stderr",
     "output_type": "stream",
     "text": [
      " 12%|#2        | 12/100 [00:04<00:21,  4.13it/s]\n"
     ]
    },
    {
     "name": "stdout",
     "output_type": "stream",
     "text": [
      "Tree 13/100, NDCG: 0.3416                                                       \n",
      " 60%|██████    | 3/5 [01:10<00:43, 21.90s/trial, best loss: -0.3696731871037515]"
     ]
    },
    {
     "name": "stderr",
     "output_type": "stream",
     "text": [
      " 13%|#3        | 13/100 [00:04<00:22,  3.86it/s]\n"
     ]
    },
    {
     "name": "stdout",
     "output_type": "stream",
     "text": [
      "Tree 14/100, NDCG: 0.3419                                                       \n",
      " 60%|██████    | 3/5 [01:10<00:43, 21.90s/trial, best loss: -0.3696731871037515]"
     ]
    },
    {
     "name": "stderr",
     "output_type": "stream",
     "text": [
      " 14%|#4        | 14/100 [00:05<00:20,  4.14it/s]\n"
     ]
    },
    {
     "name": "stdout",
     "output_type": "stream",
     "text": [
      "Tree 15/100, NDCG: 0.3426                                                       \n",
      " 60%|██████    | 3/5 [01:10<00:43, 21.90s/trial, best loss: -0.3696731871037515]"
     ]
    },
    {
     "name": "stderr",
     "output_type": "stream",
     "text": [
      " 15%|#5        | 15/100 [00:05<00:19,  4.26it/s]\n"
     ]
    },
    {
     "name": "stdout",
     "output_type": "stream",
     "text": [
      "Tree 16/100, NDCG: 0.3462                                                       \n",
      " 60%|██████    | 3/5 [01:10<00:43, 21.90s/trial, best loss: -0.3696731871037515]"
     ]
    },
    {
     "name": "stderr",
     "output_type": "stream",
     "text": [
      " 16%|#6        | 16/100 [00:05<00:20,  4.14it/s]\n"
     ]
    },
    {
     "name": "stdout",
     "output_type": "stream",
     "text": [
      "Tree 17/100, NDCG: 0.3386                                                       \n",
      " 60%|██████    | 3/5 [01:10<00:43, 21.90s/trial, best loss: -0.3696731871037515]"
     ]
    },
    {
     "name": "stderr",
     "output_type": "stream",
     "text": [
      " 17%|#7        | 17/100 [00:05<00:19,  4.32it/s]\n"
     ]
    },
    {
     "name": "stdout",
     "output_type": "stream",
     "text": [
      "Tree 18/100, NDCG: 0.3284                                                       \n",
      " 60%|██████    | 3/5 [01:11<00:43, 21.90s/trial, best loss: -0.3696731871037515]"
     ]
    },
    {
     "name": "stderr",
     "output_type": "stream",
     "text": [
      " 18%|#8        | 18/100 [00:06<00:20,  4.05it/s]\n"
     ]
    },
    {
     "name": "stdout",
     "output_type": "stream",
     "text": [
      "Tree 19/100, NDCG: 0.3270                                                       \n",
      " 60%|██████    | 3/5 [01:11<00:43, 21.90s/trial, best loss: -0.3696731871037515]"
     ]
    },
    {
     "name": "stderr",
     "output_type": "stream",
     "text": [
      " 19%|#9        | 19/100 [00:06<00:18,  4.27it/s]\n"
     ]
    },
    {
     "name": "stdout",
     "output_type": "stream",
     "text": [
      "Tree 20/100, NDCG: 0.3383                                                       \n",
      " 60%|██████    | 3/5 [01:11<00:43, 21.90s/trial, best loss: -0.3696731871037515]"
     ]
    },
    {
     "name": "stderr",
     "output_type": "stream",
     "text": [
      " 20%|##        | 20/100 [00:06<00:18,  4.32it/s]\n"
     ]
    },
    {
     "name": "stdout",
     "output_type": "stream",
     "text": [
      "Tree 21/100, NDCG: 0.3347                                                       \n",
      " 60%|██████    | 3/5 [01:11<00:43, 21.90s/trial, best loss: -0.3696731871037515]"
     ]
    },
    {
     "name": "stderr",
     "output_type": "stream",
     "text": [
      " 21%|##1       | 21/100 [00:06<00:18,  4.33it/s]\n"
     ]
    },
    {
     "name": "stdout",
     "output_type": "stream",
     "text": [
      "Tree 22/100, NDCG: 0.3285                                                       \n",
      " 60%|██████    | 3/5 [01:12<00:43, 21.90s/trial, best loss: -0.3696731871037515]"
     ]
    },
    {
     "name": "stderr",
     "output_type": "stream",
     "text": [
      " 22%|##2       | 22/100 [00:06<00:18,  4.17it/s]\n"
     ]
    },
    {
     "name": "stdout",
     "output_type": "stream",
     "text": [
      "Tree 23/100, NDCG: 0.3327                                                       \n",
      " 60%|██████    | 3/5 [01:12<00:43, 21.90s/trial, best loss: -0.3696731871037515]"
     ]
    },
    {
     "name": "stderr",
     "output_type": "stream",
     "text": [
      " 23%|##3       | 23/100 [00:07<00:21,  3.65it/s]\n"
     ]
    },
    {
     "name": "stdout",
     "output_type": "stream",
     "text": [
      "Tree 24/100, NDCG: 0.3351                                                       \n",
      " 60%|██████    | 3/5 [01:12<00:43, 21.90s/trial, best loss: -0.3696731871037515]"
     ]
    },
    {
     "name": "stderr",
     "output_type": "stream",
     "text": [
      " 24%|##4       | 24/100 [00:07<00:20,  3.64it/s]\n"
     ]
    },
    {
     "name": "stdout",
     "output_type": "stream",
     "text": [
      "Tree 25/100, NDCG: 0.3369                                                       \n",
      " 60%|██████    | 3/5 [01:12<00:43, 21.90s/trial, best loss: -0.3696731871037515]"
     ]
    },
    {
     "name": "stderr",
     "output_type": "stream",
     "text": [
      " 25%|##5       | 25/100 [00:07<00:19,  3.79it/s]\n"
     ]
    },
    {
     "name": "stdout",
     "output_type": "stream",
     "text": [
      "Tree 26/100, NDCG: 0.3463                                                       \n",
      " 60%|██████    | 3/5 [01:13<00:43, 21.90s/trial, best loss: -0.3696731871037515]"
     ]
    },
    {
     "name": "stderr",
     "output_type": "stream",
     "text": [
      " 26%|##6       | 26/100 [00:08<00:19,  3.87it/s]\n"
     ]
    },
    {
     "name": "stdout",
     "output_type": "stream",
     "text": [
      "Tree 27/100, NDCG: 0.3407                                                       \n",
      " 60%|██████    | 3/5 [01:13<00:43, 21.90s/trial, best loss: -0.3696731871037515]"
     ]
    },
    {
     "name": "stderr",
     "output_type": "stream",
     "text": [
      " 27%|##7       | 27/100 [00:08<00:18,  4.02it/s]\n"
     ]
    },
    {
     "name": "stdout",
     "output_type": "stream",
     "text": [
      "Tree 28/100, NDCG: 0.3440                                                       \n",
      " 60%|██████    | 3/5 [01:13<00:43, 21.90s/trial, best loss: -0.3696731871037515]"
     ]
    },
    {
     "name": "stderr",
     "output_type": "stream",
     "text": [
      " 28%|##8       | 28/100 [00:08<00:18,  3.99it/s]\n"
     ]
    },
    {
     "name": "stdout",
     "output_type": "stream",
     "text": [
      "Tree 29/100, NDCG: 0.3362                                                       \n",
      " 60%|██████    | 3/5 [01:13<00:43, 21.90s/trial, best loss: -0.3696731871037515]"
     ]
    },
    {
     "name": "stderr",
     "output_type": "stream",
     "text": [
      " 29%|##9       | 29/100 [00:08<00:18,  3.81it/s]\n"
     ]
    },
    {
     "name": "stdout",
     "output_type": "stream",
     "text": [
      "Tree 30/100, NDCG: 0.3376                                                       \n",
      " 60%|██████    | 3/5 [01:14<00:43, 21.90s/trial, best loss: -0.3696731871037515]"
     ]
    },
    {
     "name": "stderr",
     "output_type": "stream",
     "text": [
      " 30%|###       | 30/100 [00:09<00:17,  3.98it/s]\n"
     ]
    },
    {
     "name": "stdout",
     "output_type": "stream",
     "text": [
      "Tree 31/100, NDCG: 0.3380                                                       \n",
      " 60%|██████    | 3/5 [01:14<00:43, 21.90s/trial, best loss: -0.3696731871037515]"
     ]
    },
    {
     "name": "stderr",
     "output_type": "stream",
     "text": [
      " 31%|###1      | 31/100 [00:09<00:16,  4.21it/s]\n"
     ]
    },
    {
     "name": "stdout",
     "output_type": "stream",
     "text": [
      "Tree 32/100, NDCG: 0.3362                                                       \n",
      " 60%|██████    | 3/5 [01:14<00:43, 21.90s/trial, best loss: -0.3696731871037515]"
     ]
    },
    {
     "name": "stderr",
     "output_type": "stream",
     "text": [
      " 32%|###2      | 32/100 [00:09<00:15,  4.38it/s]\n"
     ]
    },
    {
     "name": "stdout",
     "output_type": "stream",
     "text": [
      "Tree 33/100, NDCG: 0.3343                                                       \n",
      " 60%|██████    | 3/5 [01:14<00:43, 21.90s/trial, best loss: -0.3696731871037515]"
     ]
    },
    {
     "name": "stderr",
     "output_type": "stream",
     "text": [
      " 33%|###3      | 33/100 [00:09<00:14,  4.57it/s]\n"
     ]
    },
    {
     "name": "stdout",
     "output_type": "stream",
     "text": [
      "Tree 34/100, NDCG: 0.3378                                                       \n",
      " 60%|██████    | 3/5 [01:15<00:43, 21.90s/trial, best loss: -0.3696731871037515]"
     ]
    },
    {
     "name": "stderr",
     "output_type": "stream",
     "text": [
      " 34%|###4      | 34/100 [00:09<00:14,  4.71it/s]\n"
     ]
    },
    {
     "name": "stdout",
     "output_type": "stream",
     "text": [
      "Tree 35/100, NDCG: 0.3388                                                       \n",
      " 60%|██████    | 3/5 [01:15<00:43, 21.90s/trial, best loss: -0.3696731871037515]"
     ]
    },
    {
     "name": "stderr",
     "output_type": "stream",
     "text": [
      " 35%|###5      | 35/100 [00:10<00:15,  4.17it/s]\n"
     ]
    },
    {
     "name": "stdout",
     "output_type": "stream",
     "text": [
      "Tree 36/100, NDCG: 0.3381                                                       \n",
      " 60%|██████    | 3/5 [01:15<00:43, 21.90s/trial, best loss: -0.3696731871037515]"
     ]
    },
    {
     "name": "stderr",
     "output_type": "stream",
     "text": [
      " 36%|###6      | 36/100 [00:10<00:15,  4.24it/s]\n"
     ]
    },
    {
     "name": "stdout",
     "output_type": "stream",
     "text": [
      "Tree 37/100, NDCG: 0.3400                                                       \n",
      " 60%|██████    | 3/5 [01:15<00:43, 21.90s/trial, best loss: -0.3696731871037515]"
     ]
    },
    {
     "name": "stderr",
     "output_type": "stream",
     "text": [
      " 37%|###7      | 37/100 [00:10<00:13,  4.51it/s]\n"
     ]
    },
    {
     "name": "stdout",
     "output_type": "stream",
     "text": [
      "Tree 38/100, NDCG: 0.3421                                                       \n",
      " 60%|██████    | 3/5 [01:15<00:43, 21.90s/trial, best loss: -0.3696731871037515]"
     ]
    },
    {
     "name": "stderr",
     "output_type": "stream",
     "text": [
      " 38%|###8      | 38/100 [00:10<00:13,  4.65it/s]\n"
     ]
    },
    {
     "name": "stdout",
     "output_type": "stream",
     "text": [
      "Tree 39/100, NDCG: 0.3397                                                       \n",
      " 60%|██████    | 3/5 [01:16<00:43, 21.90s/trial, best loss: -0.3696731871037515]"
     ]
    },
    {
     "name": "stderr",
     "output_type": "stream",
     "text": [
      " 39%|###9      | 39/100 [00:11<00:13,  4.41it/s]\n"
     ]
    },
    {
     "name": "stdout",
     "output_type": "stream",
     "text": [
      "Tree 40/100, NDCG: 0.3304                                                       \n",
      " 60%|██████    | 3/5 [01:16<00:43, 21.90s/trial, best loss: -0.3696731871037515]"
     ]
    },
    {
     "name": "stderr",
     "output_type": "stream",
     "text": [
      " 40%|####      | 40/100 [00:11<00:13,  4.54it/s]\n"
     ]
    },
    {
     "name": "stdout",
     "output_type": "stream",
     "text": [
      "Tree 41/100, NDCG: 0.3264                                                       \n",
      " 60%|██████    | 3/5 [01:16<00:43, 21.90s/trial, best loss: -0.3696731871037515]"
     ]
    },
    {
     "name": "stderr",
     "output_type": "stream",
     "text": [
      " 41%|####1     | 41/100 [00:11<00:13,  4.46it/s]\n"
     ]
    },
    {
     "name": "stdout",
     "output_type": "stream",
     "text": [
      "Tree 42/100, NDCG: 0.3324                                                       \n",
      " 60%|██████    | 3/5 [01:16<00:43, 21.90s/trial, best loss: -0.3696731871037515]"
     ]
    },
    {
     "name": "stderr",
     "output_type": "stream",
     "text": [
      " 42%|####2     | 42/100 [00:11<00:13,  4.44it/s]\n"
     ]
    },
    {
     "name": "stdout",
     "output_type": "stream",
     "text": [
      "Tree 43/100, NDCG: 0.3320                                                       \n",
      " 60%|██████    | 3/5 [01:17<00:43, 21.90s/trial, best loss: -0.3696731871037515]"
     ]
    },
    {
     "name": "stderr",
     "output_type": "stream",
     "text": [
      " 43%|####3     | 43/100 [00:11<00:12,  4.43it/s]\n"
     ]
    },
    {
     "name": "stdout",
     "output_type": "stream",
     "text": [
      "Tree 44/100, NDCG: 0.3295                                                       \n",
      " 60%|██████    | 3/5 [01:17<00:43, 21.90s/trial, best loss: -0.3696731871037515]"
     ]
    },
    {
     "name": "stderr",
     "output_type": "stream",
     "text": [
      " 44%|####4     | 44/100 [00:12<00:12,  4.52it/s]\n"
     ]
    },
    {
     "name": "stdout",
     "output_type": "stream",
     "text": [
      "Tree 45/100, NDCG: 0.3300                                                       \n",
      " 60%|██████    | 3/5 [01:17<00:43, 21.90s/trial, best loss: -0.3696731871037515]"
     ]
    },
    {
     "name": "stderr",
     "output_type": "stream",
     "text": [
      " 45%|####5     | 45/100 [00:12<00:11,  4.64it/s]\n"
     ]
    },
    {
     "name": "stdout",
     "output_type": "stream",
     "text": [
      "Tree 46/100, NDCG: 0.3399                                                       \n",
      " 60%|██████    | 3/5 [01:17<00:43, 21.90s/trial, best loss: -0.3696731871037515]"
     ]
    },
    {
     "name": "stderr",
     "output_type": "stream",
     "text": [
      " 46%|####6     | 46/100 [00:12<00:11,  4.70it/s]\n"
     ]
    },
    {
     "name": "stdout",
     "output_type": "stream",
     "text": [
      "Tree 47/100, NDCG: 0.3390                                                       \n",
      " 60%|██████    | 3/5 [01:17<00:43, 21.90s/trial, best loss: -0.3696731871037515]"
     ]
    },
    {
     "name": "stderr",
     "output_type": "stream",
     "text": [
      " 47%|####6     | 47/100 [00:12<00:12,  4.33it/s]\n"
     ]
    },
    {
     "name": "stdout",
     "output_type": "stream",
     "text": [
      "Tree 48/100, NDCG: 0.3380                                                       \n",
      " 60%|██████    | 3/5 [01:18<00:43, 21.90s/trial, best loss: -0.3696731871037515]"
     ]
    },
    {
     "name": "stderr",
     "output_type": "stream",
     "text": [
      " 48%|####8     | 48/100 [00:13<00:11,  4.44it/s]\n"
     ]
    },
    {
     "name": "stdout",
     "output_type": "stream",
     "text": [
      "Tree 49/100, NDCG: 0.3397                                                       \n",
      " 60%|██████    | 3/5 [01:18<00:43, 21.90s/trial, best loss: -0.3696731871037515]"
     ]
    },
    {
     "name": "stderr",
     "output_type": "stream",
     "text": [
      " 49%|####9     | 49/100 [00:13<00:11,  4.52it/s]\n"
     ]
    },
    {
     "name": "stdout",
     "output_type": "stream",
     "text": [
      "Tree 50/100, NDCG: 0.3451                                                       \n",
      " 60%|██████    | 3/5 [01:18<00:43, 21.90s/trial, best loss: -0.3696731871037515]"
     ]
    },
    {
     "name": "stderr",
     "output_type": "stream",
     "text": [
      " 50%|#####     | 50/100 [00:13<00:10,  4.56it/s]\n"
     ]
    },
    {
     "name": "stdout",
     "output_type": "stream",
     "text": [
      "Tree 51/100, NDCG: 0.3451                                                       \n",
      " 60%|██████    | 3/5 [01:18<00:43, 21.90s/trial, best loss: -0.3696731871037515]"
     ]
    },
    {
     "name": "stderr",
     "output_type": "stream",
     "text": [
      " 51%|#####1    | 51/100 [00:13<00:10,  4.68it/s]\n"
     ]
    },
    {
     "name": "stdout",
     "output_type": "stream",
     "text": [
      "Tree 52/100, NDCG: 0.3460                                                       \n",
      " 60%|██████    | 3/5 [01:19<00:43, 21.90s/trial, best loss: -0.3696731871037515]"
     ]
    },
    {
     "name": "stderr",
     "output_type": "stream",
     "text": [
      " 52%|#####2    | 52/100 [00:13<00:10,  4.57it/s]\n"
     ]
    },
    {
     "name": "stdout",
     "output_type": "stream",
     "text": [
      "Tree 53/100, NDCG: 0.3467                                                       \n",
      " 60%|██████    | 3/5 [01:19<00:43, 21.90s/trial, best loss: -0.3696731871037515]"
     ]
    },
    {
     "name": "stderr",
     "output_type": "stream",
     "text": [
      " 53%|#####3    | 53/100 [00:14<00:11,  4.04it/s]\n"
     ]
    },
    {
     "name": "stdout",
     "output_type": "stream",
     "text": [
      "Tree 54/100, NDCG: 0.3487                                                       \n",
      " 60%|██████    | 3/5 [01:19<00:43, 21.90s/trial, best loss: -0.3696731871037515]"
     ]
    },
    {
     "name": "stderr",
     "output_type": "stream",
     "text": [
      " 54%|#####4    | 54/100 [00:14<00:10,  4.19it/s]\n"
     ]
    },
    {
     "name": "stdout",
     "output_type": "stream",
     "text": [
      "Tree 55/100, NDCG: 0.3515                                                       \n",
      " 60%|██████    | 3/5 [01:19<00:43, 21.90s/trial, best loss: -0.3696731871037515]"
     ]
    },
    {
     "name": "stderr",
     "output_type": "stream",
     "text": [
      " 55%|#####5    | 55/100 [00:14<00:10,  4.12it/s]\n"
     ]
    },
    {
     "name": "stdout",
     "output_type": "stream",
     "text": [
      "Tree 56/100, NDCG: 0.3481                                                       \n",
      " 60%|██████    | 3/5 [01:20<00:43, 21.90s/trial, best loss: -0.3696731871037515]"
     ]
    },
    {
     "name": "stderr",
     "output_type": "stream",
     "text": [
      " 56%|#####6    | 56/100 [00:14<00:10,  4.23it/s]\n"
     ]
    },
    {
     "name": "stdout",
     "output_type": "stream",
     "text": [
      "Tree 57/100, NDCG: 0.3477                                                       \n",
      " 60%|██████    | 3/5 [01:20<00:43, 21.90s/trial, best loss: -0.3696731871037515]"
     ]
    },
    {
     "name": "stderr",
     "output_type": "stream",
     "text": [
      " 57%|#####6    | 57/100 [00:15<00:09,  4.50it/s]\n"
     ]
    },
    {
     "name": "stdout",
     "output_type": "stream",
     "text": [
      "Tree 58/100, NDCG: 0.3417                                                       \n",
      " 60%|██████    | 3/5 [01:20<00:43, 21.90s/trial, best loss: -0.3696731871037515]"
     ]
    },
    {
     "name": "stderr",
     "output_type": "stream",
     "text": [
      " 58%|#####8    | 58/100 [00:15<00:08,  4.69it/s]\n"
     ]
    },
    {
     "name": "stdout",
     "output_type": "stream",
     "text": [
      "Tree 59/100, NDCG: 0.3391                                                       \n",
      " 60%|██████    | 3/5 [01:20<00:43, 21.90s/trial, best loss: -0.3696731871037515]"
     ]
    },
    {
     "name": "stderr",
     "output_type": "stream",
     "text": [
      " 59%|#####8    | 59/100 [00:15<00:09,  4.16it/s]\n"
     ]
    },
    {
     "name": "stdout",
     "output_type": "stream",
     "text": [
      "Tree 60/100, NDCG: 0.3409                                                       \n",
      " 60%|██████    | 3/5 [01:20<00:43, 21.90s/trial, best loss: -0.3696731871037515]"
     ]
    },
    {
     "name": "stderr",
     "output_type": "stream",
     "text": [
      " 60%|######    | 60/100 [00:15<00:09,  4.24it/s]\n"
     ]
    },
    {
     "name": "stdout",
     "output_type": "stream",
     "text": [
      "Tree 61/100, NDCG: 0.3414                                                       \n",
      " 60%|██████    | 3/5 [01:21<00:43, 21.90s/trial, best loss: -0.3696731871037515]"
     ]
    },
    {
     "name": "stderr",
     "output_type": "stream",
     "text": [
      " 61%|######1   | 61/100 [00:16<00:09,  4.28it/s]\n"
     ]
    },
    {
     "name": "stdout",
     "output_type": "stream",
     "text": [
      "Tree 62/100, NDCG: 0.3412                                                       \n",
      " 60%|██████    | 3/5 [01:21<00:43, 21.90s/trial, best loss: -0.3696731871037515]"
     ]
    },
    {
     "name": "stderr",
     "output_type": "stream",
     "text": [
      " 62%|######2   | 62/100 [00:16<00:08,  4.40it/s]\n"
     ]
    },
    {
     "name": "stdout",
     "output_type": "stream",
     "text": [
      "Tree 63/100, NDCG: 0.3452                                                       \n",
      " 60%|██████    | 3/5 [01:21<00:43, 21.90s/trial, best loss: -0.3696731871037515]"
     ]
    },
    {
     "name": "stderr",
     "output_type": "stream",
     "text": [
      " 63%|######3   | 63/100 [00:16<00:08,  4.51it/s]\n"
     ]
    },
    {
     "name": "stdout",
     "output_type": "stream",
     "text": [
      "Tree 64/100, NDCG: 0.3468                                                       \n",
      " 60%|██████    | 3/5 [01:21<00:43, 21.90s/trial, best loss: -0.3696731871037515]"
     ]
    },
    {
     "name": "stderr",
     "output_type": "stream",
     "text": [
      " 64%|######4   | 64/100 [00:16<00:07,  4.54it/s]\n"
     ]
    },
    {
     "name": "stdout",
     "output_type": "stream",
     "text": [
      "Tree 65/100, NDCG: 0.3465                                                       \n",
      " 60%|██████    | 3/5 [01:22<00:43, 21.90s/trial, best loss: -0.3696731871037515]"
     ]
    },
    {
     "name": "stderr",
     "output_type": "stream",
     "text": [
      " 65%|######5   | 65/100 [00:16<00:08,  4.15it/s]\n"
     ]
    },
    {
     "name": "stdout",
     "output_type": "stream",
     "text": [
      "Tree 66/100, NDCG: 0.3464                                                       \n",
      " 60%|██████    | 3/5 [01:22<00:43, 21.90s/trial, best loss: -0.3696731871037515]"
     ]
    },
    {
     "name": "stderr",
     "output_type": "stream",
     "text": [
      " 66%|######6   | 66/100 [00:17<00:07,  4.31it/s]\n"
     ]
    },
    {
     "name": "stdout",
     "output_type": "stream",
     "text": [
      "Tree 67/100, NDCG: 0.3479                                                       \n",
      " 60%|██████    | 3/5 [01:22<00:43, 21.90s/trial, best loss: -0.3696731871037515]"
     ]
    },
    {
     "name": "stderr",
     "output_type": "stream",
     "text": [
      " 67%|######7   | 67/100 [00:17<00:07,  4.52it/s]\n"
     ]
    },
    {
     "name": "stdout",
     "output_type": "stream",
     "text": [
      "Tree 68/100, NDCG: 0.3511                                                       \n",
      " 60%|██████    | 3/5 [01:22<00:43, 21.90s/trial, best loss: -0.3696731871037515]"
     ]
    },
    {
     "name": "stderr",
     "output_type": "stream",
     "text": [
      " 68%|######8   | 68/100 [00:17<00:07,  4.29it/s]\n"
     ]
    },
    {
     "name": "stdout",
     "output_type": "stream",
     "text": [
      "Tree 69/100, NDCG: 0.3514                                                       \n",
      " 60%|██████    | 3/5 [01:23<00:43, 21.90s/trial, best loss: -0.3696731871037515]"
     ]
    },
    {
     "name": "stderr",
     "output_type": "stream",
     "text": [
      " 69%|######9   | 69/100 [00:17<00:07,  4.10it/s]\n"
     ]
    },
    {
     "name": "stdout",
     "output_type": "stream",
     "text": [
      "Tree 70/100, NDCG: 0.3493                                                       \n",
      " 60%|██████    | 3/5 [01:23<00:43, 21.90s/trial, best loss: -0.3696731871037515]"
     ]
    },
    {
     "name": "stderr",
     "output_type": "stream",
     "text": [
      " 70%|#######   | 70/100 [00:18<00:07,  3.87it/s]\n"
     ]
    },
    {
     "name": "stdout",
     "output_type": "stream",
     "text": [
      "Tree 71/100, NDCG: 0.3527                                                       \n",
      " 60%|██████    | 3/5 [01:23<00:43, 21.90s/trial, best loss: -0.3696731871037515]"
     ]
    },
    {
     "name": "stderr",
     "output_type": "stream",
     "text": [
      " 71%|#######1  | 71/100 [00:18<00:07,  3.80it/s]\n"
     ]
    },
    {
     "name": "stdout",
     "output_type": "stream",
     "text": [
      "Tree 72/100, NDCG: 0.3573                                                       \n",
      " 60%|██████    | 3/5 [01:23<00:43, 21.90s/trial, best loss: -0.3696731871037515]"
     ]
    },
    {
     "name": "stderr",
     "output_type": "stream",
     "text": [
      " 72%|#######2  | 72/100 [00:18<00:07,  3.99it/s]\n"
     ]
    },
    {
     "name": "stdout",
     "output_type": "stream",
     "text": [
      "Tree 73/100, NDCG: 0.3530                                                       \n",
      " 60%|██████    | 3/5 [01:24<00:43, 21.90s/trial, best loss: -0.3696731871037515]"
     ]
    },
    {
     "name": "stderr",
     "output_type": "stream",
     "text": [
      " 73%|#######3  | 73/100 [00:18<00:06,  4.30it/s]\n"
     ]
    },
    {
     "name": "stdout",
     "output_type": "stream",
     "text": [
      "Tree 74/100, NDCG: 0.3529                                                       \n",
      " 60%|██████    | 3/5 [01:24<00:43, 21.90s/trial, best loss: -0.3696731871037515]"
     ]
    },
    {
     "name": "stderr",
     "output_type": "stream",
     "text": [
      " 74%|#######4  | 74/100 [00:19<00:05,  4.38it/s]\n"
     ]
    },
    {
     "name": "stdout",
     "output_type": "stream",
     "text": [
      "Tree 75/100, NDCG: 0.3523                                                       \n",
      " 60%|██████    | 3/5 [01:24<00:43, 21.90s/trial, best loss: -0.3696731871037515]"
     ]
    },
    {
     "name": "stderr",
     "output_type": "stream",
     "text": [
      " 75%|#######5  | 75/100 [00:19<00:06,  4.11it/s]\n"
     ]
    },
    {
     "name": "stdout",
     "output_type": "stream",
     "text": [
      "Tree 76/100, NDCG: 0.3542                                                       \n",
      " 60%|██████    | 3/5 [01:24<00:43, 21.90s/trial, best loss: -0.3696731871037515]"
     ]
    },
    {
     "name": "stderr",
     "output_type": "stream",
     "text": [
      " 76%|#######6  | 76/100 [00:19<00:06,  3.90it/s]\n"
     ]
    },
    {
     "name": "stdout",
     "output_type": "stream",
     "text": [
      "Tree 77/100, NDCG: 0.3527                                                       \n",
      " 60%|██████    | 3/5 [01:25<00:43, 21.90s/trial, best loss: -0.3696731871037515]"
     ]
    },
    {
     "name": "stderr",
     "output_type": "stream",
     "text": [
      " 77%|#######7  | 77/100 [00:19<00:05,  3.86it/s]\n"
     ]
    },
    {
     "name": "stdout",
     "output_type": "stream",
     "text": [
      "Tree 78/100, NDCG: 0.3545                                                       \n",
      " 60%|██████    | 3/5 [01:25<00:43, 21.90s/trial, best loss: -0.3696731871037515]"
     ]
    },
    {
     "name": "stderr",
     "output_type": "stream",
     "text": [
      " 78%|#######8  | 78/100 [00:20<00:05,  3.80it/s]\n"
     ]
    },
    {
     "name": "stdout",
     "output_type": "stream",
     "text": [
      "Tree 79/100, NDCG: 0.3537                                                       \n",
      " 60%|██████    | 3/5 [01:25<00:43, 21.90s/trial, best loss: -0.3696731871037515]"
     ]
    },
    {
     "name": "stderr",
     "output_type": "stream",
     "text": [
      " 79%|#######9  | 79/100 [00:20<00:05,  4.00it/s]\n"
     ]
    },
    {
     "name": "stdout",
     "output_type": "stream",
     "text": [
      "Tree 80/100, NDCG: 0.3545                                                       \n",
      " 60%|██████    | 3/5 [01:25<00:43, 21.90s/trial, best loss: -0.3696731871037515]"
     ]
    },
    {
     "name": "stderr",
     "output_type": "stream",
     "text": [
      " 80%|########  | 80/100 [00:20<00:04,  4.18it/s]\n"
     ]
    },
    {
     "name": "stdout",
     "output_type": "stream",
     "text": [
      "Tree 81/100, NDCG: 0.3558                                                       \n",
      " 60%|██████    | 3/5 [01:26<00:43, 21.90s/trial, best loss: -0.3696731871037515]"
     ]
    },
    {
     "name": "stderr",
     "output_type": "stream",
     "text": [
      " 81%|########1 | 81/100 [00:20<00:05,  3.78it/s]\n"
     ]
    },
    {
     "name": "stdout",
     "output_type": "stream",
     "text": [
      "Tree 82/100, NDCG: 0.3579                                                       \n",
      " 60%|██████    | 3/5 [01:26<00:43, 21.90s/trial, best loss: -0.3696731871037515]"
     ]
    },
    {
     "name": "stderr",
     "output_type": "stream",
     "text": [
      " 82%|########2 | 82/100 [00:21<00:04,  4.02it/s]\n"
     ]
    },
    {
     "name": "stdout",
     "output_type": "stream",
     "text": [
      "Tree 83/100, NDCG: 0.3531                                                       \n",
      " 60%|██████    | 3/5 [01:26<00:43, 21.90s/trial, best loss: -0.3696731871037515]"
     ]
    },
    {
     "name": "stderr",
     "output_type": "stream",
     "text": [
      " 83%|########2 | 83/100 [00:21<00:04,  4.16it/s]\n"
     ]
    },
    {
     "name": "stdout",
     "output_type": "stream",
     "text": [
      "Tree 84/100, NDCG: 0.3564                                                       \n",
      " 60%|██████    | 3/5 [01:26<00:43, 21.90s/trial, best loss: -0.3696731871037515]"
     ]
    },
    {
     "name": "stderr",
     "output_type": "stream",
     "text": [
      " 84%|########4 | 84/100 [00:21<00:03,  4.28it/s]\n"
     ]
    },
    {
     "name": "stdout",
     "output_type": "stream",
     "text": [
      "Tree 85/100, NDCG: 0.3561                                                       \n",
      " 60%|██████    | 3/5 [01:27<00:43, 21.90s/trial, best loss: -0.3696731871037515]"
     ]
    },
    {
     "name": "stderr",
     "output_type": "stream",
     "text": [
      " 85%|########5 | 85/100 [00:21<00:03,  4.33it/s]\n"
     ]
    },
    {
     "name": "stdout",
     "output_type": "stream",
     "text": [
      "Tree 86/100, NDCG: 0.3562                                                       \n",
      " 60%|██████    | 3/5 [01:27<00:43, 21.90s/trial, best loss: -0.3696731871037515]"
     ]
    },
    {
     "name": "stderr",
     "output_type": "stream",
     "text": [
      " 86%|########6 | 86/100 [00:22<00:03,  3.86it/s]\n"
     ]
    },
    {
     "name": "stdout",
     "output_type": "stream",
     "text": [
      "Tree 87/100, NDCG: 0.3547                                                       \n",
      " 60%|██████    | 3/5 [01:27<00:43, 21.90s/trial, best loss: -0.3696731871037515]"
     ]
    },
    {
     "name": "stderr",
     "output_type": "stream",
     "text": [
      " 87%|########7 | 87/100 [00:22<00:03,  3.73it/s]\n"
     ]
    },
    {
     "name": "stdout",
     "output_type": "stream",
     "text": [
      "Tree 88/100, NDCG: 0.3551                                                       \n",
      " 60%|██████    | 3/5 [01:27<00:43, 21.90s/trial, best loss: -0.3696731871037515]"
     ]
    },
    {
     "name": "stderr",
     "output_type": "stream",
     "text": [
      " 88%|########8 | 88/100 [00:22<00:03,  3.73it/s]\n"
     ]
    },
    {
     "name": "stdout",
     "output_type": "stream",
     "text": [
      "Tree 89/100, NDCG: 0.3554                                                       \n",
      " 60%|██████    | 3/5 [01:28<00:43, 21.90s/trial, best loss: -0.3696731871037515]"
     ]
    },
    {
     "name": "stderr",
     "output_type": "stream",
     "text": [
      " 89%|########9 | 89/100 [00:22<00:02,  3.93it/s]\n"
     ]
    },
    {
     "name": "stdout",
     "output_type": "stream",
     "text": [
      "Tree 90/100, NDCG: 0.3536                                                       \n",
      " 60%|██████    | 3/5 [01:28<00:43, 21.90s/trial, best loss: -0.3696731871037515]"
     ]
    },
    {
     "name": "stderr",
     "output_type": "stream",
     "text": [
      " 90%|######### | 90/100 [00:23<00:02,  4.07it/s]\n"
     ]
    },
    {
     "name": "stdout",
     "output_type": "stream",
     "text": [
      "Tree 91/100, NDCG: 0.3550                                                       \n",
      " 60%|██████    | 3/5 [01:28<00:43, 21.90s/trial, best loss: -0.3696731871037515]"
     ]
    },
    {
     "name": "stderr",
     "output_type": "stream",
     "text": [
      " 91%|#########1| 91/100 [00:23<00:02,  3.44it/s]\n"
     ]
    },
    {
     "name": "stdout",
     "output_type": "stream",
     "text": [
      "Tree 92/100, NDCG: 0.3534                                                       \n",
      " 60%|██████    | 3/5 [01:28<00:43, 21.90s/trial, best loss: -0.3696731871037515]"
     ]
    },
    {
     "name": "stderr",
     "output_type": "stream",
     "text": [
      " 92%|#########2| 92/100 [00:23<00:02,  3.68it/s]\n"
     ]
    },
    {
     "name": "stdout",
     "output_type": "stream",
     "text": [
      "Tree 93/100, NDCG: 0.3517                                                       \n",
      " 60%|██████    | 3/5 [01:29<00:43, 21.90s/trial, best loss: -0.3696731871037515]"
     ]
    },
    {
     "name": "stderr",
     "output_type": "stream",
     "text": [
      " 93%|#########3| 93/100 [00:23<00:01,  3.92it/s]\n"
     ]
    },
    {
     "name": "stdout",
     "output_type": "stream",
     "text": [
      "Tree 94/100, NDCG: 0.3519                                                       \n",
      " 60%|██████    | 3/5 [01:29<00:43, 21.90s/trial, best loss: -0.3696731871037515]"
     ]
    },
    {
     "name": "stderr",
     "output_type": "stream",
     "text": [
      " 94%|#########3| 94/100 [00:24<00:01,  4.08it/s]\n"
     ]
    },
    {
     "name": "stdout",
     "output_type": "stream",
     "text": [
      "Tree 95/100, NDCG: 0.3529                                                       \n",
      " 60%|██████    | 3/5 [01:29<00:43, 21.90s/trial, best loss: -0.3696731871037515]"
     ]
    },
    {
     "name": "stderr",
     "output_type": "stream",
     "text": [
      " 95%|#########5| 95/100 [00:24<00:01,  4.23it/s]\n"
     ]
    },
    {
     "name": "stdout",
     "output_type": "stream",
     "text": [
      "Tree 96/100, NDCG: 0.3533                                                       \n",
      " 60%|██████    | 3/5 [01:29<00:43, 21.90s/trial, best loss: -0.3696731871037515]"
     ]
    },
    {
     "name": "stderr",
     "output_type": "stream",
     "text": [
      " 96%|#########6| 96/100 [00:24<00:01,  3.79it/s]\n"
     ]
    },
    {
     "name": "stdout",
     "output_type": "stream",
     "text": [
      "Tree 97/100, NDCG: 0.3550                                                       \n",
      " 60%|██████    | 3/5 [01:30<00:43, 21.90s/trial, best loss: -0.3696731871037515]"
     ]
    },
    {
     "name": "stderr",
     "output_type": "stream",
     "text": [
      " 97%|#########7| 97/100 [00:25<00:00,  3.87it/s]\n"
     ]
    },
    {
     "name": "stdout",
     "output_type": "stream",
     "text": [
      "Tree 98/100, NDCG: 0.3567                                                       \n",
      " 60%|██████    | 3/5 [01:30<00:43, 21.90s/trial, best loss: -0.3696731871037515]"
     ]
    },
    {
     "name": "stderr",
     "output_type": "stream",
     "text": [
      " 98%|#########8| 98/100 [00:25<00:00,  4.10it/s]\n"
     ]
    },
    {
     "name": "stdout",
     "output_type": "stream",
     "text": [
      "Tree 99/100, NDCG: 0.3567                                                       \n",
      " 60%|██████    | 3/5 [01:30<00:43, 21.90s/trial, best loss: -0.3696731871037515]"
     ]
    },
    {
     "name": "stderr",
     "output_type": "stream",
     "text": [
      " 99%|#########9| 99/100 [00:25<00:00,  4.23it/s]\n"
     ]
    },
    {
     "name": "stdout",
     "output_type": "stream",
     "text": [
      "Tree 100/100, NDCG: 0.3573                                                      \n",
      " 60%|██████    | 3/5 [01:30<00:43, 21.90s/trial, best loss: -0.3696731871037515]"
     ]
    },
    {
     "name": "stderr",
     "output_type": "stream",
     "text": [
      "100%|##########| 100/100 [00:25<00:00,  4.06it/s]\n",
      "100%|##########| 100/100 [00:25<00:00,  3.89it/s]\n"
     ]
    },
    {
     "name": "stdout",
     "output_type": "stream",
     "text": [
      " 80%|████████  | 4/5 [01:30<00:24, 24.14s/trial, best loss: -0.3696731871037515]"
     ]
    },
    {
     "name": "stderr",
     "output_type": "stream",
     "text": [
      "  0%|          | 0/100 [00:00<?, ?it/s]\n"
     ]
    },
    {
     "name": "stdout",
     "output_type": "stream",
     "text": [
      "Tree 1/100, NDCG: 0.2557                                                        \n",
      " 80%|████████  | 4/5 [01:32<00:24, 24.14s/trial, best loss: -0.3696731871037515]"
     ]
    },
    {
     "name": "stderr",
     "output_type": "stream",
     "text": [
      "  1%|1         | 1/100 [00:00<00:20,  4.79it/s]\n"
     ]
    },
    {
     "name": "stdout",
     "output_type": "stream",
     "text": [
      "Tree 2/100, NDCG: 0.2739                                                        \n",
      " 80%|████████  | 4/5 [01:33<00:24, 24.14s/trial, best loss: -0.3696731871037515]"
     ]
    },
    {
     "name": "stderr",
     "output_type": "stream",
     "text": [
      "  2%|2         | 2/100 [00:00<00:22,  4.42it/s]\n"
     ]
    },
    {
     "name": "stdout",
     "output_type": "stream",
     "text": [
      "Tree 3/100, NDCG: 0.3097                                                        \n",
      " 80%|████████  | 4/5 [01:33<00:24, 24.14s/trial, best loss: -0.3696731871037515]"
     ]
    },
    {
     "name": "stderr",
     "output_type": "stream",
     "text": [
      "  3%|3         | 3/100 [00:00<00:21,  4.44it/s]\n"
     ]
    },
    {
     "name": "stdout",
     "output_type": "stream",
     "text": [
      "Tree 4/100, NDCG: 0.3114                                                        \n",
      " 80%|████████  | 4/5 [01:33<00:24, 24.14s/trial, best loss: -0.3696731871037515]"
     ]
    },
    {
     "name": "stderr",
     "output_type": "stream",
     "text": [
      "  4%|4         | 4/100 [00:00<00:19,  4.81it/s]\n"
     ]
    },
    {
     "name": "stdout",
     "output_type": "stream",
     "text": [
      "Tree 5/100, NDCG: 0.3200                                                        \n",
      " 80%|████████  | 4/5 [01:33<00:24, 24.14s/trial, best loss: -0.3696731871037515]"
     ]
    },
    {
     "name": "stderr",
     "output_type": "stream",
     "text": [
      "  5%|5         | 5/100 [00:01<00:22,  4.18it/s]\n"
     ]
    },
    {
     "name": "stdout",
     "output_type": "stream",
     "text": [
      "Tree 6/100, NDCG: 0.3375                                                        \n",
      " 80%|████████  | 4/5 [01:34<00:24, 24.14s/trial, best loss: -0.3696731871037515]"
     ]
    },
    {
     "name": "stderr",
     "output_type": "stream",
     "text": [
      "  6%|6         | 6/100 [00:01<00:21,  4.43it/s]\n"
     ]
    },
    {
     "name": "stdout",
     "output_type": "stream",
     "text": [
      "Tree 7/100, NDCG: 0.3456                                                        \n",
      " 80%|████████  | 4/5 [01:34<00:24, 24.14s/trial, best loss: -0.3696731871037515]"
     ]
    },
    {
     "name": "stderr",
     "output_type": "stream",
     "text": [
      "  7%|7         | 7/100 [00:01<00:23,  3.96it/s]\n"
     ]
    },
    {
     "name": "stdout",
     "output_type": "stream",
     "text": [
      "Tree 8/100, NDCG: 0.3582                                                        \n",
      " 80%|████████  | 4/5 [01:34<00:24, 24.14s/trial, best loss: -0.3696731871037515]"
     ]
    },
    {
     "name": "stderr",
     "output_type": "stream",
     "text": [
      "  8%|8         | 8/100 [00:01<00:22,  4.10it/s]\n"
     ]
    },
    {
     "name": "stdout",
     "output_type": "stream",
     "text": [
      "Tree 9/100, NDCG: 0.3627                                                        \n",
      " 80%|████████  | 4/5 [01:34<00:24, 24.14s/trial, best loss: -0.3696731871037515]"
     ]
    },
    {
     "name": "stderr",
     "output_type": "stream",
     "text": [
      "  9%|9         | 9/100 [00:02<00:20,  4.42it/s]\n"
     ]
    },
    {
     "name": "stdout",
     "output_type": "stream",
     "text": [
      "Tree 10/100, NDCG: 0.3571                                                       \n",
      " 80%|████████  | 4/5 [01:35<00:24, 24.14s/trial, best loss: -0.3696731871037515]"
     ]
    },
    {
     "name": "stderr",
     "output_type": "stream",
     "text": [
      " 10%|#         | 10/100 [00:02<00:22,  4.05it/s]\n"
     ]
    },
    {
     "name": "stdout",
     "output_type": "stream",
     "text": [
      "Tree 11/100, NDCG: 0.3604                                                       \n",
      " 80%|████████  | 4/5 [01:35<00:24, 24.14s/trial, best loss: -0.3696731871037515]"
     ]
    },
    {
     "name": "stderr",
     "output_type": "stream",
     "text": [
      " 11%|#1        | 11/100 [00:02<00:21,  4.12it/s]\n"
     ]
    },
    {
     "name": "stdout",
     "output_type": "stream",
     "text": [
      "Tree 12/100, NDCG: 0.3446                                                       \n",
      " 80%|████████  | 4/5 [01:35<00:24, 24.14s/trial, best loss: -0.3696731871037515]"
     ]
    },
    {
     "name": "stderr",
     "output_type": "stream",
     "text": [
      " 12%|#2        | 12/100 [00:02<00:21,  4.01it/s]\n"
     ]
    },
    {
     "name": "stdout",
     "output_type": "stream",
     "text": [
      "Tree 13/100, NDCG: 0.3566                                                       \n",
      " 80%|████████  | 4/5 [01:35<00:24, 24.14s/trial, best loss: -0.3696731871037515]"
     ]
    },
    {
     "name": "stderr",
     "output_type": "stream",
     "text": [
      " 13%|#3        | 13/100 [00:03<00:20,  4.22it/s]\n"
     ]
    },
    {
     "name": "stdout",
     "output_type": "stream",
     "text": [
      "Tree 14/100, NDCG: 0.3587                                                       \n",
      " 80%|████████  | 4/5 [01:35<00:24, 24.14s/trial, best loss: -0.3696731871037515]"
     ]
    },
    {
     "name": "stderr",
     "output_type": "stream",
     "text": [
      " 14%|#4        | 14/100 [00:03<00:18,  4.68it/s]\n"
     ]
    },
    {
     "name": "stdout",
     "output_type": "stream",
     "text": [
      "Tree 15/100, NDCG: 0.3632                                                       \n",
      " 80%|████████  | 4/5 [01:36<00:24, 24.14s/trial, best loss: -0.3696731871037515]"
     ]
    },
    {
     "name": "stderr",
     "output_type": "stream",
     "text": [
      " 15%|#5        | 15/100 [00:03<00:19,  4.26it/s]\n"
     ]
    },
    {
     "name": "stdout",
     "output_type": "stream",
     "text": [
      "Tree 16/100, NDCG: 0.3573                                                       \n",
      " 80%|████████  | 4/5 [01:36<00:24, 24.14s/trial, best loss: -0.3696731871037515]"
     ]
    },
    {
     "name": "stderr",
     "output_type": "stream",
     "text": [
      " 16%|#6        | 16/100 [00:03<00:18,  4.57it/s]\n"
     ]
    },
    {
     "name": "stdout",
     "output_type": "stream",
     "text": [
      "Tree 17/100, NDCG: 0.3550                                                       \n",
      " 80%|████████  | 4/5 [01:36<00:24, 24.14s/trial, best loss: -0.3696731871037515]"
     ]
    },
    {
     "name": "stderr",
     "output_type": "stream",
     "text": [
      " 17%|#7        | 17/100 [00:03<00:17,  4.78it/s]\n"
     ]
    },
    {
     "name": "stdout",
     "output_type": "stream",
     "text": [
      "Tree 18/100, NDCG: 0.3539                                                       \n",
      " 80%|████████  | 4/5 [01:36<00:24, 24.14s/trial, best loss: -0.3696731871037515]"
     ]
    },
    {
     "name": "stderr",
     "output_type": "stream",
     "text": [
      " 18%|#8        | 18/100 [00:04<00:16,  5.07it/s]\n"
     ]
    },
    {
     "name": "stdout",
     "output_type": "stream",
     "text": [
      "Tree 19/100, NDCG: 0.3509                                                       \n",
      " 80%|████████  | 4/5 [01:36<00:24, 24.14s/trial, best loss: -0.3696731871037515]"
     ]
    },
    {
     "name": "stderr",
     "output_type": "stream",
     "text": [
      " 19%|#9        | 19/100 [00:04<00:15,  5.37it/s]\n"
     ]
    },
    {
     "name": "stdout",
     "output_type": "stream",
     "text": [
      "Tree 20/100, NDCG: 0.3452                                                       \n",
      " 80%|████████  | 4/5 [01:37<00:24, 24.14s/trial, best loss: -0.3696731871037515]"
     ]
    },
    {
     "name": "stderr",
     "output_type": "stream",
     "text": [
      " 20%|##        | 20/100 [00:04<00:14,  5.38it/s]\n"
     ]
    },
    {
     "name": "stdout",
     "output_type": "stream",
     "text": [
      "Tree 21/100, NDCG: 0.3461                                                       \n",
      " 80%|████████  | 4/5 [01:37<00:24, 24.14s/trial, best loss: -0.3696731871037515]"
     ]
    },
    {
     "name": "stderr",
     "output_type": "stream",
     "text": [
      " 21%|##1       | 21/100 [00:04<00:14,  5.56it/s]\n"
     ]
    },
    {
     "name": "stdout",
     "output_type": "stream",
     "text": [
      "Tree 22/100, NDCG: 0.3522                                                       \n",
      " 80%|████████  | 4/5 [01:37<00:24, 24.14s/trial, best loss: -0.3696731871037515]"
     ]
    },
    {
     "name": "stderr",
     "output_type": "stream",
     "text": [
      " 22%|##2       | 22/100 [00:05<00:21,  3.70it/s]\n"
     ]
    },
    {
     "name": "stdout",
     "output_type": "stream",
     "text": [
      "Tree 23/100, NDCG: 0.3535                                                       \n",
      " 80%|████████  | 4/5 [01:37<00:24, 24.14s/trial, best loss: -0.3696731871037515]"
     ]
    },
    {
     "name": "stderr",
     "output_type": "stream",
     "text": [
      " 23%|##3       | 23/100 [00:05<00:18,  4.10it/s]\n"
     ]
    },
    {
     "name": "stdout",
     "output_type": "stream",
     "text": [
      "Tree 24/100, NDCG: 0.3531                                                       \n",
      " 80%|████████  | 4/5 [01:38<00:24, 24.14s/trial, best loss: -0.3696731871037515]"
     ]
    },
    {
     "name": "stderr",
     "output_type": "stream",
     "text": [
      " 24%|##4       | 24/100 [00:05<00:17,  4.33it/s]\n"
     ]
    },
    {
     "name": "stdout",
     "output_type": "stream",
     "text": [
      "Tree 25/100, NDCG: 0.3782                                                       \n",
      " 80%|████████  | 4/5 [01:38<00:24, 24.14s/trial, best loss: -0.3696731871037515]"
     ]
    },
    {
     "name": "stderr",
     "output_type": "stream",
     "text": [
      " 25%|##5       | 25/100 [00:05<00:17,  4.31it/s]\n"
     ]
    },
    {
     "name": "stdout",
     "output_type": "stream",
     "text": [
      "Tree 26/100, NDCG: 0.3853                                                       \n",
      " 80%|████████  | 4/5 [01:38<00:24, 24.14s/trial, best loss: -0.3696731871037515]"
     ]
    },
    {
     "name": "stderr",
     "output_type": "stream",
     "text": [
      " 26%|##6       | 26/100 [00:05<00:15,  4.86it/s]\n"
     ]
    },
    {
     "name": "stdout",
     "output_type": "stream",
     "text": [
      "Tree 27/100, NDCG: 0.3870                                                       \n",
      " 80%|████████  | 4/5 [01:38<00:24, 24.14s/trial, best loss: -0.3696731871037515]"
     ]
    },
    {
     "name": "stderr",
     "output_type": "stream",
     "text": [
      " 27%|##7       | 27/100 [00:05<00:14,  5.06it/s]\n"
     ]
    },
    {
     "name": "stdout",
     "output_type": "stream",
     "text": [
      "Tree 28/100, NDCG: 0.3776                                                       \n",
      " 80%|████████  | 4/5 [01:38<00:24, 24.14s/trial, best loss: -0.3696731871037515]"
     ]
    },
    {
     "name": "stderr",
     "output_type": "stream",
     "text": [
      " 28%|##8       | 28/100 [00:06<00:13,  5.30it/s]\n"
     ]
    },
    {
     "name": "stdout",
     "output_type": "stream",
     "text": [
      "Tree 29/100, NDCG: 0.3754                                                       \n",
      " 80%|████████  | 4/5 [01:39<00:24, 24.14s/trial, best loss: -0.3696731871037515]"
     ]
    },
    {
     "name": "stderr",
     "output_type": "stream",
     "text": [
      " 29%|##9       | 29/100 [00:06<00:13,  5.09it/s]\n"
     ]
    },
    {
     "name": "stdout",
     "output_type": "stream",
     "text": [
      "Tree 30/100, NDCG: 0.3754                                                       \n",
      " 80%|████████  | 4/5 [01:39<00:24, 24.14s/trial, best loss: -0.3696731871037515]"
     ]
    },
    {
     "name": "stderr",
     "output_type": "stream",
     "text": [
      " 30%|###       | 30/100 [00:06<00:16,  4.37it/s]\n"
     ]
    },
    {
     "name": "stdout",
     "output_type": "stream",
     "text": [
      "Tree 31/100, NDCG: 0.3767                                                       \n",
      " 80%|████████  | 4/5 [01:41<00:24, 24.14s/trial, best loss: -0.3696731871037515]"
     ]
    },
    {
     "name": "stderr",
     "output_type": "stream",
     "text": [
      " 31%|###1      | 31/100 [00:08<00:49,  1.40it/s]\n"
     ]
    },
    {
     "name": "stdout",
     "output_type": "stream",
     "text": [
      "Tree 32/100, NDCG: 0.3767                                                       \n",
      " 80%|████████  | 4/5 [01:41<00:24, 24.14s/trial, best loss: -0.3696731871037515]"
     ]
    },
    {
     "name": "stderr",
     "output_type": "stream",
     "text": [
      " 32%|###2      | 32/100 [00:08<00:37,  1.81it/s]\n"
     ]
    },
    {
     "name": "stdout",
     "output_type": "stream",
     "text": [
      "Tree 33/100, NDCG: 0.3779                                                       \n",
      " 80%|████████  | 4/5 [01:41<00:24, 24.14s/trial, best loss: -0.3696731871037515]"
     ]
    },
    {
     "name": "stderr",
     "output_type": "stream",
     "text": [
      " 33%|###3      | 33/100 [00:08<00:29,  2.29it/s]\n"
     ]
    },
    {
     "name": "stdout",
     "output_type": "stream",
     "text": [
      "Tree 34/100, NDCG: 0.3833                                                       \n",
      " 80%|████████  | 4/5 [01:41<00:24, 24.14s/trial, best loss: -0.3696731871037515]"
     ]
    },
    {
     "name": "stderr",
     "output_type": "stream",
     "text": [
      " 34%|###4      | 34/100 [00:09<00:23,  2.82it/s]\n"
     ]
    },
    {
     "name": "stdout",
     "output_type": "stream",
     "text": [
      "Tree 35/100, NDCG: 0.3818                                                       \n",
      " 80%|████████  | 4/5 [01:41<00:24, 24.14s/trial, best loss: -0.3696731871037515]"
     ]
    },
    {
     "name": "stderr",
     "output_type": "stream",
     "text": [
      " 35%|###5      | 35/100 [00:09<00:20,  3.16it/s]\n"
     ]
    },
    {
     "name": "stdout",
     "output_type": "stream",
     "text": [
      "Tree 36/100, NDCG: 0.3830                                                       \n",
      " 80%|████████  | 4/5 [01:42<00:24, 24.14s/trial, best loss: -0.3696731871037515]"
     ]
    },
    {
     "name": "stderr",
     "output_type": "stream",
     "text": [
      " 36%|###6      | 36/100 [00:09<00:17,  3.71it/s]\n"
     ]
    },
    {
     "name": "stdout",
     "output_type": "stream",
     "text": [
      "Tree 37/100, NDCG: 0.3878                                                       \n",
      " 80%|████████  | 4/5 [01:42<00:24, 24.14s/trial, best loss: -0.3696731871037515]"
     ]
    },
    {
     "name": "stderr",
     "output_type": "stream",
     "text": [
      " 37%|###7      | 37/100 [00:09<00:16,  3.77it/s]\n"
     ]
    },
    {
     "name": "stdout",
     "output_type": "stream",
     "text": [
      "Tree 38/100, NDCG: 0.3870                                                       \n",
      " 80%|████████  | 4/5 [01:42<00:24, 24.14s/trial, best loss: -0.3696731871037515]"
     ]
    },
    {
     "name": "stderr",
     "output_type": "stream",
     "text": [
      " 38%|###8      | 38/100 [00:09<00:15,  3.95it/s]\n"
     ]
    },
    {
     "name": "stdout",
     "output_type": "stream",
     "text": [
      "Tree 39/100, NDCG: 0.3838                                                       \n",
      " 80%|████████  | 4/5 [01:42<00:24, 24.14s/trial, best loss: -0.3696731871037515]"
     ]
    },
    {
     "name": "stderr",
     "output_type": "stream",
     "text": [
      " 39%|###9      | 39/100 [00:10<00:16,  3.79it/s]\n"
     ]
    },
    {
     "name": "stdout",
     "output_type": "stream",
     "text": [
      "Tree 40/100, NDCG: 0.3855                                                       \n",
      " 80%|████████  | 4/5 [01:43<00:24, 24.14s/trial, best loss: -0.3696731871037515]"
     ]
    },
    {
     "name": "stderr",
     "output_type": "stream",
     "text": [
      " 40%|####      | 40/100 [00:10<00:14,  4.25it/s]\n"
     ]
    },
    {
     "name": "stdout",
     "output_type": "stream",
     "text": [
      "Tree 41/100, NDCG: 0.3885                                                       \n",
      " 80%|████████  | 4/5 [01:43<00:24, 24.14s/trial, best loss: -0.3696731871037515]"
     ]
    },
    {
     "name": "stderr",
     "output_type": "stream",
     "text": [
      " 41%|####1     | 41/100 [00:10<00:12,  4.54it/s]\n"
     ]
    },
    {
     "name": "stdout",
     "output_type": "stream",
     "text": [
      "Tree 42/100, NDCG: 0.3852                                                       \n",
      " 80%|████████  | 4/5 [01:43<00:24, 24.14s/trial, best loss: -0.3696731871037515]"
     ]
    },
    {
     "name": "stderr",
     "output_type": "stream",
     "text": [
      " 42%|####2     | 42/100 [00:10<00:11,  4.88it/s]\n"
     ]
    },
    {
     "name": "stdout",
     "output_type": "stream",
     "text": [
      "Tree 43/100, NDCG: 0.3852                                                       \n",
      " 80%|████████  | 4/5 [01:43<00:24, 24.14s/trial, best loss: -0.3696731871037515]"
     ]
    },
    {
     "name": "stderr",
     "output_type": "stream",
     "text": [
      " 43%|####3     | 43/100 [00:10<00:11,  5.04it/s]\n"
     ]
    },
    {
     "name": "stdout",
     "output_type": "stream",
     "text": [
      "Tree 44/100, NDCG: 0.3864                                                       \n",
      " 80%|████████  | 4/5 [01:43<00:24, 24.14s/trial, best loss: -0.3696731871037515]"
     ]
    },
    {
     "name": "stderr",
     "output_type": "stream",
     "text": [
      " 44%|####4     | 44/100 [00:11<00:11,  4.80it/s]\n"
     ]
    },
    {
     "name": "stdout",
     "output_type": "stream",
     "text": [
      "Tree 45/100, NDCG: 0.3878                                                       \n",
      " 80%|████████  | 4/5 [01:44<00:24, 24.14s/trial, best loss: -0.3696731871037515]"
     ]
    },
    {
     "name": "stderr",
     "output_type": "stream",
     "text": [
      " 45%|####5     | 45/100 [00:11<00:10,  5.10it/s]\n"
     ]
    },
    {
     "name": "stdout",
     "output_type": "stream",
     "text": [
      "Tree 46/100, NDCG: 0.3867                                                       \n",
      " 80%|████████  | 4/5 [01:44<00:24, 24.14s/trial, best loss: -0.3696731871037515]"
     ]
    },
    {
     "name": "stderr",
     "output_type": "stream",
     "text": [
      " 46%|####6     | 46/100 [00:11<00:10,  5.27it/s]\n"
     ]
    },
    {
     "name": "stdout",
     "output_type": "stream",
     "text": [
      "Tree 47/100, NDCG: 0.3873                                                       \n",
      " 80%|████████  | 4/5 [01:44<00:24, 24.14s/trial, best loss: -0.3696731871037515]"
     ]
    },
    {
     "name": "stderr",
     "output_type": "stream",
     "text": [
      " 47%|####6     | 47/100 [00:11<00:09,  5.55it/s]\n"
     ]
    },
    {
     "name": "stdout",
     "output_type": "stream",
     "text": [
      "Tree 48/100, NDCG: 0.3872                                                       \n",
      " 80%|████████  | 4/5 [01:44<00:24, 24.14s/trial, best loss: -0.3696731871037515]"
     ]
    },
    {
     "name": "stderr",
     "output_type": "stream",
     "text": [
      " 48%|####8     | 48/100 [00:11<00:11,  4.70it/s]\n"
     ]
    },
    {
     "name": "stdout",
     "output_type": "stream",
     "text": [
      "Tree 49/100, NDCG: 0.3848                                                       \n",
      " 80%|████████  | 4/5 [01:44<00:24, 24.14s/trial, best loss: -0.3696731871037515]"
     ]
    },
    {
     "name": "stderr",
     "output_type": "stream",
     "text": [
      " 49%|####9     | 49/100 [00:12<00:11,  4.44it/s]\n"
     ]
    },
    {
     "name": "stdout",
     "output_type": "stream",
     "text": [
      "Tree 50/100, NDCG: 0.3856                                                       \n",
      " 80%|████████  | 4/5 [01:45<00:24, 24.14s/trial, best loss: -0.3696731871037515]"
     ]
    },
    {
     "name": "stderr",
     "output_type": "stream",
     "text": [
      " 50%|#####     | 50/100 [00:12<00:10,  4.85it/s]\n"
     ]
    },
    {
     "name": "stdout",
     "output_type": "stream",
     "text": [
      "Tree 51/100, NDCG: 0.3873                                                       \n",
      " 80%|████████  | 4/5 [01:45<00:24, 24.14s/trial, best loss: -0.3696731871037515]"
     ]
    },
    {
     "name": "stderr",
     "output_type": "stream",
     "text": [
      " 51%|#####1    | 51/100 [00:12<00:09,  4.97it/s]\n"
     ]
    },
    {
     "name": "stdout",
     "output_type": "stream",
     "text": [
      "Tree 52/100, NDCG: 0.3862                                                       \n",
      " 80%|████████  | 4/5 [01:45<00:24, 24.14s/trial, best loss: -0.3696731871037515]"
     ]
    },
    {
     "name": "stderr",
     "output_type": "stream",
     "text": [
      " 52%|#####2    | 52/100 [00:12<00:09,  5.14it/s]\n"
     ]
    },
    {
     "name": "stdout",
     "output_type": "stream",
     "text": [
      "Tree 53/100, NDCG: 0.3849                                                       \n",
      " 80%|████████  | 4/5 [01:45<00:24, 24.14s/trial, best loss: -0.3696731871037515]"
     ]
    },
    {
     "name": "stderr",
     "output_type": "stream",
     "text": [
      " 53%|#####3    | 53/100 [00:12<00:08,  5.25it/s]\n"
     ]
    },
    {
     "name": "stdout",
     "output_type": "stream",
     "text": [
      "Tree 54/100, NDCG: 0.3771                                                       \n",
      " 80%|████████  | 4/5 [01:45<00:24, 24.14s/trial, best loss: -0.3696731871037515]"
     ]
    },
    {
     "name": "stderr",
     "output_type": "stream",
     "text": [
      " 54%|#####4    | 54/100 [00:13<00:08,  5.42it/s]\n"
     ]
    },
    {
     "name": "stdout",
     "output_type": "stream",
     "text": [
      "Tree 55/100, NDCG: 0.3755                                                       \n",
      " 80%|████████  | 4/5 [01:45<00:24, 24.14s/trial, best loss: -0.3696731871037515]"
     ]
    },
    {
     "name": "stderr",
     "output_type": "stream",
     "text": [
      " 55%|#####5    | 55/100 [00:13<00:08,  5.08it/s]\n"
     ]
    },
    {
     "name": "stdout",
     "output_type": "stream",
     "text": [
      "Tree 56/100, NDCG: 0.3786                                                       \n",
      " 80%|████████  | 4/5 [01:46<00:24, 24.14s/trial, best loss: -0.3696731871037515]"
     ]
    },
    {
     "name": "stderr",
     "output_type": "stream",
     "text": [
      " 56%|#####6    | 56/100 [00:13<00:08,  5.31it/s]\n"
     ]
    },
    {
     "name": "stdout",
     "output_type": "stream",
     "text": [
      "Tree 57/100, NDCG: 0.3766                                                       \n",
      " 80%|████████  | 4/5 [01:46<00:24, 24.14s/trial, best loss: -0.3696731871037515]"
     ]
    },
    {
     "name": "stderr",
     "output_type": "stream",
     "text": [
      " 57%|#####6    | 57/100 [00:13<00:08,  5.34it/s]\n"
     ]
    },
    {
     "name": "stdout",
     "output_type": "stream",
     "text": [
      "Tree 58/100, NDCG: 0.3747                                                       \n",
      " 80%|████████  | 4/5 [01:46<00:24, 24.14s/trial, best loss: -0.3696731871037515]"
     ]
    },
    {
     "name": "stderr",
     "output_type": "stream",
     "text": [
      " 58%|#####8    | 58/100 [00:13<00:07,  5.36it/s]\n"
     ]
    },
    {
     "name": "stdout",
     "output_type": "stream",
     "text": [
      "Tree 59/100, NDCG: 0.3757                                                       \n",
      " 80%|████████  | 4/5 [01:46<00:24, 24.14s/trial, best loss: -0.3696731871037515]"
     ]
    },
    {
     "name": "stderr",
     "output_type": "stream",
     "text": [
      " 59%|#####8    | 59/100 [00:13<00:07,  5.47it/s]\n"
     ]
    },
    {
     "name": "stdout",
     "output_type": "stream",
     "text": [
      "Tree 60/100, NDCG: 0.3793                                                       \n",
      " 80%|████████  | 4/5 [01:46<00:24, 24.14s/trial, best loss: -0.3696731871037515]"
     ]
    },
    {
     "name": "stderr",
     "output_type": "stream",
     "text": [
      " 60%|######    | 60/100 [00:14<00:07,  5.42it/s]\n"
     ]
    },
    {
     "name": "stdout",
     "output_type": "stream",
     "text": [
      "Tree 61/100, NDCG: 0.3741                                                       \n",
      " 80%|████████  | 4/5 [01:47<00:24, 24.14s/trial, best loss: -0.3696731871037515]"
     ]
    },
    {
     "name": "stderr",
     "output_type": "stream",
     "text": [
      " 61%|######1   | 61/100 [00:14<00:07,  5.44it/s]\n"
     ]
    },
    {
     "name": "stdout",
     "output_type": "stream",
     "text": [
      "Tree 62/100, NDCG: 0.3739                                                       \n",
      " 80%|████████  | 4/5 [01:47<00:24, 24.14s/trial, best loss: -0.3696731871037515]"
     ]
    },
    {
     "name": "stderr",
     "output_type": "stream",
     "text": [
      " 62%|######2   | 62/100 [00:14<00:07,  5.34it/s]\n"
     ]
    },
    {
     "name": "stdout",
     "output_type": "stream",
     "text": [
      "Tree 63/100, NDCG: 0.3709                                                       \n",
      " 80%|████████  | 4/5 [01:47<00:24, 24.14s/trial, best loss: -0.3696731871037515]"
     ]
    },
    {
     "name": "stderr",
     "output_type": "stream",
     "text": [
      " 63%|######3   | 63/100 [00:14<00:07,  4.76it/s]\n"
     ]
    },
    {
     "name": "stdout",
     "output_type": "stream",
     "text": [
      "Tree 64/100, NDCG: 0.3700                                                       \n",
      " 80%|████████  | 4/5 [01:47<00:24, 24.14s/trial, best loss: -0.3696731871037515]"
     ]
    },
    {
     "name": "stderr",
     "output_type": "stream",
     "text": [
      " 64%|######4   | 64/100 [00:14<00:07,  4.99it/s]\n"
     ]
    },
    {
     "name": "stdout",
     "output_type": "stream",
     "text": [
      "Tree 65/100, NDCG: 0.3673                                                       \n",
      " 80%|████████  | 4/5 [01:47<00:24, 24.14s/trial, best loss: -0.3696731871037515]"
     ]
    },
    {
     "name": "stderr",
     "output_type": "stream",
     "text": [
      " 65%|######5   | 65/100 [00:15<00:06,  5.43it/s]\n"
     ]
    },
    {
     "name": "stdout",
     "output_type": "stream",
     "text": [
      "Tree 66/100, NDCG: 0.3703                                                       \n",
      " 80%|████████  | 4/5 [01:48<00:24, 24.14s/trial, best loss: -0.3696731871037515]"
     ]
    },
    {
     "name": "stderr",
     "output_type": "stream",
     "text": [
      " 66%|######6   | 66/100 [00:15<00:06,  5.10it/s]\n"
     ]
    },
    {
     "name": "stdout",
     "output_type": "stream",
     "text": [
      "Tree 67/100, NDCG: 0.3687                                                       \n",
      " 80%|████████  | 4/5 [01:48<00:24, 24.14s/trial, best loss: -0.3696731871037515]"
     ]
    },
    {
     "name": "stderr",
     "output_type": "stream",
     "text": [
      " 67%|######7   | 67/100 [00:15<00:08,  4.11it/s]\n"
     ]
    },
    {
     "name": "stdout",
     "output_type": "stream",
     "text": [
      "Tree 68/100, NDCG: 0.3698                                                       \n",
      " 80%|████████  | 4/5 [01:48<00:24, 24.14s/trial, best loss: -0.3696731871037515]"
     ]
    },
    {
     "name": "stderr",
     "output_type": "stream",
     "text": [
      " 68%|######8   | 68/100 [00:16<00:08,  3.66it/s]\n"
     ]
    },
    {
     "name": "stdout",
     "output_type": "stream",
     "text": [
      "Tree 69/100, NDCG: 0.3822                                                       \n",
      " 80%|████████  | 4/5 [01:49<00:24, 24.14s/trial, best loss: -0.3696731871037515]"
     ]
    },
    {
     "name": "stderr",
     "output_type": "stream",
     "text": [
      " 69%|######9   | 69/100 [00:16<00:10,  2.87it/s]\n"
     ]
    },
    {
     "name": "stdout",
     "output_type": "stream",
     "text": [
      "Tree 70/100, NDCG: 0.3847                                                       \n",
      " 80%|████████  | 4/5 [01:49<00:24, 24.14s/trial, best loss: -0.3696731871037515]"
     ]
    },
    {
     "name": "stderr",
     "output_type": "stream",
     "text": [
      " 70%|#######   | 70/100 [00:16<00:09,  3.21it/s]\n"
     ]
    },
    {
     "name": "stdout",
     "output_type": "stream",
     "text": [
      "Tree 71/100, NDCG: 0.3853                                                       \n",
      " 80%|████████  | 4/5 [01:49<00:24, 24.14s/trial, best loss: -0.3696731871037515]"
     ]
    },
    {
     "name": "stderr",
     "output_type": "stream",
     "text": [
      " 71%|#######1  | 71/100 [00:16<00:07,  3.77it/s]\n"
     ]
    },
    {
     "name": "stdout",
     "output_type": "stream",
     "text": [
      "Tree 72/100, NDCG: 0.3832                                                       \n",
      " 80%|████████  | 4/5 [01:49<00:24, 24.14s/trial, best loss: -0.3696731871037515]"
     ]
    },
    {
     "name": "stderr",
     "output_type": "stream",
     "text": [
      " 72%|#######2  | 72/100 [00:17<00:06,  4.19it/s]\n"
     ]
    },
    {
     "name": "stdout",
     "output_type": "stream",
     "text": [
      "Tree 73/100, NDCG: 0.3865                                                       \n",
      " 80%|████████  | 4/5 [01:50<00:24, 24.14s/trial, best loss: -0.3696731871037515]"
     ]
    },
    {
     "name": "stderr",
     "output_type": "stream",
     "text": [
      " 73%|#######3  | 73/100 [00:17<00:06,  3.95it/s]\n"
     ]
    },
    {
     "name": "stdout",
     "output_type": "stream",
     "text": [
      "Tree 74/100, NDCG: 0.3836                                                       \n",
      " 80%|████████  | 4/5 [01:50<00:24, 24.14s/trial, best loss: -0.3696731871037515]"
     ]
    },
    {
     "name": "stderr",
     "output_type": "stream",
     "text": [
      " 74%|#######4  | 74/100 [00:17<00:06,  4.12it/s]\n"
     ]
    },
    {
     "name": "stdout",
     "output_type": "stream",
     "text": [
      "Tree 75/100, NDCG: 0.3843                                                       \n",
      " 80%|████████  | 4/5 [01:50<00:24, 24.14s/trial, best loss: -0.3696731871037515]"
     ]
    },
    {
     "name": "stderr",
     "output_type": "stream",
     "text": [
      " 75%|#######5  | 75/100 [00:17<00:05,  4.41it/s]\n"
     ]
    },
    {
     "name": "stdout",
     "output_type": "stream",
     "text": [
      "Tree 76/100, NDCG: 0.3833                                                       \n",
      " 80%|████████  | 4/5 [01:50<00:24, 24.14s/trial, best loss: -0.3696731871037515]"
     ]
    },
    {
     "name": "stderr",
     "output_type": "stream",
     "text": [
      " 76%|#######6  | 76/100 [00:18<00:05,  4.69it/s]\n"
     ]
    },
    {
     "name": "stdout",
     "output_type": "stream",
     "text": [
      "Tree 77/100, NDCG: 0.3848                                                       \n",
      " 80%|████████  | 4/5 [01:50<00:24, 24.14s/trial, best loss: -0.3696731871037515]"
     ]
    },
    {
     "name": "stderr",
     "output_type": "stream",
     "text": [
      " 77%|#######7  | 77/100 [00:18<00:04,  4.94it/s]\n"
     ]
    },
    {
     "name": "stdout",
     "output_type": "stream",
     "text": [
      "Tree 78/100, NDCG: 0.3855                                                       \n",
      " 80%|████████  | 4/5 [01:51<00:24, 24.14s/trial, best loss: -0.3696731871037515]"
     ]
    },
    {
     "name": "stderr",
     "output_type": "stream",
     "text": [
      " 78%|#######8  | 78/100 [00:18<00:04,  5.18it/s]\n"
     ]
    },
    {
     "name": "stdout",
     "output_type": "stream",
     "text": [
      "Tree 79/100, NDCG: 0.3874                                                       \n",
      " 80%|████████  | 4/5 [01:51<00:24, 24.14s/trial, best loss: -0.3696731871037515]"
     ]
    },
    {
     "name": "stderr",
     "output_type": "stream",
     "text": [
      " 79%|#######9  | 79/100 [00:18<00:04,  5.02it/s]\n"
     ]
    },
    {
     "name": "stdout",
     "output_type": "stream",
     "text": [
      "Tree 80/100, NDCG: 0.3864                                                       \n",
      " 80%|████████  | 4/5 [01:51<00:24, 24.14s/trial, best loss: -0.3696731871037515]"
     ]
    },
    {
     "name": "stderr",
     "output_type": "stream",
     "text": [
      " 80%|########  | 80/100 [00:18<00:04,  4.99it/s]\n"
     ]
    },
    {
     "name": "stdout",
     "output_type": "stream",
     "text": [
      "Tree 81/100, NDCG: 0.3927                                                       \n",
      " 80%|████████  | 4/5 [01:51<00:24, 24.14s/trial, best loss: -0.3696731871037515]"
     ]
    },
    {
     "name": "stderr",
     "output_type": "stream",
     "text": [
      " 81%|########1 | 81/100 [00:19<00:04,  4.72it/s]\n"
     ]
    },
    {
     "name": "stdout",
     "output_type": "stream",
     "text": [
      "Tree 82/100, NDCG: 0.3931                                                       \n",
      " 80%|████████  | 4/5 [01:51<00:24, 24.14s/trial, best loss: -0.3696731871037515]"
     ]
    },
    {
     "name": "stderr",
     "output_type": "stream",
     "text": [
      " 82%|########2 | 82/100 [00:19<00:03,  4.91it/s]\n"
     ]
    },
    {
     "name": "stdout",
     "output_type": "stream",
     "text": [
      "Tree 83/100, NDCG: 0.3903                                                       \n",
      " 80%|████████  | 4/5 [01:52<00:24, 24.14s/trial, best loss: -0.3696731871037515]"
     ]
    },
    {
     "name": "stderr",
     "output_type": "stream",
     "text": [
      " 83%|########2 | 83/100 [00:19<00:03,  5.07it/s]\n"
     ]
    },
    {
     "name": "stdout",
     "output_type": "stream",
     "text": [
      "Tree 84/100, NDCG: 0.3898                                                       \n",
      " 80%|████████  | 4/5 [01:52<00:24, 24.14s/trial, best loss: -0.3696731871037515]"
     ]
    },
    {
     "name": "stderr",
     "output_type": "stream",
     "text": [
      " 84%|########4 | 84/100 [00:19<00:03,  4.01it/s]\n"
     ]
    },
    {
     "name": "stdout",
     "output_type": "stream",
     "text": [
      "Tree 85/100, NDCG: 0.3880                                                       \n",
      " 80%|████████  | 4/5 [01:52<00:24, 24.14s/trial, best loss: -0.3696731871037515]"
     ]
    },
    {
     "name": "stderr",
     "output_type": "stream",
     "text": [
      " 85%|########5 | 85/100 [00:19<00:03,  4.37it/s]\n"
     ]
    },
    {
     "name": "stdout",
     "output_type": "stream",
     "text": [
      "Tree 86/100, NDCG: 0.3936                                                       \n",
      " 80%|████████  | 4/5 [01:52<00:24, 24.14s/trial, best loss: -0.3696731871037515]"
     ]
    },
    {
     "name": "stderr",
     "output_type": "stream",
     "text": [
      " 86%|########6 | 86/100 [00:20<00:03,  4.65it/s]\n"
     ]
    },
    {
     "name": "stdout",
     "output_type": "stream",
     "text": [
      "Tree 87/100, NDCG: 0.3970                                                       \n",
      " 80%|████████  | 4/5 [01:53<00:24, 24.14s/trial, best loss: -0.3696731871037515]"
     ]
    },
    {
     "name": "stderr",
     "output_type": "stream",
     "text": [
      " 87%|########7 | 87/100 [00:20<00:02,  4.68it/s]\n"
     ]
    },
    {
     "name": "stdout",
     "output_type": "stream",
     "text": [
      "Tree 88/100, NDCG: 0.3926                                                       \n",
      " 80%|████████  | 4/5 [01:53<00:24, 24.14s/trial, best loss: -0.3696731871037515]"
     ]
    },
    {
     "name": "stderr",
     "output_type": "stream",
     "text": [
      " 88%|########8 | 88/100 [00:20<00:02,  4.47it/s]\n"
     ]
    },
    {
     "name": "stdout",
     "output_type": "stream",
     "text": [
      "Tree 89/100, NDCG: 0.3915                                                       \n",
      " 80%|████████  | 4/5 [01:53<00:24, 24.14s/trial, best loss: -0.3696731871037515]"
     ]
    },
    {
     "name": "stderr",
     "output_type": "stream",
     "text": [
      " 89%|########9 | 89/100 [00:20<00:02,  4.63it/s]\n"
     ]
    },
    {
     "name": "stdout",
     "output_type": "stream",
     "text": [
      "Tree 90/100, NDCG: 0.3893                                                       \n",
      " 80%|████████  | 4/5 [01:53<00:24, 24.14s/trial, best loss: -0.3696731871037515]"
     ]
    },
    {
     "name": "stderr",
     "output_type": "stream",
     "text": [
      " 90%|######### | 90/100 [00:20<00:02,  4.93it/s]\n"
     ]
    },
    {
     "name": "stdout",
     "output_type": "stream",
     "text": [
      "Tree 91/100, NDCG: 0.3904                                                       \n",
      " 80%|████████  | 4/5 [01:53<00:24, 24.14s/trial, best loss: -0.3696731871037515]"
     ]
    },
    {
     "name": "stderr",
     "output_type": "stream",
     "text": [
      " 91%|#########1| 91/100 [00:21<00:01,  5.13it/s]\n"
     ]
    },
    {
     "name": "stdout",
     "output_type": "stream",
     "text": [
      "Tree 92/100, NDCG: 0.3874                                                       \n",
      " 80%|████████  | 4/5 [01:54<00:24, 24.14s/trial, best loss: -0.3696731871037515]"
     ]
    },
    {
     "name": "stderr",
     "output_type": "stream",
     "text": [
      " 92%|#########2| 92/100 [00:21<00:01,  5.23it/s]\n"
     ]
    },
    {
     "name": "stdout",
     "output_type": "stream",
     "text": [
      "Tree 93/100, NDCG: 0.3839                                                       \n",
      " 80%|████████  | 4/5 [01:54<00:24, 24.14s/trial, best loss: -0.3696731871037515]"
     ]
    },
    {
     "name": "stderr",
     "output_type": "stream",
     "text": [
      " 93%|#########3| 93/100 [00:21<00:01,  4.86it/s]\n"
     ]
    },
    {
     "name": "stdout",
     "output_type": "stream",
     "text": [
      "Tree 94/100, NDCG: 0.3808                                                       \n",
      " 80%|████████  | 4/5 [01:54<00:24, 24.14s/trial, best loss: -0.3696731871037515]"
     ]
    },
    {
     "name": "stderr",
     "output_type": "stream",
     "text": [
      " 94%|#########3| 94/100 [00:21<00:01,  5.09it/s]\n"
     ]
    },
    {
     "name": "stdout",
     "output_type": "stream",
     "text": [
      "Tree 95/100, NDCG: 0.3866                                                       \n",
      " 80%|████████  | 4/5 [01:54<00:24, 24.14s/trial, best loss: -0.3696731871037515]"
     ]
    },
    {
     "name": "stderr",
     "output_type": "stream",
     "text": [
      " 95%|#########5| 95/100 [00:21<00:00,  5.26it/s]\n"
     ]
    },
    {
     "name": "stdout",
     "output_type": "stream",
     "text": [
      "Tree 96/100, NDCG: 0.3876                                                       \n",
      " 80%|████████  | 4/5 [01:54<00:24, 24.14s/trial, best loss: -0.3696731871037515]"
     ]
    },
    {
     "name": "stderr",
     "output_type": "stream",
     "text": [
      " 96%|#########6| 96/100 [00:22<00:00,  5.43it/s]\n"
     ]
    },
    {
     "name": "stdout",
     "output_type": "stream",
     "text": [
      "Tree 97/100, NDCG: 0.3830                                                       \n",
      " 80%|████████  | 4/5 [01:55<00:24, 24.14s/trial, best loss: -0.3696731871037515]"
     ]
    },
    {
     "name": "stderr",
     "output_type": "stream",
     "text": [
      " 97%|#########7| 97/100 [00:22<00:00,  4.76it/s]\n"
     ]
    },
    {
     "name": "stdout",
     "output_type": "stream",
     "text": [
      "Tree 98/100, NDCG: 0.3848                                                       \n",
      " 80%|████████  | 4/5 [01:55<00:24, 24.14s/trial, best loss: -0.3696731871037515]"
     ]
    },
    {
     "name": "stderr",
     "output_type": "stream",
     "text": [
      " 98%|#########8| 98/100 [00:22<00:00,  4.51it/s]\n"
     ]
    },
    {
     "name": "stdout",
     "output_type": "stream",
     "text": [
      "Tree 99/100, NDCG: 0.3816                                                       \n",
      " 80%|████████  | 4/5 [01:55<00:24, 24.14s/trial, best loss: -0.3696731871037515]"
     ]
    },
    {
     "name": "stderr",
     "output_type": "stream",
     "text": [
      " 99%|#########9| 99/100 [00:22<00:00,  4.79it/s]\n"
     ]
    },
    {
     "name": "stdout",
     "output_type": "stream",
     "text": [
      "Tree 100/100, NDCG: 0.3861                                                      \n",
      " 80%|████████  | 4/5 [01:55<00:24, 24.14s/trial, best loss: -0.3696731871037515]"
     ]
    },
    {
     "name": "stderr",
     "output_type": "stream",
     "text": [
      "100%|##########| 100/100 [00:22<00:00,  4.73it/s]\n",
      "100%|##########| 100/100 [00:22<00:00,  4.35it/s]\n"
     ]
    },
    {
     "name": "stdout",
     "output_type": "stream",
     "text": [
      "100%|██████████| 5/5 [01:55<00:00, 23.14s/trial, best loss: -0.3969665586408174]\n",
      "{'colsample_bytree': 0.6933035806717588, 'lr': 0.013303056768958573, 'max_depth': 5, 'min_samples_leaf': 20, 'subsample': 0.1495248124385185}\n"
     ]
    },
    {
     "name": "stderr",
     "output_type": "stream",
     "text": [
      "  2%|▏         | 2/100 [00:00<00:18,  5.32it/s]"
     ]
    },
    {
     "name": "stdout",
     "output_type": "stream",
     "text": [
      "Tree 1/100, NDCG: 0.2453\n",
      "Tree 2/100, NDCG: 0.2767\n"
     ]
    },
    {
     "name": "stderr",
     "output_type": "stream",
     "text": [
      "  4%|▍         | 4/100 [00:00<00:18,  5.14it/s]"
     ]
    },
    {
     "name": "stdout",
     "output_type": "stream",
     "text": [
      "Tree 3/100, NDCG: 0.3184\n",
      "Tree 4/100, NDCG: 0.3138\n"
     ]
    },
    {
     "name": "stderr",
     "output_type": "stream",
     "text": [
      "  5%|▌         | 5/100 [00:01<00:20,  4.64it/s]"
     ]
    },
    {
     "name": "stdout",
     "output_type": "stream",
     "text": [
      "Tree 5/100, NDCG: 0.3274\n"
     ]
    },
    {
     "name": "stderr",
     "output_type": "stream",
     "text": [
      "  7%|▋         | 7/100 [00:01<00:22,  4.11it/s]"
     ]
    },
    {
     "name": "stdout",
     "output_type": "stream",
     "text": [
      "Tree 6/100, NDCG: 0.3445\n",
      "Tree 7/100, NDCG: 0.3307\n"
     ]
    },
    {
     "name": "stderr",
     "output_type": "stream",
     "text": [
      "  8%|▊         | 8/100 [00:01<00:20,  4.44it/s]"
     ]
    },
    {
     "name": "stdout",
     "output_type": "stream",
     "text": [
      "Tree 8/100, NDCG: 0.3348\n"
     ]
    },
    {
     "name": "stderr",
     "output_type": "stream",
     "text": [
      "  9%|▉         | 9/100 [00:02<00:24,  3.68it/s]"
     ]
    },
    {
     "name": "stdout",
     "output_type": "stream",
     "text": [
      "Tree 9/100, NDCG: 0.3371\n"
     ]
    },
    {
     "name": "stderr",
     "output_type": "stream",
     "text": [
      " 11%|█         | 11/100 [00:02<00:20,  4.38it/s]"
     ]
    },
    {
     "name": "stdout",
     "output_type": "stream",
     "text": [
      "Tree 10/100, NDCG: 0.3336\n",
      "Tree 11/100, NDCG: 0.3355\n"
     ]
    },
    {
     "name": "stderr",
     "output_type": "stream",
     "text": [
      " 13%|█▎        | 13/100 [00:02<00:16,  5.14it/s]"
     ]
    },
    {
     "name": "stdout",
     "output_type": "stream",
     "text": [
      "Tree 12/100, NDCG: 0.3387\n",
      "Tree 13/100, NDCG: 0.3411\n"
     ]
    },
    {
     "name": "stderr",
     "output_type": "stream",
     "text": [
      " 14%|█▍        | 14/100 [00:03<00:16,  5.23it/s]"
     ]
    },
    {
     "name": "stdout",
     "output_type": "stream",
     "text": [
      "Tree 14/100, NDCG: 0.3523\n"
     ]
    },
    {
     "name": "stderr",
     "output_type": "stream",
     "text": [
      " 15%|█▌        | 15/100 [00:03<00:18,  4.55it/s]"
     ]
    },
    {
     "name": "stdout",
     "output_type": "stream",
     "text": [
      "Tree 15/100, NDCG: 0.3563\n"
     ]
    },
    {
     "name": "stderr",
     "output_type": "stream",
     "text": [
      " 17%|█▋        | 17/100 [00:03<00:16,  4.90it/s]"
     ]
    },
    {
     "name": "stdout",
     "output_type": "stream",
     "text": [
      "Tree 16/100, NDCG: 0.3427\n",
      "Tree 17/100, NDCG: 0.3460\n"
     ]
    },
    {
     "name": "stderr",
     "output_type": "stream",
     "text": [
      " 19%|█▉        | 19/100 [00:04<00:15,  5.10it/s]"
     ]
    },
    {
     "name": "stdout",
     "output_type": "stream",
     "text": [
      "Tree 18/100, NDCG: 0.3442\n",
      "Tree 19/100, NDCG: 0.3401\n"
     ]
    },
    {
     "name": "stderr",
     "output_type": "stream",
     "text": [
      " 21%|██        | 21/100 [00:04<00:16,  4.90it/s]"
     ]
    },
    {
     "name": "stdout",
     "output_type": "stream",
     "text": [
      "Tree 20/100, NDCG: 0.3388\n",
      "Tree 21/100, NDCG: 0.3413\n"
     ]
    },
    {
     "name": "stderr",
     "output_type": "stream",
     "text": [
      " 22%|██▏       | 22/100 [00:04<00:16,  4.85it/s]"
     ]
    },
    {
     "name": "stdout",
     "output_type": "stream",
     "text": [
      "Tree 22/100, NDCG: 0.3403\n"
     ]
    },
    {
     "name": "stderr",
     "output_type": "stream",
     "text": [
      " 23%|██▎       | 23/100 [00:04<00:16,  4.74it/s]"
     ]
    },
    {
     "name": "stdout",
     "output_type": "stream",
     "text": [
      "Tree 23/100, NDCG: 0.3406\n"
     ]
    },
    {
     "name": "stderr",
     "output_type": "stream",
     "text": [
      " 24%|██▍       | 24/100 [00:05<00:22,  3.36it/s]"
     ]
    },
    {
     "name": "stdout",
     "output_type": "stream",
     "text": [
      "Tree 24/100, NDCG: 0.3456\n"
     ]
    },
    {
     "name": "stderr",
     "output_type": "stream",
     "text": [
      " 26%|██▌       | 26/100 [00:05<00:18,  3.95it/s]"
     ]
    },
    {
     "name": "stdout",
     "output_type": "stream",
     "text": [
      "Tree 25/100, NDCG: 0.3723\n",
      "Tree 26/100, NDCG: 0.3753\n"
     ]
    },
    {
     "name": "stderr",
     "output_type": "stream",
     "text": [
      " 27%|██▋       | 27/100 [00:06<00:19,  3.72it/s]"
     ]
    },
    {
     "name": "stdout",
     "output_type": "stream",
     "text": [
      "Tree 27/100, NDCG: 0.3808\n"
     ]
    },
    {
     "name": "stderr",
     "output_type": "stream",
     "text": [
      " 28%|██▊       | 28/100 [00:06<00:18,  3.93it/s]"
     ]
    },
    {
     "name": "stdout",
     "output_type": "stream",
     "text": [
      "Tree 28/100, NDCG: 0.3710\n"
     ]
    },
    {
     "name": "stderr",
     "output_type": "stream",
     "text": [
      " 30%|███       | 30/100 [00:06<00:15,  4.48it/s]"
     ]
    },
    {
     "name": "stdout",
     "output_type": "stream",
     "text": [
      "Tree 29/100, NDCG: 0.3694\n",
      "Tree 30/100, NDCG: 0.3689\n"
     ]
    },
    {
     "name": "stderr",
     "output_type": "stream",
     "text": [
      " 31%|███       | 31/100 [00:07<00:14,  4.77it/s]"
     ]
    },
    {
     "name": "stdout",
     "output_type": "stream",
     "text": [
      "Tree 31/100, NDCG: 0.3732\n"
     ]
    },
    {
     "name": "stderr",
     "output_type": "stream",
     "text": [
      " 32%|███▏      | 32/100 [00:07<00:14,  4.74it/s]"
     ]
    },
    {
     "name": "stdout",
     "output_type": "stream",
     "text": [
      "Tree 32/100, NDCG: 0.3763\n"
     ]
    },
    {
     "name": "stderr",
     "output_type": "stream",
     "text": [
      " 34%|███▍      | 34/100 [00:07<00:13,  4.81it/s]"
     ]
    },
    {
     "name": "stdout",
     "output_type": "stream",
     "text": [
      "Tree 33/100, NDCG: 0.3773\n",
      "Tree 34/100, NDCG: 0.3746\n"
     ]
    },
    {
     "name": "stderr",
     "output_type": "stream",
     "text": [
      " 36%|███▌      | 36/100 [00:07<00:11,  5.43it/s]"
     ]
    },
    {
     "name": "stdout",
     "output_type": "stream",
     "text": [
      "Tree 35/100, NDCG: 0.3745\n",
      "Tree 36/100, NDCG: 0.3743\n"
     ]
    },
    {
     "name": "stderr",
     "output_type": "stream",
     "text": [
      " 38%|███▊      | 38/100 [00:08<00:11,  5.31it/s]"
     ]
    },
    {
     "name": "stdout",
     "output_type": "stream",
     "text": [
      "Tree 37/100, NDCG: 0.3784\n",
      "Tree 38/100, NDCG: 0.3780\n"
     ]
    },
    {
     "name": "stderr",
     "output_type": "stream",
     "text": [
      " 39%|███▉      | 39/100 [00:08<00:11,  5.36it/s]"
     ]
    },
    {
     "name": "stdout",
     "output_type": "stream",
     "text": [
      "Tree 39/100, NDCG: 0.3761\n"
     ]
    },
    {
     "name": "stderr",
     "output_type": "stream",
     "text": [
      " 40%|████      | 40/100 [00:08<00:12,  4.79it/s]"
     ]
    },
    {
     "name": "stdout",
     "output_type": "stream",
     "text": [
      "Tree 40/100, NDCG: 0.3736\n"
     ]
    },
    {
     "name": "stderr",
     "output_type": "stream",
     "text": [
      " 42%|████▏     | 42/100 [00:09<00:11,  5.17it/s]"
     ]
    },
    {
     "name": "stdout",
     "output_type": "stream",
     "text": [
      "Tree 41/100, NDCG: 0.3762\n",
      "Tree 42/100, NDCG: 0.3791\n"
     ]
    },
    {
     "name": "stderr",
     "output_type": "stream",
     "text": [
      " 44%|████▍     | 44/100 [00:09<00:10,  5.36it/s]"
     ]
    },
    {
     "name": "stdout",
     "output_type": "stream",
     "text": [
      "Tree 43/100, NDCG: 0.3751\n",
      "Tree 44/100, NDCG: 0.3760\n"
     ]
    },
    {
     "name": "stderr",
     "output_type": "stream",
     "text": [
      " 46%|████▌     | 46/100 [00:09<00:09,  5.67it/s]"
     ]
    },
    {
     "name": "stdout",
     "output_type": "stream",
     "text": [
      "Tree 45/100, NDCG: 0.3781\n",
      "Tree 46/100, NDCG: 0.3807\n"
     ]
    },
    {
     "name": "stderr",
     "output_type": "stream",
     "text": [
      " 47%|████▋     | 47/100 [00:10<00:09,  5.72it/s]"
     ]
    },
    {
     "name": "stdout",
     "output_type": "stream",
     "text": [
      "Tree 47/100, NDCG: 0.3813\n"
     ]
    },
    {
     "name": "stderr",
     "output_type": "stream",
     "text": [
      " 49%|████▉     | 49/100 [00:10<00:09,  5.25it/s]"
     ]
    },
    {
     "name": "stdout",
     "output_type": "stream",
     "text": [
      "Tree 48/100, NDCG: 0.3800\n",
      "Tree 49/100, NDCG: 0.3800\n"
     ]
    },
    {
     "name": "stderr",
     "output_type": "stream",
     "text": [
      " 50%|█████     | 50/100 [00:10<00:09,  5.18it/s]"
     ]
    },
    {
     "name": "stdout",
     "output_type": "stream",
     "text": [
      "Tree 50/100, NDCG: 0.3777\n"
     ]
    },
    {
     "name": "stderr",
     "output_type": "stream",
     "text": [
      " 52%|█████▏    | 52/100 [00:11<00:09,  5.16it/s]"
     ]
    },
    {
     "name": "stdout",
     "output_type": "stream",
     "text": [
      "Tree 51/100, NDCG: 0.3807\n",
      "Tree 52/100, NDCG: 0.3776\n"
     ]
    },
    {
     "name": "stderr",
     "output_type": "stream",
     "text": [
      " 53%|█████▎    | 53/100 [00:11<00:08,  5.45it/s]"
     ]
    },
    {
     "name": "stdout",
     "output_type": "stream",
     "text": [
      "Tree 53/100, NDCG: 0.3734\n"
     ]
    },
    {
     "name": "stderr",
     "output_type": "stream",
     "text": [
      " 55%|█████▌    | 55/100 [00:11<00:08,  5.36it/s]"
     ]
    },
    {
     "name": "stdout",
     "output_type": "stream",
     "text": [
      "Tree 54/100, NDCG: 0.3724\n",
      "Tree 55/100, NDCG: 0.3680\n"
     ]
    },
    {
     "name": "stderr",
     "output_type": "stream",
     "text": [
      " 56%|█████▌    | 56/100 [00:11<00:08,  5.41it/s]"
     ]
    },
    {
     "name": "stdout",
     "output_type": "stream",
     "text": [
      "Tree 56/100, NDCG: 0.3661\n"
     ]
    },
    {
     "name": "stderr",
     "output_type": "stream",
     "text": [
      " 58%|█████▊    | 58/100 [00:12<00:07,  5.26it/s]"
     ]
    },
    {
     "name": "stdout",
     "output_type": "stream",
     "text": [
      "Tree 57/100, NDCG: 0.3681\n",
      "Tree 58/100, NDCG: 0.3641\n"
     ]
    },
    {
     "name": "stderr",
     "output_type": "stream",
     "text": [
      " 59%|█████▉    | 59/100 [00:12<00:07,  5.17it/s]"
     ]
    },
    {
     "name": "stdout",
     "output_type": "stream",
     "text": [
      "Tree 59/100, NDCG: 0.3666\n"
     ]
    },
    {
     "name": "stderr",
     "output_type": "stream",
     "text": [
      " 61%|██████    | 61/100 [00:12<00:08,  4.64it/s]"
     ]
    },
    {
     "name": "stdout",
     "output_type": "stream",
     "text": [
      "Tree 60/100, NDCG: 0.3706\n",
      "Tree 61/100, NDCG: 0.3710\n"
     ]
    },
    {
     "name": "stderr",
     "output_type": "stream",
     "text": [
      " 62%|██████▏   | 62/100 [00:13<00:08,  4.31it/s]"
     ]
    },
    {
     "name": "stdout",
     "output_type": "stream",
     "text": [
      "Tree 62/100, NDCG: 0.3717\n"
     ]
    },
    {
     "name": "stderr",
     "output_type": "stream",
     "text": [
      " 63%|██████▎   | 63/100 [00:13<00:08,  4.22it/s]"
     ]
    },
    {
     "name": "stdout",
     "output_type": "stream",
     "text": [
      "Tree 63/100, NDCG: 0.3632\n"
     ]
    },
    {
     "name": "stderr",
     "output_type": "stream",
     "text": [
      " 64%|██████▍   | 64/100 [00:13<00:08,  4.38it/s]"
     ]
    },
    {
     "name": "stdout",
     "output_type": "stream",
     "text": [
      "Tree 64/100, NDCG: 0.3662\n"
     ]
    },
    {
     "name": "stderr",
     "output_type": "stream",
     "text": [
      " 66%|██████▌   | 66/100 [00:14<00:07,  4.38it/s]"
     ]
    },
    {
     "name": "stdout",
     "output_type": "stream",
     "text": [
      "Tree 65/100, NDCG: 0.3571\n",
      "Tree 66/100, NDCG: 0.3726\n"
     ]
    },
    {
     "name": "stderr",
     "output_type": "stream",
     "text": [
      " 67%|██████▋   | 67/100 [00:14<00:07,  4.52it/s]"
     ]
    },
    {
     "name": "stdout",
     "output_type": "stream",
     "text": [
      "Tree 67/100, NDCG: 0.3732\n"
     ]
    },
    {
     "name": "stderr",
     "output_type": "stream",
     "text": [
      " 69%|██████▉   | 69/100 [00:14<00:06,  4.88it/s]"
     ]
    },
    {
     "name": "stdout",
     "output_type": "stream",
     "text": [
      "Tree 68/100, NDCG: 0.3734\n",
      "Tree 69/100, NDCG: 0.3777\n"
     ]
    },
    {
     "name": "stderr",
     "output_type": "stream",
     "text": [
      " 70%|███████   | 70/100 [00:14<00:05,  5.15it/s]"
     ]
    },
    {
     "name": "stdout",
     "output_type": "stream",
     "text": [
      "Tree 70/100, NDCG: 0.3804\n"
     ]
    },
    {
     "name": "stderr",
     "output_type": "stream",
     "text": [
      " 72%|███████▏  | 72/100 [00:15<00:05,  5.20it/s]"
     ]
    },
    {
     "name": "stdout",
     "output_type": "stream",
     "text": [
      "Tree 71/100, NDCG: 0.3820\n",
      "Tree 72/100, NDCG: 0.3797\n"
     ]
    },
    {
     "name": "stderr",
     "output_type": "stream",
     "text": [
      " 73%|███████▎  | 73/100 [00:15<00:05,  5.17it/s]"
     ]
    },
    {
     "name": "stdout",
     "output_type": "stream",
     "text": [
      "Tree 73/100, NDCG: 0.3810\n"
     ]
    },
    {
     "name": "stderr",
     "output_type": "stream",
     "text": [
      " 75%|███████▌  | 75/100 [00:17<00:17,  1.43it/s]"
     ]
    },
    {
     "name": "stdout",
     "output_type": "stream",
     "text": [
      "Tree 74/100, NDCG: 0.3778\n",
      "Tree 75/100, NDCG: 0.3783\n"
     ]
    },
    {
     "name": "stderr",
     "output_type": "stream",
     "text": [
      " 76%|███████▌  | 76/100 [00:17<00:12,  1.88it/s]"
     ]
    },
    {
     "name": "stdout",
     "output_type": "stream",
     "text": [
      "Tree 76/100, NDCG: 0.3784\n"
     ]
    },
    {
     "name": "stderr",
     "output_type": "stream",
     "text": [
      " 78%|███████▊  | 78/100 [00:18<00:07,  2.76it/s]"
     ]
    },
    {
     "name": "stdout",
     "output_type": "stream",
     "text": [
      "Tree 77/100, NDCG: 0.3811\n",
      "Tree 78/100, NDCG: 0.3792\n"
     ]
    },
    {
     "name": "stderr",
     "output_type": "stream",
     "text": [
      " 79%|███████▉  | 79/100 [00:18<00:06,  3.32it/s]"
     ]
    },
    {
     "name": "stdout",
     "output_type": "stream",
     "text": [
      "Tree 79/100, NDCG: 0.3811\n"
     ]
    },
    {
     "name": "stderr",
     "output_type": "stream",
     "text": [
      " 80%|████████  | 80/100 [00:18<00:05,  3.63it/s]"
     ]
    },
    {
     "name": "stdout",
     "output_type": "stream",
     "text": [
      "Tree 80/100, NDCG: 0.3817\n"
     ]
    },
    {
     "name": "stderr",
     "output_type": "stream",
     "text": [
      " 81%|████████  | 81/100 [00:18<00:05,  3.64it/s]"
     ]
    },
    {
     "name": "stdout",
     "output_type": "stream",
     "text": [
      "Tree 81/100, NDCG: 0.3859\n"
     ]
    },
    {
     "name": "stderr",
     "output_type": "stream",
     "text": [
      " 82%|████████▏ | 82/100 [00:19<00:04,  3.72it/s]"
     ]
    },
    {
     "name": "stdout",
     "output_type": "stream",
     "text": [
      "Tree 82/100, NDCG: 0.3875\n"
     ]
    },
    {
     "name": "stderr",
     "output_type": "stream",
     "text": [
      " 83%|████████▎ | 83/100 [00:19<00:04,  3.77it/s]"
     ]
    },
    {
     "name": "stdout",
     "output_type": "stream",
     "text": [
      "Tree 83/100, NDCG: 0.3840\n"
     ]
    },
    {
     "name": "stderr",
     "output_type": "stream",
     "text": [
      " 84%|████████▍ | 84/100 [00:19<00:04,  3.48it/s]"
     ]
    },
    {
     "name": "stdout",
     "output_type": "stream",
     "text": [
      "Tree 84/100, NDCG: 0.3835\n"
     ]
    },
    {
     "name": "stderr",
     "output_type": "stream",
     "text": [
      " 85%|████████▌ | 85/100 [00:19<00:04,  3.47it/s]"
     ]
    },
    {
     "name": "stdout",
     "output_type": "stream",
     "text": [
      "Tree 85/100, NDCG: 0.3817\n"
     ]
    },
    {
     "name": "stderr",
     "output_type": "stream",
     "text": [
      " 86%|████████▌ | 86/100 [00:20<00:05,  2.38it/s]"
     ]
    },
    {
     "name": "stdout",
     "output_type": "stream",
     "text": [
      "Tree 86/100, NDCG: 0.3806\n"
     ]
    },
    {
     "name": "stderr",
     "output_type": "stream",
     "text": [
      " 87%|████████▋ | 87/100 [00:20<00:05,  2.60it/s]"
     ]
    },
    {
     "name": "stdout",
     "output_type": "stream",
     "text": [
      "Tree 87/100, NDCG: 0.3823\n"
     ]
    },
    {
     "name": "stderr",
     "output_type": "stream",
     "text": [
      " 88%|████████▊ | 88/100 [00:21<00:05,  2.22it/s]"
     ]
    },
    {
     "name": "stdout",
     "output_type": "stream",
     "text": [
      "Tree 88/100, NDCG: 0.3866\n"
     ]
    },
    {
     "name": "stderr",
     "output_type": "stream",
     "text": [
      " 89%|████████▉ | 89/100 [00:21<00:04,  2.24it/s]"
     ]
    },
    {
     "name": "stdout",
     "output_type": "stream",
     "text": [
      "Tree 89/100, NDCG: 0.3839\n"
     ]
    },
    {
     "name": "stderr",
     "output_type": "stream",
     "text": [
      " 90%|█████████ | 90/100 [00:22<00:04,  2.34it/s]"
     ]
    },
    {
     "name": "stdout",
     "output_type": "stream",
     "text": [
      "Tree 90/100, NDCG: 0.3840\n"
     ]
    },
    {
     "name": "stderr",
     "output_type": "stream",
     "text": [
      " 91%|█████████ | 91/100 [00:22<00:04,  2.09it/s]"
     ]
    },
    {
     "name": "stdout",
     "output_type": "stream",
     "text": [
      "Tree 91/100, NDCG: 0.3863\n"
     ]
    },
    {
     "name": "stderr",
     "output_type": "stream",
     "text": [
      " 92%|█████████▏| 92/100 [00:23<00:03,  2.47it/s]"
     ]
    },
    {
     "name": "stdout",
     "output_type": "stream",
     "text": [
      "Tree 92/100, NDCG: 0.3846\n"
     ]
    },
    {
     "name": "stderr",
     "output_type": "stream",
     "text": [
      " 93%|█████████▎| 93/100 [00:23<00:03,  2.16it/s]"
     ]
    },
    {
     "name": "stdout",
     "output_type": "stream",
     "text": [
      "Tree 93/100, NDCG: 0.3811\n"
     ]
    },
    {
     "name": "stderr",
     "output_type": "stream",
     "text": [
      " 95%|█████████▌| 95/100 [00:24<00:01,  2.99it/s]"
     ]
    },
    {
     "name": "stdout",
     "output_type": "stream",
     "text": [
      "Tree 94/100, NDCG: 0.3807\n",
      "Tree 95/100, NDCG: 0.3810\n"
     ]
    },
    {
     "name": "stderr",
     "output_type": "stream",
     "text": [
      " 97%|█████████▋| 97/100 [00:24<00:00,  3.85it/s]"
     ]
    },
    {
     "name": "stdout",
     "output_type": "stream",
     "text": [
      "Tree 96/100, NDCG: 0.3852\n",
      "Tree 97/100, NDCG: 0.3864\n"
     ]
    },
    {
     "name": "stderr",
     "output_type": "stream",
     "text": [
      " 98%|█████████▊| 98/100 [00:25<00:00,  3.16it/s]"
     ]
    },
    {
     "name": "stdout",
     "output_type": "stream",
     "text": [
      "Tree 98/100, NDCG: 0.3850\n"
     ]
    },
    {
     "name": "stderr",
     "output_type": "stream",
     "text": [
      " 99%|█████████▉| 99/100 [00:25<00:00,  2.15it/s]"
     ]
    },
    {
     "name": "stdout",
     "output_type": "stream",
     "text": [
      "Tree 99/100, NDCG: 0.3881\n"
     ]
    },
    {
     "name": "stderr",
     "output_type": "stream",
     "text": [
      "100%|██████████| 100/100 [00:26<00:00,  3.83it/s]"
     ]
    },
    {
     "name": "stdout",
     "output_type": "stream",
     "text": [
      "Tree 100/100, NDCG: 0.3897\n",
      "Finish Training\n",
      "Start Predict\n"
     ]
    },
    {
     "name": "stderr",
     "output_type": "stream",
     "text": [
      "\n",
      "100it [00:00, 325.41it/s]"
     ]
    },
    {
     "name": "stdout",
     "output_type": "stream",
     "text": [
      "0.3897\n",
      "Finish Predict\n"
     ]
    },
    {
     "name": "stderr",
     "output_type": "stream",
     "text": [
      "\n"
     ]
    }
   ],
   "source": [
    "from my_solution import Solution\n",
    "from utils import ModelTrainer\n",
    "from params import PATH_TO_MODEL, PARAM_GRID\n",
    "# from ranking.task4.params import PATH_TO_MODEL, PARAM_GRID, PARAMS\n",
    "# from ranking.task4.utils import ModelTrainer\n",
    "\n",
    "\n",
    "if __name__ == '__main__':\n",
    "    print('Start Training')\n",
    "    trainer = ModelTrainer(PATH_TO_MODEL, None, PARAM_GRID, num_it=5)\n",
    "    trainer.train()\n",
    "    print('Finish Training')\n",
    "\n",
    "    print('Start Predict')\n",
    "    estimator = Solution()\n",
    "    estimator.load_model(PATH_TO_MODEL)\n",
    "    y_pred = estimator.predict(estimator.X_test)\n",
    "    ndcg = estimator._calc_data_ndcg(estimator.query_ids_test, estimator.ys_test, y_pred)\n",
    "    print(round(ndcg, 5))\n",
    "    print('Finish Predict')"
   ]
  },
  {
   "cell_type": "code",
   "execution_count": null,
   "metadata": {},
   "outputs": [
    {
     "name": "stderr",
     "output_type": "stream",
     "text": [
      "  1%|          | 1/100 [00:00<00:57,  1.72it/s]"
     ]
    },
    {
     "name": "stdout",
     "output_type": "stream",
     "text": [
      "Tree 1/100, NDCG: 0.2399\n"
     ]
    },
    {
     "name": "stderr",
     "output_type": "stream",
     "text": [
      "  2%|▏         | 2/100 [00:01<00:53,  1.83it/s]"
     ]
    },
    {
     "name": "stdout",
     "output_type": "stream",
     "text": [
      "Tree 2/100, NDCG: 0.2931\n"
     ]
    },
    {
     "name": "stderr",
     "output_type": "stream",
     "text": [
      "  3%|▎         | 3/100 [00:01<00:57,  1.70it/s]"
     ]
    },
    {
     "name": "stdout",
     "output_type": "stream",
     "text": [
      "Tree 3/100, NDCG: 0.3580\n"
     ]
    },
    {
     "name": "stderr",
     "output_type": "stream",
     "text": [
      "  4%|▍         | 4/100 [00:02<00:58,  1.63it/s]"
     ]
    },
    {
     "name": "stdout",
     "output_type": "stream",
     "text": [
      "Tree 4/100, NDCG: 0.3805\n"
     ]
    },
    {
     "name": "stderr",
     "output_type": "stream",
     "text": [
      "  5%|▌         | 5/100 [00:02<00:54,  1.74it/s]"
     ]
    },
    {
     "name": "stdout",
     "output_type": "stream",
     "text": [
      "Tree 5/100, NDCG: 0.3610\n"
     ]
    },
    {
     "name": "stderr",
     "output_type": "stream",
     "text": [
      "  6%|▌         | 6/100 [00:03<00:55,  1.70it/s]"
     ]
    },
    {
     "name": "stdout",
     "output_type": "stream",
     "text": [
      "Tree 6/100, NDCG: 0.3791\n"
     ]
    },
    {
     "name": "stderr",
     "output_type": "stream",
     "text": [
      "  7%|▋         | 7/100 [00:04<00:54,  1.71it/s]"
     ]
    },
    {
     "name": "stdout",
     "output_type": "stream",
     "text": [
      "Tree 7/100, NDCG: 0.3880\n"
     ]
    },
    {
     "name": "stderr",
     "output_type": "stream",
     "text": [
      "  8%|▊         | 8/100 [00:04<00:54,  1.68it/s]"
     ]
    },
    {
     "name": "stdout",
     "output_type": "stream",
     "text": [
      "Tree 8/100, NDCG: 0.3986\n"
     ]
    },
    {
     "name": "stderr",
     "output_type": "stream",
     "text": [
      "  9%|▉         | 9/100 [00:05<00:55,  1.65it/s]"
     ]
    },
    {
     "name": "stdout",
     "output_type": "stream",
     "text": [
      "Tree 9/100, NDCG: 0.3882\n"
     ]
    },
    {
     "name": "stderr",
     "output_type": "stream",
     "text": [
      " 10%|█         | 10/100 [00:05<00:53,  1.68it/s]"
     ]
    },
    {
     "name": "stdout",
     "output_type": "stream",
     "text": [
      "Tree 10/100, NDCG: 0.3881\n"
     ]
    },
    {
     "name": "stderr",
     "output_type": "stream",
     "text": [
      " 11%|█         | 11/100 [00:06<00:52,  1.71it/s]"
     ]
    },
    {
     "name": "stdout",
     "output_type": "stream",
     "text": [
      "Tree 11/100, NDCG: 0.3985\n"
     ]
    },
    {
     "name": "stderr",
     "output_type": "stream",
     "text": [
      " 12%|█▏        | 12/100 [00:07<00:52,  1.69it/s]"
     ]
    },
    {
     "name": "stdout",
     "output_type": "stream",
     "text": [
      "Tree 12/100, NDCG: 0.3934\n"
     ]
    },
    {
     "name": "stderr",
     "output_type": "stream",
     "text": [
      " 13%|█▎        | 13/100 [00:07<00:50,  1.73it/s]"
     ]
    },
    {
     "name": "stdout",
     "output_type": "stream",
     "text": [
      "Tree 13/100, NDCG: 0.3987\n"
     ]
    },
    {
     "name": "stderr",
     "output_type": "stream",
     "text": [
      " 14%|█▍        | 14/100 [00:08<00:50,  1.70it/s]"
     ]
    },
    {
     "name": "stdout",
     "output_type": "stream",
     "text": [
      "Tree 14/100, NDCG: 0.4088\n"
     ]
    },
    {
     "name": "stderr",
     "output_type": "stream",
     "text": [
      " 15%|█▌        | 15/100 [00:08<00:49,  1.73it/s]"
     ]
    },
    {
     "name": "stdout",
     "output_type": "stream",
     "text": [
      "Tree 15/100, NDCG: 0.4018\n"
     ]
    },
    {
     "name": "stderr",
     "output_type": "stream",
     "text": [
      " 16%|█▌        | 16/100 [00:09<00:48,  1.74it/s]"
     ]
    },
    {
     "name": "stdout",
     "output_type": "stream",
     "text": [
      "Tree 16/100, NDCG: 0.4028\n"
     ]
    },
    {
     "name": "stderr",
     "output_type": "stream",
     "text": [
      " 17%|█▋        | 17/100 [00:09<00:46,  1.80it/s]"
     ]
    },
    {
     "name": "stdout",
     "output_type": "stream",
     "text": [
      "Tree 17/100, NDCG: 0.4011\n"
     ]
    },
    {
     "name": "stderr",
     "output_type": "stream",
     "text": [
      " 18%|█▊        | 18/100 [00:10<00:46,  1.77it/s]"
     ]
    },
    {
     "name": "stdout",
     "output_type": "stream",
     "text": [
      "Tree 18/100, NDCG: 0.4071\n"
     ]
    },
    {
     "name": "stderr",
     "output_type": "stream",
     "text": [
      " 19%|█▉        | 19/100 [00:11<00:47,  1.70it/s]"
     ]
    },
    {
     "name": "stdout",
     "output_type": "stream",
     "text": [
      "Tree 19/100, NDCG: 0.4075\n"
     ]
    },
    {
     "name": "stderr",
     "output_type": "stream",
     "text": [
      " 20%|██        | 20/100 [00:11<00:47,  1.69it/s]"
     ]
    },
    {
     "name": "stdout",
     "output_type": "stream",
     "text": [
      "Tree 20/100, NDCG: 0.4048\n"
     ]
    },
    {
     "name": "stderr",
     "output_type": "stream",
     "text": [
      " 21%|██        | 21/100 [00:12<00:46,  1.70it/s]"
     ]
    },
    {
     "name": "stdout",
     "output_type": "stream",
     "text": [
      "Tree 21/100, NDCG: 0.4035\n"
     ]
    },
    {
     "name": "stderr",
     "output_type": "stream",
     "text": [
      " 22%|██▏       | 22/100 [00:12<00:45,  1.71it/s]"
     ]
    },
    {
     "name": "stdout",
     "output_type": "stream",
     "text": [
      "Tree 22/100, NDCG: 0.4018\n"
     ]
    },
    {
     "name": "stderr",
     "output_type": "stream",
     "text": [
      " 23%|██▎       | 23/100 [00:13<00:44,  1.72it/s]"
     ]
    },
    {
     "name": "stdout",
     "output_type": "stream",
     "text": [
      "Tree 23/100, NDCG: 0.3998\n"
     ]
    },
    {
     "name": "stderr",
     "output_type": "stream",
     "text": [
      " 24%|██▍       | 24/100 [00:14<00:45,  1.68it/s]"
     ]
    },
    {
     "name": "stdout",
     "output_type": "stream",
     "text": [
      "Tree 24/100, NDCG: 0.4024\n"
     ]
    },
    {
     "name": "stderr",
     "output_type": "stream",
     "text": [
      " 25%|██▌       | 25/100 [00:14<00:46,  1.63it/s]"
     ]
    },
    {
     "name": "stdout",
     "output_type": "stream",
     "text": [
      "Tree 25/100, NDCG: 0.4030\n"
     ]
    },
    {
     "name": "stderr",
     "output_type": "stream",
     "text": [
      " 26%|██▌       | 26/100 [00:15<00:45,  1.64it/s]"
     ]
    },
    {
     "name": "stdout",
     "output_type": "stream",
     "text": [
      "Tree 26/100, NDCG: 0.4076\n"
     ]
    },
    {
     "name": "stderr",
     "output_type": "stream",
     "text": [
      " 27%|██▋       | 27/100 [00:16<00:46,  1.58it/s]"
     ]
    },
    {
     "name": "stdout",
     "output_type": "stream",
     "text": [
      "Tree 27/100, NDCG: 0.4059\n"
     ]
    },
    {
     "name": "stderr",
     "output_type": "stream",
     "text": [
      " 28%|██▊       | 28/100 [00:16<00:48,  1.50it/s]"
     ]
    },
    {
     "name": "stdout",
     "output_type": "stream",
     "text": [
      "Tree 28/100, NDCG: 0.4065\n"
     ]
    },
    {
     "name": "stderr",
     "output_type": "stream",
     "text": [
      " 29%|██▉       | 29/100 [00:17<00:45,  1.55it/s]"
     ]
    },
    {
     "name": "stdout",
     "output_type": "stream",
     "text": [
      "Tree 29/100, NDCG: 0.4101\n"
     ]
    },
    {
     "name": "stderr",
     "output_type": "stream",
     "text": [
      " 30%|███       | 30/100 [00:17<00:43,  1.60it/s]"
     ]
    },
    {
     "name": "stdout",
     "output_type": "stream",
     "text": [
      "Tree 30/100, NDCG: 0.4051\n"
     ]
    },
    {
     "name": "stderr",
     "output_type": "stream",
     "text": [
      " 31%|███       | 31/100 [00:18<00:42,  1.64it/s]"
     ]
    },
    {
     "name": "stdout",
     "output_type": "stream",
     "text": [
      "Tree 31/100, NDCG: 0.4035\n"
     ]
    },
    {
     "name": "stderr",
     "output_type": "stream",
     "text": [
      " 32%|███▏      | 32/100 [00:19<00:40,  1.68it/s]"
     ]
    },
    {
     "name": "stdout",
     "output_type": "stream",
     "text": [
      "Tree 32/100, NDCG: 0.4066\n"
     ]
    },
    {
     "name": "stderr",
     "output_type": "stream",
     "text": [
      " 33%|███▎      | 33/100 [00:19<00:39,  1.69it/s]"
     ]
    },
    {
     "name": "stdout",
     "output_type": "stream",
     "text": [
      "Tree 33/100, NDCG: 0.4026\n"
     ]
    },
    {
     "name": "stderr",
     "output_type": "stream",
     "text": [
      " 34%|███▍      | 34/100 [00:20<00:40,  1.63it/s]"
     ]
    },
    {
     "name": "stdout",
     "output_type": "stream",
     "text": [
      "Tree 34/100, NDCG: 0.4072\n"
     ]
    },
    {
     "name": "stderr",
     "output_type": "stream",
     "text": [
      " 35%|███▌      | 35/100 [00:20<00:39,  1.63it/s]"
     ]
    },
    {
     "name": "stdout",
     "output_type": "stream",
     "text": [
      "Tree 35/100, NDCG: 0.4061\n"
     ]
    },
    {
     "name": "stderr",
     "output_type": "stream",
     "text": [
      " 36%|███▌      | 36/100 [00:23<01:09,  1.08s/it]"
     ]
    },
    {
     "name": "stdout",
     "output_type": "stream",
     "text": [
      "Tree 36/100, NDCG: 0.4064\n"
     ]
    },
    {
     "name": "stderr",
     "output_type": "stream",
     "text": [
      " 37%|███▋      | 37/100 [00:23<00:59,  1.05it/s]"
     ]
    },
    {
     "name": "stdout",
     "output_type": "stream",
     "text": [
      "Tree 37/100, NDCG: 0.4021\n"
     ]
    },
    {
     "name": "stderr",
     "output_type": "stream",
     "text": [
      " 38%|███▊      | 38/100 [00:24<00:51,  1.21it/s]"
     ]
    },
    {
     "name": "stdout",
     "output_type": "stream",
     "text": [
      "Tree 38/100, NDCG: 0.4039\n"
     ]
    },
    {
     "name": "stderr",
     "output_type": "stream",
     "text": [
      " 39%|███▉      | 39/100 [00:24<00:46,  1.32it/s]"
     ]
    },
    {
     "name": "stdout",
     "output_type": "stream",
     "text": [
      "Tree 39/100, NDCG: 0.4070\n"
     ]
    },
    {
     "name": "stderr",
     "output_type": "stream",
     "text": [
      " 40%|████      | 40/100 [00:25<00:42,  1.41it/s]"
     ]
    },
    {
     "name": "stdout",
     "output_type": "stream",
     "text": [
      "Tree 40/100, NDCG: 0.4064\n"
     ]
    },
    {
     "name": "stderr",
     "output_type": "stream",
     "text": [
      " 41%|████      | 41/100 [00:26<00:38,  1.52it/s]"
     ]
    },
    {
     "name": "stdout",
     "output_type": "stream",
     "text": [
      "Tree 41/100, NDCG: 0.4100\n"
     ]
    },
    {
     "name": "stderr",
     "output_type": "stream",
     "text": [
      " 42%|████▏     | 42/100 [00:26<00:36,  1.58it/s]"
     ]
    },
    {
     "name": "stdout",
     "output_type": "stream",
     "text": [
      "Tree 42/100, NDCG: 0.4111\n"
     ]
    },
    {
     "name": "stderr",
     "output_type": "stream",
     "text": [
      " 43%|████▎     | 43/100 [00:27<00:35,  1.59it/s]"
     ]
    },
    {
     "name": "stdout",
     "output_type": "stream",
     "text": [
      "Tree 43/100, NDCG: 0.4090\n"
     ]
    },
    {
     "name": "stderr",
     "output_type": "stream",
     "text": [
      " 44%|████▍     | 44/100 [00:27<00:35,  1.59it/s]"
     ]
    },
    {
     "name": "stdout",
     "output_type": "stream",
     "text": [
      "Tree 44/100, NDCG: 0.4098\n"
     ]
    },
    {
     "name": "stderr",
     "output_type": "stream",
     "text": [
      " 45%|████▌     | 45/100 [00:28<00:34,  1.61it/s]"
     ]
    },
    {
     "name": "stdout",
     "output_type": "stream",
     "text": [
      "Tree 45/100, NDCG: 0.4118\n"
     ]
    },
    {
     "name": "stderr",
     "output_type": "stream",
     "text": [
      " 46%|████▌     | 46/100 [00:28<00:31,  1.70it/s]"
     ]
    },
    {
     "name": "stdout",
     "output_type": "stream",
     "text": [
      "Tree 46/100, NDCG: 0.4110\n"
     ]
    },
    {
     "name": "stderr",
     "output_type": "stream",
     "text": [
      " 47%|████▋     | 47/100 [00:29<00:30,  1.75it/s]"
     ]
    },
    {
     "name": "stdout",
     "output_type": "stream",
     "text": [
      "Tree 47/100, NDCG: 0.4102\n"
     ]
    },
    {
     "name": "stderr",
     "output_type": "stream",
     "text": [
      " 48%|████▊     | 48/100 [00:30<00:28,  1.80it/s]"
     ]
    },
    {
     "name": "stdout",
     "output_type": "stream",
     "text": [
      "Tree 48/100, NDCG: 0.4107\n"
     ]
    },
    {
     "name": "stderr",
     "output_type": "stream",
     "text": [
      " 49%|████▉     | 49/100 [00:30<00:31,  1.61it/s]"
     ]
    },
    {
     "name": "stdout",
     "output_type": "stream",
     "text": [
      "Tree 49/100, NDCG: 0.4138\n"
     ]
    },
    {
     "name": "stderr",
     "output_type": "stream",
     "text": [
      " 50%|█████     | 50/100 [00:31<00:30,  1.66it/s]"
     ]
    },
    {
     "name": "stdout",
     "output_type": "stream",
     "text": [
      "Tree 50/100, NDCG: 0.4132\n"
     ]
    },
    {
     "name": "stderr",
     "output_type": "stream",
     "text": [
      " 51%|█████     | 51/100 [00:32<00:31,  1.57it/s]"
     ]
    },
    {
     "name": "stdout",
     "output_type": "stream",
     "text": [
      "Tree 51/100, NDCG: 0.4134\n"
     ]
    },
    {
     "name": "stderr",
     "output_type": "stream",
     "text": [
      " 52%|█████▏    | 52/100 [00:32<00:29,  1.61it/s]"
     ]
    },
    {
     "name": "stdout",
     "output_type": "stream",
     "text": [
      "Tree 52/100, NDCG: 0.4108\n"
     ]
    },
    {
     "name": "stderr",
     "output_type": "stream",
     "text": [
      " 53%|█████▎    | 53/100 [00:33<00:30,  1.56it/s]"
     ]
    },
    {
     "name": "stdout",
     "output_type": "stream",
     "text": [
      "Tree 53/100, NDCG: 0.4088\n"
     ]
    },
    {
     "name": "stderr",
     "output_type": "stream",
     "text": [
      " 54%|█████▍    | 54/100 [00:33<00:29,  1.57it/s]"
     ]
    },
    {
     "name": "stdout",
     "output_type": "stream",
     "text": [
      "Tree 54/100, NDCG: 0.4087\n"
     ]
    },
    {
     "name": "stderr",
     "output_type": "stream",
     "text": [
      " 55%|█████▌    | 55/100 [00:34<00:27,  1.63it/s]"
     ]
    },
    {
     "name": "stdout",
     "output_type": "stream",
     "text": [
      "Tree 55/100, NDCG: 0.4083\n"
     ]
    },
    {
     "name": "stderr",
     "output_type": "stream",
     "text": [
      " 56%|█████▌    | 56/100 [00:35<00:26,  1.67it/s]"
     ]
    },
    {
     "name": "stdout",
     "output_type": "stream",
     "text": [
      "Tree 56/100, NDCG: 0.4072\n"
     ]
    },
    {
     "name": "stderr",
     "output_type": "stream",
     "text": [
      " 57%|█████▋    | 57/100 [00:35<00:25,  1.70it/s]"
     ]
    },
    {
     "name": "stdout",
     "output_type": "stream",
     "text": [
      "Tree 57/100, NDCG: 0.4091\n"
     ]
    },
    {
     "name": "stderr",
     "output_type": "stream",
     "text": [
      " 58%|█████▊    | 58/100 [00:36<00:25,  1.68it/s]"
     ]
    },
    {
     "name": "stdout",
     "output_type": "stream",
     "text": [
      "Tree 58/100, NDCG: 0.4112\n"
     ]
    },
    {
     "name": "stderr",
     "output_type": "stream",
     "text": [
      " 59%|█████▉    | 59/100 [00:36<00:23,  1.72it/s]"
     ]
    },
    {
     "name": "stdout",
     "output_type": "stream",
     "text": [
      "Tree 59/100, NDCG: 0.4156\n"
     ]
    },
    {
     "name": "stderr",
     "output_type": "stream",
     "text": [
      " 60%|██████    | 60/100 [00:37<00:21,  1.82it/s]"
     ]
    },
    {
     "name": "stdout",
     "output_type": "stream",
     "text": [
      "Tree 60/100, NDCG: 0.4117\n"
     ]
    },
    {
     "name": "stderr",
     "output_type": "stream",
     "text": [
      " 61%|██████    | 61/100 [00:37<00:22,  1.75it/s]"
     ]
    },
    {
     "name": "stdout",
     "output_type": "stream",
     "text": [
      "Tree 61/100, NDCG: 0.4126\n"
     ]
    },
    {
     "name": "stderr",
     "output_type": "stream",
     "text": [
      " 62%|██████▏   | 62/100 [00:38<00:24,  1.56it/s]"
     ]
    },
    {
     "name": "stdout",
     "output_type": "stream",
     "text": [
      "Tree 62/100, NDCG: 0.4082\n"
     ]
    },
    {
     "name": "stderr",
     "output_type": "stream",
     "text": [
      " 63%|██████▎   | 63/100 [00:39<00:22,  1.63it/s]"
     ]
    },
    {
     "name": "stdout",
     "output_type": "stream",
     "text": [
      "Tree 63/100, NDCG: 0.4108\n"
     ]
    },
    {
     "name": "stderr",
     "output_type": "stream",
     "text": [
      " 64%|██████▍   | 64/100 [00:39<00:22,  1.62it/s]"
     ]
    },
    {
     "name": "stdout",
     "output_type": "stream",
     "text": [
      "Tree 64/100, NDCG: 0.4107\n"
     ]
    },
    {
     "name": "stderr",
     "output_type": "stream",
     "text": [
      " 65%|██████▌   | 65/100 [00:40<00:22,  1.57it/s]"
     ]
    },
    {
     "name": "stdout",
     "output_type": "stream",
     "text": [
      "Tree 65/100, NDCG: 0.4108\n"
     ]
    },
    {
     "name": "stderr",
     "output_type": "stream",
     "text": [
      " 66%|██████▌   | 66/100 [00:41<00:20,  1.65it/s]"
     ]
    },
    {
     "name": "stdout",
     "output_type": "stream",
     "text": [
      "Tree 66/100, NDCG: 0.4124\n"
     ]
    },
    {
     "name": "stderr",
     "output_type": "stream",
     "text": [
      " 67%|██████▋   | 67/100 [00:41<00:19,  1.72it/s]"
     ]
    },
    {
     "name": "stdout",
     "output_type": "stream",
     "text": [
      "Tree 67/100, NDCG: 0.4133\n"
     ]
    },
    {
     "name": "stderr",
     "output_type": "stream",
     "text": [
      " 68%|██████▊   | 68/100 [00:42<00:21,  1.50it/s]"
     ]
    },
    {
     "name": "stdout",
     "output_type": "stream",
     "text": [
      "Tree 68/100, NDCG: 0.4136\n"
     ]
    },
    {
     "name": "stderr",
     "output_type": "stream",
     "text": [
      " 69%|██████▉   | 69/100 [00:43<00:20,  1.55it/s]"
     ]
    },
    {
     "name": "stdout",
     "output_type": "stream",
     "text": [
      "Tree 69/100, NDCG: 0.4171\n"
     ]
    },
    {
     "name": "stderr",
     "output_type": "stream",
     "text": [
      " 70%|███████   | 70/100 [00:43<00:17,  1.70it/s]"
     ]
    },
    {
     "name": "stdout",
     "output_type": "stream",
     "text": [
      "Tree 70/100, NDCG: 0.4159\n"
     ]
    },
    {
     "name": "stderr",
     "output_type": "stream",
     "text": [
      " 71%|███████   | 71/100 [00:44<00:17,  1.67it/s]"
     ]
    },
    {
     "name": "stdout",
     "output_type": "stream",
     "text": [
      "Tree 71/100, NDCG: 0.4193\n"
     ]
    },
    {
     "name": "stderr",
     "output_type": "stream",
     "text": [
      " 72%|███████▏  | 72/100 [00:44<00:16,  1.67it/s]"
     ]
    },
    {
     "name": "stdout",
     "output_type": "stream",
     "text": [
      "Tree 72/100, NDCG: 0.4156\n"
     ]
    },
    {
     "name": "stderr",
     "output_type": "stream",
     "text": [
      " 73%|███████▎  | 73/100 [00:45<00:15,  1.72it/s]"
     ]
    },
    {
     "name": "stdout",
     "output_type": "stream",
     "text": [
      "Tree 73/100, NDCG: 0.4183\n"
     ]
    },
    {
     "name": "stderr",
     "output_type": "stream",
     "text": [
      " 74%|███████▍  | 74/100 [00:45<00:14,  1.74it/s]"
     ]
    },
    {
     "name": "stdout",
     "output_type": "stream",
     "text": [
      "Tree 74/100, NDCG: 0.4203\n"
     ]
    },
    {
     "name": "stderr",
     "output_type": "stream",
     "text": [
      " 75%|███████▌  | 75/100 [00:46<00:14,  1.75it/s]"
     ]
    },
    {
     "name": "stdout",
     "output_type": "stream",
     "text": [
      "Tree 75/100, NDCG: 0.4183\n"
     ]
    },
    {
     "name": "stderr",
     "output_type": "stream",
     "text": [
      " 76%|███████▌  | 76/100 [00:47<00:13,  1.72it/s]"
     ]
    },
    {
     "name": "stdout",
     "output_type": "stream",
     "text": [
      "Tree 76/100, NDCG: 0.4183\n"
     ]
    },
    {
     "name": "stderr",
     "output_type": "stream",
     "text": [
      " 77%|███████▋  | 77/100 [00:47<00:13,  1.68it/s]"
     ]
    },
    {
     "name": "stdout",
     "output_type": "stream",
     "text": [
      "Tree 77/100, NDCG: 0.4169\n"
     ]
    },
    {
     "name": "stderr",
     "output_type": "stream",
     "text": [
      " 78%|███████▊  | 78/100 [00:48<00:13,  1.58it/s]"
     ]
    },
    {
     "name": "stdout",
     "output_type": "stream",
     "text": [
      "Tree 78/100, NDCG: 0.4159\n"
     ]
    },
    {
     "name": "stderr",
     "output_type": "stream",
     "text": [
      " 79%|███████▉  | 79/100 [00:48<00:12,  1.62it/s]"
     ]
    },
    {
     "name": "stdout",
     "output_type": "stream",
     "text": [
      "Tree 79/100, NDCG: 0.4164\n"
     ]
    },
    {
     "name": "stderr",
     "output_type": "stream",
     "text": [
      " 80%|████████  | 80/100 [00:49<00:13,  1.46it/s]"
     ]
    },
    {
     "name": "stdout",
     "output_type": "stream",
     "text": [
      "Tree 80/100, NDCG: 0.4176\n"
     ]
    },
    {
     "name": "stderr",
     "output_type": "stream",
     "text": [
      " 81%|████████  | 81/100 [00:50<00:11,  1.62it/s]"
     ]
    },
    {
     "name": "stdout",
     "output_type": "stream",
     "text": [
      "Tree 81/100, NDCG: 0.4202\n"
     ]
    },
    {
     "name": "stderr",
     "output_type": "stream",
     "text": [
      " 82%|████████▏ | 82/100 [00:50<00:10,  1.73it/s]"
     ]
    },
    {
     "name": "stdout",
     "output_type": "stream",
     "text": [
      "Tree 82/100, NDCG: 0.4198\n"
     ]
    },
    {
     "name": "stderr",
     "output_type": "stream",
     "text": [
      " 83%|████████▎ | 83/100 [00:51<00:10,  1.68it/s]"
     ]
    },
    {
     "name": "stdout",
     "output_type": "stream",
     "text": [
      "Tree 83/100, NDCG: 0.4169\n"
     ]
    },
    {
     "name": "stderr",
     "output_type": "stream",
     "text": [
      " 84%|████████▍ | 84/100 [00:52<00:10,  1.50it/s]"
     ]
    },
    {
     "name": "stdout",
     "output_type": "stream",
     "text": [
      "Tree 84/100, NDCG: 0.4167\n"
     ]
    },
    {
     "name": "stderr",
     "output_type": "stream",
     "text": [
      " 85%|████████▌ | 85/100 [00:52<00:09,  1.56it/s]"
     ]
    },
    {
     "name": "stdout",
     "output_type": "stream",
     "text": [
      "Tree 85/100, NDCG: 0.4184\n"
     ]
    },
    {
     "name": "stderr",
     "output_type": "stream",
     "text": [
      " 86%|████████▌ | 86/100 [00:53<00:08,  1.58it/s]"
     ]
    },
    {
     "name": "stdout",
     "output_type": "stream",
     "text": [
      "Tree 86/100, NDCG: 0.4175\n"
     ]
    },
    {
     "name": "stderr",
     "output_type": "stream",
     "text": [
      " 87%|████████▋ | 87/100 [00:54<00:08,  1.49it/s]"
     ]
    },
    {
     "name": "stdout",
     "output_type": "stream",
     "text": [
      "Tree 87/100, NDCG: 0.4163\n"
     ]
    },
    {
     "name": "stderr",
     "output_type": "stream",
     "text": [
      " 88%|████████▊ | 88/100 [00:54<00:07,  1.52it/s]"
     ]
    },
    {
     "name": "stdout",
     "output_type": "stream",
     "text": [
      "Tree 88/100, NDCG: 0.4182\n"
     ]
    },
    {
     "name": "stderr",
     "output_type": "stream",
     "text": [
      " 89%|████████▉ | 89/100 [00:56<00:12,  1.12s/it]"
     ]
    },
    {
     "name": "stdout",
     "output_type": "stream",
     "text": [
      "Tree 89/100, NDCG: 0.4169\n"
     ]
    },
    {
     "name": "stderr",
     "output_type": "stream",
     "text": [
      " 90%|█████████ | 90/100 [00:57<00:09,  1.04it/s]"
     ]
    },
    {
     "name": "stdout",
     "output_type": "stream",
     "text": [
      "Tree 90/100, NDCG: 0.4213\n"
     ]
    },
    {
     "name": "stderr",
     "output_type": "stream",
     "text": [
      " 91%|█████████ | 91/100 [00:58<00:08,  1.12it/s]"
     ]
    },
    {
     "name": "stdout",
     "output_type": "stream",
     "text": [
      "Tree 91/100, NDCG: 0.4146\n"
     ]
    },
    {
     "name": "stderr",
     "output_type": "stream",
     "text": [
      " 92%|█████████▏| 92/100 [00:58<00:06,  1.23it/s]"
     ]
    },
    {
     "name": "stdout",
     "output_type": "stream",
     "text": [
      "Tree 92/100, NDCG: 0.4189\n"
     ]
    },
    {
     "name": "stderr",
     "output_type": "stream",
     "text": [
      " 93%|█████████▎| 93/100 [00:59<00:05,  1.39it/s]"
     ]
    },
    {
     "name": "stdout",
     "output_type": "stream",
     "text": [
      "Tree 93/100, NDCG: 0.4213\n"
     ]
    },
    {
     "name": "stderr",
     "output_type": "stream",
     "text": [
      " 94%|█████████▍| 94/100 [00:59<00:03,  1.51it/s]"
     ]
    },
    {
     "name": "stdout",
     "output_type": "stream",
     "text": [
      "Tree 94/100, NDCG: 0.4212\n"
     ]
    },
    {
     "name": "stderr",
     "output_type": "stream",
     "text": [
      " 95%|█████████▌| 95/100 [01:00<00:03,  1.62it/s]"
     ]
    },
    {
     "name": "stdout",
     "output_type": "stream",
     "text": [
      "Tree 95/100, NDCG: 0.4148\n"
     ]
    },
    {
     "name": "stderr",
     "output_type": "stream",
     "text": [
      " 96%|█████████▌| 96/100 [01:01<00:02,  1.65it/s]"
     ]
    },
    {
     "name": "stdout",
     "output_type": "stream",
     "text": [
      "Tree 96/100, NDCG: 0.4164\n"
     ]
    },
    {
     "name": "stderr",
     "output_type": "stream",
     "text": [
      " 97%|█████████▋| 97/100 [01:01<00:01,  1.59it/s]"
     ]
    },
    {
     "name": "stdout",
     "output_type": "stream",
     "text": [
      "Tree 97/100, NDCG: 0.4190\n"
     ]
    },
    {
     "name": "stderr",
     "output_type": "stream",
     "text": [
      " 98%|█████████▊| 98/100 [01:02<00:01,  1.56it/s]"
     ]
    },
    {
     "name": "stdout",
     "output_type": "stream",
     "text": [
      "Tree 98/100, NDCG: 0.4193\n"
     ]
    },
    {
     "name": "stderr",
     "output_type": "stream",
     "text": [
      " 99%|█████████▉| 99/100 [01:02<00:00,  1.63it/s]"
     ]
    },
    {
     "name": "stdout",
     "output_type": "stream",
     "text": [
      "Tree 99/100, NDCG: 0.4180\n"
     ]
    },
    {
     "name": "stderr",
     "output_type": "stream",
     "text": [
      "100%|██████████| 100/100 [01:03<00:00,  1.58it/s]"
     ]
    },
    {
     "name": "stdout",
     "output_type": "stream",
     "text": [
      "Tree 100/100, NDCG: 0.4187\n"
     ]
    },
    {
     "name": "stderr",
     "output_type": "stream",
     "text": [
      "\n"
     ]
    }
   ],
   "source": [
    "from my_solution import Solution\n",
    "from params import PARAMS\n",
    "import torch\n",
    "\n",
    "s = Solution(\n",
    "    # **PARAMS\n",
    "    lr = 0.4,\n",
    "    max_depth = 15,\n",
    "    min_samples_leaf = 75,\n",
    "    subsample = 0.9,\n",
    "    colsample_bytree = 0.9,\n",
    ")\n",
    "s.fit()\n",
    "s.save_model(\"model.bin\")"
   ]
  },
  {
   "cell_type": "code",
   "execution_count": null,
   "metadata": {},
   "outputs": [],
   "source": []
  }
 ],
 "metadata": {
  "kernelspec": {
   "display_name": "kc",
   "language": "python",
   "name": "python3"
  },
  "language_info": {
   "codemirror_mode": {
    "name": "ipython",
    "version": 3
   },
   "file_extension": ".py",
   "mimetype": "text/x-python",
   "name": "python",
   "nbconvert_exporter": "python",
   "pygments_lexer": "ipython3",
   "version": "3.12.8"
  }
 },
 "nbformat": 4,
 "nbformat_minor": 2
}
