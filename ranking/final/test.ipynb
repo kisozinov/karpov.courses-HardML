{
 "cells": [
  {
   "cell_type": "code",
   "execution_count": 1,
   "metadata": {},
   "outputs": [],
   "source": [
    "import json\n",
    "import requests\n",
    "import pandas as pd\n",
    "from IPython.core.display import HTML"
   ]
  },
  {
   "cell_type": "code",
   "execution_count": 2,
   "metadata": {},
   "outputs": [
    {
     "name": "stdout",
     "output_type": "stream",
     "text": [
      "<class 'pandas.core.frame.DataFrame'>\n",
      "RangeIndex: 40430 entries, 0 to 40429\n",
      "Data columns (total 6 columns):\n",
      " #   Column        Non-Null Count  Dtype \n",
      "---  ------        --------------  ----- \n",
      " 0   id            40430 non-null  object\n",
      " 1   qid1          40430 non-null  object\n",
      " 2   qid2          40430 non-null  object\n",
      " 3   question1     40430 non-null  object\n",
      " 4   question2     40430 non-null  object\n",
      " 5   is_duplicate  40430 non-null  object\n",
      "dtypes: object(6)\n",
      "memory usage: 1.9+ MB\n"
     ]
    }
   ],
   "source": [
    "dev_df = pd.read_csv('/home/kisozinov/karpov_courses/ranking/ex5/data/QQP/dev.tsv',\n",
    "                     sep='\\t',\n",
    "                     error_bad_lines=False,\n",
    "                     dtype=object)\n",
    "dev_df.info()"
   ]
  },
  {
   "cell_type": "code",
   "execution_count": 7,
   "metadata": {},
   "outputs": [
    {
     "data": {
      "text/plain": [
       "id              40430\n",
       "qid1            40430\n",
       "qid2            40430\n",
       "question1       40430\n",
       "question2       40430\n",
       "is_duplicate    40430\n",
       "dtype: int64"
      ]
     },
     "execution_count": 7,
     "metadata": {},
     "output_type": "execute_result"
    }
   ],
   "source": [
    "dev_df.count()"
   ]
  },
  {
   "cell_type": "code",
   "execution_count": 18,
   "metadata": {},
   "outputs": [
    {
     "name": "stdout",
     "output_type": "stream",
     "text": [
      "{\"status\":\"ok\"}\n"
     ]
    }
   ],
   "source": [
    "!curl 'http://127.0.0.1:11000/ping'"
   ]
  },
  {
   "cell_type": "code",
   "execution_count": 19,
   "metadata": {},
   "outputs": [
    {
     "data": {
      "text/html": [
       "{\"index_size\":37741,\"status\":\"ok\"}\n"
      ],
      "text/plain": [
       "<IPython.core.display.HTML object>"
      ]
     },
     "execution_count": 19,
     "metadata": {},
     "output_type": "execute_result"
    }
   ],
   "source": [
    "body = json.dumps({'documents': {i[0]: i[1] \n",
    "                                 for i in dev_df[['qid1', 'question1']].values.tolist()}})\n",
    "res = requests.post('http://127.0.0.1:11000/update_index',\n",
    "                    json=body)\n",
    "HTML(res.content.decode('utf-8'))"
   ]
  },
  {
   "cell_type": "code",
   "execution_count": 20,
   "metadata": {},
   "outputs": [
    {
     "data": {
      "text/html": [
       "{\"lang_check\":[false,true],\"suggestions\":[null,[[\"303345\",\"Why are African-Americans so beautiful?\"],[\"359808\",\"Why do most women find white men to be the most attractive?\"],[\"485494\",\"Do people ever find other people attractive?\"],[\"7305\",\"What are the things that make Indians happy and proud?\"],[\"139042\",\"Why do poor people become poorer and the rich get richer?\"],[\"459970\",\"What are the most common regrets that people have once they grow old?\"],[\"177159\",\"Why Indian men are not so romantic?\"],[\"5158\",\"Why are Indians so obsessed about what people from other countries think about India?\"],[\"105268\",\"Why are most British people so racist towards black people?\"],[\"318474\",\"Do most people still think possessions are staged?\"]]]}\n"
      ],
      "text/plain": [
       "<IPython.core.display.HTML object>"
      ]
     },
     "execution_count": 20,
     "metadata": {},
     "output_type": "execute_result"
    }
   ],
   "source": [
    "body = json.dumps({'queries': ['Проверка на язык',\n",
    "                               'Why are African-Americans so beautiful?']},\n",
    "#                   ensure_ascii=False,\n",
    "                 )\n",
    "res = requests.post('http://127.0.0.1:11000/query',\n",
    "                    json=body)\n",
    "HTML(res.content.decode('utf-8'))"
   ]
  }
 ],
 "metadata": {
  "kernelspec": {
   "display_name": "kc_ranking",
   "language": "python",
   "name": "python3"
  },
  "language_info": {
   "codemirror_mode": {
    "name": "ipython",
    "version": 3
   },
   "file_extension": ".py",
   "mimetype": "text/x-python",
   "name": "python",
   "nbconvert_exporter": "python",
   "pygments_lexer": "ipython3",
   "version": "3.8.20"
  }
 },
 "nbformat": 4,
 "nbformat_minor": 2
}
