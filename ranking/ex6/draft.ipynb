{
 "cells": [
  {
   "cell_type": "code",
   "execution_count": 2,
   "metadata": {},
   "outputs": [
    {
     "name": "stdout",
     "output_type": "stream",
     "text": [
      "[255 425 379 740 668]\n"
     ]
    }
   ],
   "source": [
    "import numpy as np\n",
    "\n",
    "from solution import create_sw_graph, nsw\n",
    "\n",
    "np.random.seed(42)\n",
    "query, documents = np.random.randn(1, 5), np.random.randn(1000, 5)\n",
    "# query = np.array([[0.02, 2, 3, 4, 5]])\n",
    "if __name__ == '__main__':\n",
    "    graph = create_sw_graph(documents)\n",
    "    knn = nsw(query, documents, graph, search_k=5)\n",
    "    print(knn)"
   ]
  },
  {
   "cell_type": "code",
   "execution_count": 1,
   "metadata": {},
   "outputs": [
    {
     "name": "stdout",
     "output_type": "stream",
     "text": [
      "[179 834 834 726 782]\n"
     ]
    },
    {
     "name": "stderr",
     "output_type": "stream",
     "text": [
      "/home/kisozinov/miniconda3/envs/kc_ranking/lib/python3.8/site-packages/tqdm/auto.py:21: TqdmWarning: IProgress not found. Please update jupyter and ipywidgets. See https://ipywidgets.readthedocs.io/en/stable/user_install.html\n",
      "  from .autonotebook import tqdm as notebook_tqdm\n"
     ]
    }
   ],
   "source": [
    "import numpy as np\n",
    "\n",
    "from solution import create_sw_graph, nsw\n",
    "\n",
    "np.random.seed(42)\n",
    "query, documents = np.random.randn(1, 5), np.random.randn(1000, 5)\n",
    "# query = np.array([[0.02, 2, 3, 4, 5]])\n",
    "if __name__ == '__main__':\n",
    "    graph = create_sw_graph(documents)\n",
    "    knn = nsw(query, documents, graph, search_k=5)\n",
    "    print(knn)"
   ]
  }
 ],
 "metadata": {
  "kernelspec": {
   "display_name": "kc_ranking",
   "language": "python",
   "name": "python3"
  },
  "language_info": {
   "codemirror_mode": {
    "name": "ipython",
    "version": 3
   },
   "file_extension": ".py",
   "mimetype": "text/x-python",
   "name": "python",
   "nbconvert_exporter": "python",
   "pygments_lexer": "ipython3",
   "version": "3.8.20"
  }
 },
 "nbformat": 4,
 "nbformat_minor": 2
}
